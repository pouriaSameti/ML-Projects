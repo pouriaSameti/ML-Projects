{
 "cells": [
  {
   "cell_type": "code",
   "execution_count": 37,
   "outputs": [],
   "source": [
    "import pandas as pd\n",
    "import numpy as np"
   ],
   "metadata": {
    "collapsed": false,
    "pycharm": {
     "name": "#%%\n"
    }
   }
  },
  {
   "cell_type": "code",
   "execution_count": 38,
   "outputs": [
    {
     "data": {
      "text/plain": "      Unnamed: 0 label                                               text  \\\n0            605   ham  Subject: enron methanol ; meter # : 988291\\r\\n...   \n1           2349   ham  Subject: hpl nom for january 9 , 2001\\r\\n( see...   \n2           3624   ham  Subject: neon retreat\\r\\nho ho ho , we ' re ar...   \n3           4685  spam  Subject: photoshop , windows , office . cheap ...   \n4           2030   ham  Subject: re : indian springs\\r\\nthis deal is t...   \n...          ...   ...                                                ...   \n5166        1518   ham  Subject: put the 10 on the ft\\r\\nthe transport...   \n5167         404   ham  Subject: 3 / 4 / 2000 and following noms\\r\\nhp...   \n5168        2933   ham  Subject: calpine daily gas nomination\\r\\n>\\r\\n...   \n5169        1409   ham  Subject: industrial worksheets for august 2000...   \n5170        4807  spam  Subject: important online banking alert\\r\\ndea...   \n\n      label_num  \n0             0  \n1             0  \n2             0  \n3             1  \n4             0  \n...         ...  \n5166          0  \n5167          0  \n5168          0  \n5169          0  \n5170          1  \n\n[5171 rows x 4 columns]",
      "text/html": "<div>\n<style scoped>\n    .dataframe tbody tr th:only-of-type {\n        vertical-align: middle;\n    }\n\n    .dataframe tbody tr th {\n        vertical-align: top;\n    }\n\n    .dataframe thead th {\n        text-align: right;\n    }\n</style>\n<table border=\"1\" class=\"dataframe\">\n  <thead>\n    <tr style=\"text-align: right;\">\n      <th></th>\n      <th>Unnamed: 0</th>\n      <th>label</th>\n      <th>text</th>\n      <th>label_num</th>\n    </tr>\n  </thead>\n  <tbody>\n    <tr>\n      <th>0</th>\n      <td>605</td>\n      <td>ham</td>\n      <td>Subject: enron methanol ; meter # : 988291\\r\\n...</td>\n      <td>0</td>\n    </tr>\n    <tr>\n      <th>1</th>\n      <td>2349</td>\n      <td>ham</td>\n      <td>Subject: hpl nom for january 9 , 2001\\r\\n( see...</td>\n      <td>0</td>\n    </tr>\n    <tr>\n      <th>2</th>\n      <td>3624</td>\n      <td>ham</td>\n      <td>Subject: neon retreat\\r\\nho ho ho , we ' re ar...</td>\n      <td>0</td>\n    </tr>\n    <tr>\n      <th>3</th>\n      <td>4685</td>\n      <td>spam</td>\n      <td>Subject: photoshop , windows , office . cheap ...</td>\n      <td>1</td>\n    </tr>\n    <tr>\n      <th>4</th>\n      <td>2030</td>\n      <td>ham</td>\n      <td>Subject: re : indian springs\\r\\nthis deal is t...</td>\n      <td>0</td>\n    </tr>\n    <tr>\n      <th>...</th>\n      <td>...</td>\n      <td>...</td>\n      <td>...</td>\n      <td>...</td>\n    </tr>\n    <tr>\n      <th>5166</th>\n      <td>1518</td>\n      <td>ham</td>\n      <td>Subject: put the 10 on the ft\\r\\nthe transport...</td>\n      <td>0</td>\n    </tr>\n    <tr>\n      <th>5167</th>\n      <td>404</td>\n      <td>ham</td>\n      <td>Subject: 3 / 4 / 2000 and following noms\\r\\nhp...</td>\n      <td>0</td>\n    </tr>\n    <tr>\n      <th>5168</th>\n      <td>2933</td>\n      <td>ham</td>\n      <td>Subject: calpine daily gas nomination\\r\\n&gt;\\r\\n...</td>\n      <td>0</td>\n    </tr>\n    <tr>\n      <th>5169</th>\n      <td>1409</td>\n      <td>ham</td>\n      <td>Subject: industrial worksheets for august 2000...</td>\n      <td>0</td>\n    </tr>\n    <tr>\n      <th>5170</th>\n      <td>4807</td>\n      <td>spam</td>\n      <td>Subject: important online banking alert\\r\\ndea...</td>\n      <td>1</td>\n    </tr>\n  </tbody>\n</table>\n<p>5171 rows × 4 columns</p>\n</div>"
     },
     "execution_count": 38,
     "metadata": {},
     "output_type": "execute_result"
    }
   ],
   "source": [
    "#reading data\n",
    "dataset = pd.read_csv('Dataset/spam_ham_dataset.csv')\n",
    "dataset"
   ],
   "metadata": {
    "collapsed": false,
    "pycharm": {
     "name": "#%%\n"
    }
   }
  },
  {
   "cell_type": "code",
   "execution_count": 39,
   "outputs": [
    {
     "data": {
      "text/plain": "Unnamed: 0    False\nlabel         False\ntext          False\nlabel_num     False\ndtype: bool"
     },
     "execution_count": 39,
     "metadata": {},
     "output_type": "execute_result"
    }
   ],
   "source": [
    "#checking NAN values\n",
    "dataset.isnull().any()"
   ],
   "metadata": {
    "collapsed": false,
    "pycharm": {
     "name": "#%%\n"
    }
   }
  },
  {
   "cell_type": "code",
   "execution_count": 40,
   "outputs": [
    {
     "data": {
      "text/plain": "      Unnamed: 0 label                                               text  \\\n0            605   ham  subject  enron methanol   meter      \\r this i...   \n1           2349   ham  subject  hpl nom for january      \\r   see att...   \n2           3624   ham  subject  neon retreat\\r ho ho ho   we   re aro...   \n3           4685  spam  subject  photoshop   windows   office   cheap ...   \n4           2030   ham  subject  re   indian springs\\r this deal is to...   \n...          ...   ...                                                ...   \n5166        1518   ham  subject  put the   on the ft\\r the transport v...   \n5167         404   ham  subject            and following noms\\r hpl ca...   \n5168        2933   ham  subject  calpine daily gas nomination\\r  \\r  \\...   \n5169        1409   ham  subject  industrial worksheets for august   ac...   \n5170        4807  spam  subject  important online banking alert\\r dear...   \n\n      label_num  \n0             0  \n1             0  \n2             0  \n3             1  \n4             0  \n...         ...  \n5166          0  \n5167          0  \n5168          0  \n5169          0  \n5170          1  \n\n[5171 rows x 4 columns]",
      "text/html": "<div>\n<style scoped>\n    .dataframe tbody tr th:only-of-type {\n        vertical-align: middle;\n    }\n\n    .dataframe tbody tr th {\n        vertical-align: top;\n    }\n\n    .dataframe thead th {\n        text-align: right;\n    }\n</style>\n<table border=\"1\" class=\"dataframe\">\n  <thead>\n    <tr style=\"text-align: right;\">\n      <th></th>\n      <th>Unnamed: 0</th>\n      <th>label</th>\n      <th>text</th>\n      <th>label_num</th>\n    </tr>\n  </thead>\n  <tbody>\n    <tr>\n      <th>0</th>\n      <td>605</td>\n      <td>ham</td>\n      <td>subject  enron methanol   meter      \\r this i...</td>\n      <td>0</td>\n    </tr>\n    <tr>\n      <th>1</th>\n      <td>2349</td>\n      <td>ham</td>\n      <td>subject  hpl nom for january      \\r   see att...</td>\n      <td>0</td>\n    </tr>\n    <tr>\n      <th>2</th>\n      <td>3624</td>\n      <td>ham</td>\n      <td>subject  neon retreat\\r ho ho ho   we   re aro...</td>\n      <td>0</td>\n    </tr>\n    <tr>\n      <th>3</th>\n      <td>4685</td>\n      <td>spam</td>\n      <td>subject  photoshop   windows   office   cheap ...</td>\n      <td>1</td>\n    </tr>\n    <tr>\n      <th>4</th>\n      <td>2030</td>\n      <td>ham</td>\n      <td>subject  re   indian springs\\r this deal is to...</td>\n      <td>0</td>\n    </tr>\n    <tr>\n      <th>...</th>\n      <td>...</td>\n      <td>...</td>\n      <td>...</td>\n      <td>...</td>\n    </tr>\n    <tr>\n      <th>5166</th>\n      <td>1518</td>\n      <td>ham</td>\n      <td>subject  put the   on the ft\\r the transport v...</td>\n      <td>0</td>\n    </tr>\n    <tr>\n      <th>5167</th>\n      <td>404</td>\n      <td>ham</td>\n      <td>subject            and following noms\\r hpl ca...</td>\n      <td>0</td>\n    </tr>\n    <tr>\n      <th>5168</th>\n      <td>2933</td>\n      <td>ham</td>\n      <td>subject  calpine daily gas nomination\\r  \\r  \\...</td>\n      <td>0</td>\n    </tr>\n    <tr>\n      <th>5169</th>\n      <td>1409</td>\n      <td>ham</td>\n      <td>subject  industrial worksheets for august   ac...</td>\n      <td>0</td>\n    </tr>\n    <tr>\n      <th>5170</th>\n      <td>4807</td>\n      <td>spam</td>\n      <td>subject  important online banking alert\\r dear...</td>\n      <td>1</td>\n    </tr>\n  </tbody>\n</table>\n<p>5171 rows × 4 columns</p>\n</div>"
     },
     "execution_count": 40,
     "metadata": {},
     "output_type": "execute_result"
    }
   ],
   "source": [
    "# clean string data\n",
    "import re\n",
    "import string\n",
    "\n",
    "def clean_text(text):\n",
    "    text = text.lower()\n",
    "    text = re.sub('\\[.*?\\]', ' ', text)\n",
    "    text = re.sub('https?://\\S+|www\\.\\S+', ' ', text)\n",
    "    text = re.sub('<.*?>+', ' ', text)\n",
    "    text = re.sub('\\n', ' ', text)\n",
    "    text = re.sub('\\w*\\d\\w*', ' ', text)\n",
    "    text = re.sub('[%s]' % re.escape(string.punctuation), ' ', text)\n",
    "    return text\n",
    "\n",
    "dataset['text'] = dataset['text'].map(lambda x: clean_text(x))\n",
    "dataset"
   ],
   "metadata": {
    "collapsed": false,
    "pycharm": {
     "name": "#%%\n"
    }
   }
  },
  {
   "cell_type": "code",
   "execution_count": 41,
   "outputs": [
    {
     "data": {
      "text/plain": "      Unnamed: 0 label                                               text  \\\n0            605   ham  [subject, enron, methanol, meter, this, is, a,...   \n1           2349   ham  [subject, hpl, nom, for, january, see, attache...   \n2           3624   ham  [subject, neon, retreat, ho, ho, ho, we, re, a...   \n3           4685  spam  [subject, photoshop, windows, office, cheap, m...   \n4           2030   ham  [subject, re, indian, springs, this, deal, is,...   \n...          ...   ...                                                ...   \n5166        1518   ham  [subject, put, the, on, the, ft, the, transpor...   \n5167         404   ham  [subject, and, following, noms, hpl, can, t, t...   \n5168        2933   ham  [subject, calpine, daily, gas, nomination, jul...   \n5169        1409   ham  [subject, industrial, worksheets, for, august,...   \n5170        4807  spam  [subject, important, online, banking, alert, d...   \n\n      label_num  \n0             0  \n1             0  \n2             0  \n3             1  \n4             0  \n...         ...  \n5166          0  \n5167          0  \n5168          0  \n5169          0  \n5170          1  \n\n[5171 rows x 4 columns]",
      "text/html": "<div>\n<style scoped>\n    .dataframe tbody tr th:only-of-type {\n        vertical-align: middle;\n    }\n\n    .dataframe tbody tr th {\n        vertical-align: top;\n    }\n\n    .dataframe thead th {\n        text-align: right;\n    }\n</style>\n<table border=\"1\" class=\"dataframe\">\n  <thead>\n    <tr style=\"text-align: right;\">\n      <th></th>\n      <th>Unnamed: 0</th>\n      <th>label</th>\n      <th>text</th>\n      <th>label_num</th>\n    </tr>\n  </thead>\n  <tbody>\n    <tr>\n      <th>0</th>\n      <td>605</td>\n      <td>ham</td>\n      <td>[subject, enron, methanol, meter, this, is, a,...</td>\n      <td>0</td>\n    </tr>\n    <tr>\n      <th>1</th>\n      <td>2349</td>\n      <td>ham</td>\n      <td>[subject, hpl, nom, for, january, see, attache...</td>\n      <td>0</td>\n    </tr>\n    <tr>\n      <th>2</th>\n      <td>3624</td>\n      <td>ham</td>\n      <td>[subject, neon, retreat, ho, ho, ho, we, re, a...</td>\n      <td>0</td>\n    </tr>\n    <tr>\n      <th>3</th>\n      <td>4685</td>\n      <td>spam</td>\n      <td>[subject, photoshop, windows, office, cheap, m...</td>\n      <td>1</td>\n    </tr>\n    <tr>\n      <th>4</th>\n      <td>2030</td>\n      <td>ham</td>\n      <td>[subject, re, indian, springs, this, deal, is,...</td>\n      <td>0</td>\n    </tr>\n    <tr>\n      <th>...</th>\n      <td>...</td>\n      <td>...</td>\n      <td>...</td>\n      <td>...</td>\n    </tr>\n    <tr>\n      <th>5166</th>\n      <td>1518</td>\n      <td>ham</td>\n      <td>[subject, put, the, on, the, ft, the, transpor...</td>\n      <td>0</td>\n    </tr>\n    <tr>\n      <th>5167</th>\n      <td>404</td>\n      <td>ham</td>\n      <td>[subject, and, following, noms, hpl, can, t, t...</td>\n      <td>0</td>\n    </tr>\n    <tr>\n      <th>5168</th>\n      <td>2933</td>\n      <td>ham</td>\n      <td>[subject, calpine, daily, gas, nomination, jul...</td>\n      <td>0</td>\n    </tr>\n    <tr>\n      <th>5169</th>\n      <td>1409</td>\n      <td>ham</td>\n      <td>[subject, industrial, worksheets, for, august,...</td>\n      <td>0</td>\n    </tr>\n    <tr>\n      <th>5170</th>\n      <td>4807</td>\n      <td>spam</td>\n      <td>[subject, important, online, banking, alert, d...</td>\n      <td>1</td>\n    </tr>\n  </tbody>\n</table>\n<p>5171 rows × 4 columns</p>\n</div>"
     },
     "execution_count": 41,
     "metadata": {},
     "output_type": "execute_result"
    }
   ],
   "source": [
    "# Tokenizing text\n",
    "import nltk\n",
    "tokenizer = nltk.tokenize.RegexpTokenizer(r'\\w+')\n",
    "dataset['text'] = dataset['text'].map(lambda x: tokenizer.tokenize(x))\n",
    "dataset"
   ],
   "metadata": {
    "collapsed": false,
    "pycharm": {
     "name": "#%%\n"
    }
   }
  },
  {
   "cell_type": "code",
   "execution_count": 42,
   "outputs": [
    {
     "data": {
      "text/plain": "      Unnamed: 0 label                                               text  \\\n0            605   ham  [subject, enron, methanol, meter, follow, note...   \n1           2349   ham  [subject, hpl, nom, january, see, attached, fi...   \n2           3624   ham  [subject, neon, retreat, ho, ho, ho, around, w...   \n3           4685  spam  [subject, photoshop, windows, office, cheap, m...   \n4           2030   ham  [subject, indian, springs, deal, book, teco, p...   \n...          ...   ...                                                ...   \n5166        1518   ham  [subject, put, ft, transport, volumes, decreas...   \n5167         404   ham  [subject, following, noms, hpl, take, extra, m...   \n5168        2933   ham  [subject, calpine, daily, gas, nomination, jul...   \n5169        1409   ham  [subject, industrial, worksheets, august, acti...   \n5170        4807  spam  [subject, important, online, banking, alert, d...   \n\n      label_num  \n0             0  \n1             0  \n2             0  \n3             1  \n4             0  \n...         ...  \n5166          0  \n5167          0  \n5168          0  \n5169          0  \n5170          1  \n\n[5171 rows x 4 columns]",
      "text/html": "<div>\n<style scoped>\n    .dataframe tbody tr th:only-of-type {\n        vertical-align: middle;\n    }\n\n    .dataframe tbody tr th {\n        vertical-align: top;\n    }\n\n    .dataframe thead th {\n        text-align: right;\n    }\n</style>\n<table border=\"1\" class=\"dataframe\">\n  <thead>\n    <tr style=\"text-align: right;\">\n      <th></th>\n      <th>Unnamed: 0</th>\n      <th>label</th>\n      <th>text</th>\n      <th>label_num</th>\n    </tr>\n  </thead>\n  <tbody>\n    <tr>\n      <th>0</th>\n      <td>605</td>\n      <td>ham</td>\n      <td>[subject, enron, methanol, meter, follow, note...</td>\n      <td>0</td>\n    </tr>\n    <tr>\n      <th>1</th>\n      <td>2349</td>\n      <td>ham</td>\n      <td>[subject, hpl, nom, january, see, attached, fi...</td>\n      <td>0</td>\n    </tr>\n    <tr>\n      <th>2</th>\n      <td>3624</td>\n      <td>ham</td>\n      <td>[subject, neon, retreat, ho, ho, ho, around, w...</td>\n      <td>0</td>\n    </tr>\n    <tr>\n      <th>3</th>\n      <td>4685</td>\n      <td>spam</td>\n      <td>[subject, photoshop, windows, office, cheap, m...</td>\n      <td>1</td>\n    </tr>\n    <tr>\n      <th>4</th>\n      <td>2030</td>\n      <td>ham</td>\n      <td>[subject, indian, springs, deal, book, teco, p...</td>\n      <td>0</td>\n    </tr>\n    <tr>\n      <th>...</th>\n      <td>...</td>\n      <td>...</td>\n      <td>...</td>\n      <td>...</td>\n    </tr>\n    <tr>\n      <th>5166</th>\n      <td>1518</td>\n      <td>ham</td>\n      <td>[subject, put, ft, transport, volumes, decreas...</td>\n      <td>0</td>\n    </tr>\n    <tr>\n      <th>5167</th>\n      <td>404</td>\n      <td>ham</td>\n      <td>[subject, following, noms, hpl, take, extra, m...</td>\n      <td>0</td>\n    </tr>\n    <tr>\n      <th>5168</th>\n      <td>2933</td>\n      <td>ham</td>\n      <td>[subject, calpine, daily, gas, nomination, jul...</td>\n      <td>0</td>\n    </tr>\n    <tr>\n      <th>5169</th>\n      <td>1409</td>\n      <td>ham</td>\n      <td>[subject, industrial, worksheets, august, acti...</td>\n      <td>0</td>\n    </tr>\n    <tr>\n      <th>5170</th>\n      <td>4807</td>\n      <td>spam</td>\n      <td>[subject, important, online, banking, alert, d...</td>\n      <td>1</td>\n    </tr>\n  </tbody>\n</table>\n<p>5171 rows × 4 columns</p>\n</div>"
     },
     "execution_count": 42,
     "metadata": {},
     "output_type": "execute_result"
    }
   ],
   "source": [
    "# stopwords removal\n",
    "from nltk.corpus import stopwords\n",
    "\n",
    "def remove_stopwords(text):\n",
    "    stop_word = list(set(stopwords.words('english')))\n",
    "    words = [w for w in text if w not in stop_word]\n",
    "    return words\n",
    "\n",
    "dataset['text'] = dataset['text'].map(lambda x: remove_stopwords(x))\n",
    "dataset"
   ],
   "metadata": {
    "collapsed": false,
    "pycharm": {
     "name": "#%%\n"
    }
   }
  },
  {
   "cell_type": "code",
   "execution_count": 43,
   "outputs": [
    {
     "data": {
      "text/plain": "      Unnamed: 0 label                                               text  \\\n0            605   ham  [subject, enron, methanol, meter, follow, note...   \n1           2349   ham  [subject, hpl, nom, januari, see, attach, file...   \n2           3624   ham  [subject, neon, retreat, ho, ho, ho, around, w...   \n3           4685  spam  [subject, photoshop, window, offic, cheap, mai...   \n4           2030   ham  [subject, indian, spring, deal, book, teco, pv...   \n...          ...   ...                                                ...   \n5166        1518   ham  [subject, put, ft, transport, volum, decreas, ...   \n5167         404   ham  [subject, follow, nom, hpl, take, extra, mmcf,...   \n5168        2933   ham  [subject, calpin, daili, ga, nomin, juli, ment...   \n5169        1409   ham  [subject, industri, worksheet, august, activ, ...   \n5170        4807  spam  [subject, import, onlin, bank, alert, dear, va...   \n\n      label_num  \n0             0  \n1             0  \n2             0  \n3             1  \n4             0  \n...         ...  \n5166          0  \n5167          0  \n5168          0  \n5169          0  \n5170          1  \n\n[5171 rows x 4 columns]",
      "text/html": "<div>\n<style scoped>\n    .dataframe tbody tr th:only-of-type {\n        vertical-align: middle;\n    }\n\n    .dataframe tbody tr th {\n        vertical-align: top;\n    }\n\n    .dataframe thead th {\n        text-align: right;\n    }\n</style>\n<table border=\"1\" class=\"dataframe\">\n  <thead>\n    <tr style=\"text-align: right;\">\n      <th></th>\n      <th>Unnamed: 0</th>\n      <th>label</th>\n      <th>text</th>\n      <th>label_num</th>\n    </tr>\n  </thead>\n  <tbody>\n    <tr>\n      <th>0</th>\n      <td>605</td>\n      <td>ham</td>\n      <td>[subject, enron, methanol, meter, follow, note...</td>\n      <td>0</td>\n    </tr>\n    <tr>\n      <th>1</th>\n      <td>2349</td>\n      <td>ham</td>\n      <td>[subject, hpl, nom, januari, see, attach, file...</td>\n      <td>0</td>\n    </tr>\n    <tr>\n      <th>2</th>\n      <td>3624</td>\n      <td>ham</td>\n      <td>[subject, neon, retreat, ho, ho, ho, around, w...</td>\n      <td>0</td>\n    </tr>\n    <tr>\n      <th>3</th>\n      <td>4685</td>\n      <td>spam</td>\n      <td>[subject, photoshop, window, offic, cheap, mai...</td>\n      <td>1</td>\n    </tr>\n    <tr>\n      <th>4</th>\n      <td>2030</td>\n      <td>ham</td>\n      <td>[subject, indian, spring, deal, book, teco, pv...</td>\n      <td>0</td>\n    </tr>\n    <tr>\n      <th>...</th>\n      <td>...</td>\n      <td>...</td>\n      <td>...</td>\n      <td>...</td>\n    </tr>\n    <tr>\n      <th>5166</th>\n      <td>1518</td>\n      <td>ham</td>\n      <td>[subject, put, ft, transport, volum, decreas, ...</td>\n      <td>0</td>\n    </tr>\n    <tr>\n      <th>5167</th>\n      <td>404</td>\n      <td>ham</td>\n      <td>[subject, follow, nom, hpl, take, extra, mmcf,...</td>\n      <td>0</td>\n    </tr>\n    <tr>\n      <th>5168</th>\n      <td>2933</td>\n      <td>ham</td>\n      <td>[subject, calpin, daili, ga, nomin, juli, ment...</td>\n      <td>0</td>\n    </tr>\n    <tr>\n      <th>5169</th>\n      <td>1409</td>\n      <td>ham</td>\n      <td>[subject, industri, worksheet, august, activ, ...</td>\n      <td>0</td>\n    </tr>\n    <tr>\n      <th>5170</th>\n      <td>4807</td>\n      <td>spam</td>\n      <td>[subject, import, onlin, bank, alert, dear, va...</td>\n      <td>1</td>\n    </tr>\n  </tbody>\n</table>\n<p>5171 rows × 4 columns</p>\n</div>"
     },
     "execution_count": 43,
     "metadata": {},
     "output_type": "execute_result"
    }
   ],
   "source": [
    "# Stemming & lemmatization\n",
    "\n",
    "stemmer_en = nltk.stem.PorterStemmer()\n",
    "lemmatizer_en = nltk.stem.WordNetLemmatizer()\n",
    "\n",
    "\n",
    "def apply_stm_lem(tokens):\n",
    "    words = [stemmer_en.stem(token) for token in tokens]\n",
    "    words = [lemmatizer_en.lemmatize(token) for token in words]\n",
    "    return words\n",
    "\n",
    "dataset['text'] = dataset['text'].map(lambda x: apply_stm_lem(x))\n",
    "dataset"
   ],
   "metadata": {
    "collapsed": false,
    "pycharm": {
     "name": "#%%\n"
    }
   }
  },
  {
   "cell_type": "code",
   "execution_count": 44,
   "outputs": [
    {
     "data": {
      "text/plain": "      Unnamed: 0 label                                               text  \\\n0            605   ham  [enron, need, monday, purpos, econom, volum, a...   \n1           2349   ham  [januari, subject, see, hpl, nom, xl, attach, ...   \n2           3624   ham  [come, decemb, holiday, major, www, soon, emai...   \n3           4685  spam  [window, charm, photoshop, bayda, railroad, of...   \n4           2030   ham  [need, chase, understand, teco, deal, receiv, ...   \n...          ...   ...                                                ...   \n5166        1518   ham  [enron, see, hpl, ami, cc, chokshi, volum, rel...   \n5167         404   ham  [take, carthag, enron, chad, spencer, next, hp...   \n5168        2933   ham  [difficulti, doc, mention, earlier, afternoon,...   \n5169        1409   ham  [worksheet, captur, activ, delay, robert, augu...   \n5170        4807  spam  [come, could, take, servic, renew, may, mail, ...   \n\n      label_num  \n0             0  \n1             0  \n2             0  \n3             1  \n4             0  \n...         ...  \n5166          0  \n5167          0  \n5168          0  \n5169          0  \n5170          1  \n\n[5171 rows x 4 columns]",
      "text/html": "<div>\n<style scoped>\n    .dataframe tbody tr th:only-of-type {\n        vertical-align: middle;\n    }\n\n    .dataframe tbody tr th {\n        vertical-align: top;\n    }\n\n    .dataframe thead th {\n        text-align: right;\n    }\n</style>\n<table border=\"1\" class=\"dataframe\">\n  <thead>\n    <tr style=\"text-align: right;\">\n      <th></th>\n      <th>Unnamed: 0</th>\n      <th>label</th>\n      <th>text</th>\n      <th>label_num</th>\n    </tr>\n  </thead>\n  <tbody>\n    <tr>\n      <th>0</th>\n      <td>605</td>\n      <td>ham</td>\n      <td>[enron, need, monday, purpos, econom, volum, a...</td>\n      <td>0</td>\n    </tr>\n    <tr>\n      <th>1</th>\n      <td>2349</td>\n      <td>ham</td>\n      <td>[januari, subject, see, hpl, nom, xl, attach, ...</td>\n      <td>0</td>\n    </tr>\n    <tr>\n      <th>2</th>\n      <td>3624</td>\n      <td>ham</td>\n      <td>[come, decemb, holiday, major, www, soon, emai...</td>\n      <td>0</td>\n    </tr>\n    <tr>\n      <th>3</th>\n      <td>4685</td>\n      <td>spam</td>\n      <td>[window, charm, photoshop, bayda, railroad, of...</td>\n      <td>1</td>\n    </tr>\n    <tr>\n      <th>4</th>\n      <td>2030</td>\n      <td>ham</td>\n      <td>[need, chase, understand, teco, deal, receiv, ...</td>\n      <td>0</td>\n    </tr>\n    <tr>\n      <th>...</th>\n      <td>...</td>\n      <td>...</td>\n      <td>...</td>\n      <td>...</td>\n    </tr>\n    <tr>\n      <th>5166</th>\n      <td>1518</td>\n      <td>ham</td>\n      <td>[enron, see, hpl, ami, cc, chokshi, volum, rel...</td>\n      <td>0</td>\n    </tr>\n    <tr>\n      <th>5167</th>\n      <td>404</td>\n      <td>ham</td>\n      <td>[take, carthag, enron, chad, spencer, next, hp...</td>\n      <td>0</td>\n    </tr>\n    <tr>\n      <th>5168</th>\n      <td>2933</td>\n      <td>ham</td>\n      <td>[difficulti, doc, mention, earlier, afternoon,...</td>\n      <td>0</td>\n    </tr>\n    <tr>\n      <th>5169</th>\n      <td>1409</td>\n      <td>ham</td>\n      <td>[worksheet, captur, activ, delay, robert, augu...</td>\n      <td>0</td>\n    </tr>\n    <tr>\n      <th>5170</th>\n      <td>4807</td>\n      <td>spam</td>\n      <td>[come, could, take, servic, renew, may, mail, ...</td>\n      <td>1</td>\n    </tr>\n  </tbody>\n</table>\n<p>5171 rows × 4 columns</p>\n</div>"
     },
     "execution_count": 44,
     "metadata": {},
     "output_type": "execute_result"
    }
   ],
   "source": [
    "# length filter\n",
    "def len_filter(x):\n",
    "    return list(set([word for word in x if len(word) >= 2]))\n",
    "\n",
    "dataset['text'] = dataset['text'].map(lambda x: len_filter(x))\n",
    "dataset"
   ],
   "metadata": {
    "collapsed": false,
    "pycharm": {
     "name": "#%%\n"
    }
   }
  },
  {
   "cell_type": "code",
   "execution_count": 45,
   "outputs": [
    {
     "data": {
      "text/plain": "      Unnamed: 0 label                                               text  \\\n0            605   ham  enron need monday purpos econom volum activ ze...   \n1           2349   ham  januari subject see hpl nom xl attach file hplnol   \n2           3624   ham  come decemb holiday major www soon email bobbi...   \n3           4685  spam  window charm photoshop bayda railroad offic ma...   \n4           2030   ham  need chase understand teco deal receiv book le...   \n...          ...   ...                                                ...   \n5166        1518   ham  enron see hpl ami cc chokshi volum reliantener...   \n5167         404   ham  take carthag enron chad spencer next hpl dfarm...   \n5168        2933   ham  difficulti doc mention earlier afternoon arche...   \n5169        1409   ham  worksheet captur activ delay robert august thr...   \n5170        4807  spam  come could take servic renew may mail valu sus...   \n\n      label_num  \n0             0  \n1             0  \n2             0  \n3             1  \n4             0  \n...         ...  \n5166          0  \n5167          0  \n5168          0  \n5169          0  \n5170          1  \n\n[5171 rows x 4 columns]",
      "text/html": "<div>\n<style scoped>\n    .dataframe tbody tr th:only-of-type {\n        vertical-align: middle;\n    }\n\n    .dataframe tbody tr th {\n        vertical-align: top;\n    }\n\n    .dataframe thead th {\n        text-align: right;\n    }\n</style>\n<table border=\"1\" class=\"dataframe\">\n  <thead>\n    <tr style=\"text-align: right;\">\n      <th></th>\n      <th>Unnamed: 0</th>\n      <th>label</th>\n      <th>text</th>\n      <th>label_num</th>\n    </tr>\n  </thead>\n  <tbody>\n    <tr>\n      <th>0</th>\n      <td>605</td>\n      <td>ham</td>\n      <td>enron need monday purpos econom volum activ ze...</td>\n      <td>0</td>\n    </tr>\n    <tr>\n      <th>1</th>\n      <td>2349</td>\n      <td>ham</td>\n      <td>januari subject see hpl nom xl attach file hplnol</td>\n      <td>0</td>\n    </tr>\n    <tr>\n      <th>2</th>\n      <td>3624</td>\n      <td>ham</td>\n      <td>come decemb holiday major www soon email bobbi...</td>\n      <td>0</td>\n    </tr>\n    <tr>\n      <th>3</th>\n      <td>4685</td>\n      <td>spam</td>\n      <td>window charm photoshop bayda railroad offic ma...</td>\n      <td>1</td>\n    </tr>\n    <tr>\n      <th>4</th>\n      <td>2030</td>\n      <td>ham</td>\n      <td>need chase understand teco deal receiv book le...</td>\n      <td>0</td>\n    </tr>\n    <tr>\n      <th>...</th>\n      <td>...</td>\n      <td>...</td>\n      <td>...</td>\n      <td>...</td>\n    </tr>\n    <tr>\n      <th>5166</th>\n      <td>1518</td>\n      <td>ham</td>\n      <td>enron see hpl ami cc chokshi volum reliantener...</td>\n      <td>0</td>\n    </tr>\n    <tr>\n      <th>5167</th>\n      <td>404</td>\n      <td>ham</td>\n      <td>take carthag enron chad spencer next hpl dfarm...</td>\n      <td>0</td>\n    </tr>\n    <tr>\n      <th>5168</th>\n      <td>2933</td>\n      <td>ham</td>\n      <td>difficulti doc mention earlier afternoon arche...</td>\n      <td>0</td>\n    </tr>\n    <tr>\n      <th>5169</th>\n      <td>1409</td>\n      <td>ham</td>\n      <td>worksheet captur activ delay robert august thr...</td>\n      <td>0</td>\n    </tr>\n    <tr>\n      <th>5170</th>\n      <td>4807</td>\n      <td>spam</td>\n      <td>come could take servic renew may mail valu sus...</td>\n      <td>1</td>\n    </tr>\n  </tbody>\n</table>\n<p>5171 rows × 4 columns</p>\n</div>"
     },
     "execution_count": 45,
     "metadata": {},
     "output_type": "execute_result"
    }
   ],
   "source": [
    "# joining tokenized text\n",
    "def join_text(list_of_words):\n",
    "    return ' '.join(list_of_words)\n",
    "\n",
    "dataset['text'] = dataset['text'].map(lambda x: join_text(x))\n",
    "dataset"
   ],
   "metadata": {
    "collapsed": false,
    "pycharm": {
     "name": "#%%\n"
    }
   }
  },
  {
   "cell_type": "code",
   "execution_count": 46,
   "outputs": [],
   "source": [
    "from sklearn.feature_extraction.text import TfidfVectorizer, CountVectorizer\n",
    "\n",
    "vec = TfidfVectorizer()\n",
    "dataset = pd.concat([dataset, pd.DataFrame(vec.fit_transform(dataset['text']).toarray())], axis=1)"
   ],
   "metadata": {
    "collapsed": false,
    "pycharm": {
     "name": "#%%\n"
    }
   }
  },
  {
   "cell_type": "code",
   "execution_count": 47,
   "outputs": [],
   "source": [
    "#spilliting dataset\n",
    "from sklearn.model_selection import train_test_split\n",
    "\n",
    "dataset = dataset.drop(columns=['text', 'label'])\n",
    "dataset.rename(columns={'Unnamed: 0': 40000}, inplace=True)\n",
    "\n",
    "X = dataset.drop(columns='label_num')\n",
    "Y = dataset['label_num']\n",
    "\n",
    "x_train, x_test, y_train, y_test = train_test_split(X, Y, test_size=0.2, random_state=42)"
   ],
   "metadata": {
    "collapsed": false,
    "pycharm": {
     "name": "#%%\n"
    }
   }
  }
 ],
 "metadata": {
  "kernelspec": {
   "display_name": "Python 3",
   "language": "python",
   "name": "python3"
  },
  "language_info": {
   "codemirror_mode": {
    "name": "ipython",
    "version": 2
   },
   "file_extension": ".py",
   "mimetype": "text/x-python",
   "name": "python",
   "nbconvert_exporter": "python",
   "pygments_lexer": "ipython2",
   "version": "2.7.6"
  }
 },
 "nbformat": 4,
 "nbformat_minor": 0
}