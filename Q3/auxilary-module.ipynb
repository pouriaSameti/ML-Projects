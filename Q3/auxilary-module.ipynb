{
 "cells": [
  {
   "cell_type": "code",
   "execution_count": 1,
   "outputs": [],
   "source": [
    "import pandas as pd\n",
    "import numpy as np"
   ],
   "metadata": {
    "collapsed": false,
    "pycharm": {
     "name": "#%%\n"
    }
   }
  },
  {
   "cell_type": "code",
   "execution_count": 4,
   "outputs": [
    {
     "data": {
      "text/plain": "      Unnamed: 0 label                                               text  \\\n0            605   ham  Subject: enron methanol ; meter # : 988291\\r\\n...   \n1           2349   ham  Subject: hpl nom for january 9 , 2001\\r\\n( see...   \n2           3624   ham  Subject: neon retreat\\r\\nho ho ho , we ' re ar...   \n3           4685  spam  Subject: photoshop , windows , office . cheap ...   \n4           2030   ham  Subject: re : indian springs\\r\\nthis deal is t...   \n...          ...   ...                                                ...   \n5166        1518   ham  Subject: put the 10 on the ft\\r\\nthe transport...   \n5167         404   ham  Subject: 3 / 4 / 2000 and following noms\\r\\nhp...   \n5168        2933   ham  Subject: calpine daily gas nomination\\r\\n>\\r\\n...   \n5169        1409   ham  Subject: industrial worksheets for august 2000...   \n5170        4807  spam  Subject: important online banking alert\\r\\ndea...   \n\n      label_num  \n0             0  \n1             0  \n2             0  \n3             1  \n4             0  \n...         ...  \n5166          0  \n5167          0  \n5168          0  \n5169          0  \n5170          1  \n\n[5171 rows x 4 columns]",
      "text/html": "<div>\n<style scoped>\n    .dataframe tbody tr th:only-of-type {\n        vertical-align: middle;\n    }\n\n    .dataframe tbody tr th {\n        vertical-align: top;\n    }\n\n    .dataframe thead th {\n        text-align: right;\n    }\n</style>\n<table border=\"1\" class=\"dataframe\">\n  <thead>\n    <tr style=\"text-align: right;\">\n      <th></th>\n      <th>Unnamed: 0</th>\n      <th>label</th>\n      <th>text</th>\n      <th>label_num</th>\n    </tr>\n  </thead>\n  <tbody>\n    <tr>\n      <th>0</th>\n      <td>605</td>\n      <td>ham</td>\n      <td>Subject: enron methanol ; meter # : 988291\\r\\n...</td>\n      <td>0</td>\n    </tr>\n    <tr>\n      <th>1</th>\n      <td>2349</td>\n      <td>ham</td>\n      <td>Subject: hpl nom for january 9 , 2001\\r\\n( see...</td>\n      <td>0</td>\n    </tr>\n    <tr>\n      <th>2</th>\n      <td>3624</td>\n      <td>ham</td>\n      <td>Subject: neon retreat\\r\\nho ho ho , we ' re ar...</td>\n      <td>0</td>\n    </tr>\n    <tr>\n      <th>3</th>\n      <td>4685</td>\n      <td>spam</td>\n      <td>Subject: photoshop , windows , office . cheap ...</td>\n      <td>1</td>\n    </tr>\n    <tr>\n      <th>4</th>\n      <td>2030</td>\n      <td>ham</td>\n      <td>Subject: re : indian springs\\r\\nthis deal is t...</td>\n      <td>0</td>\n    </tr>\n    <tr>\n      <th>...</th>\n      <td>...</td>\n      <td>...</td>\n      <td>...</td>\n      <td>...</td>\n    </tr>\n    <tr>\n      <th>5166</th>\n      <td>1518</td>\n      <td>ham</td>\n      <td>Subject: put the 10 on the ft\\r\\nthe transport...</td>\n      <td>0</td>\n    </tr>\n    <tr>\n      <th>5167</th>\n      <td>404</td>\n      <td>ham</td>\n      <td>Subject: 3 / 4 / 2000 and following noms\\r\\nhp...</td>\n      <td>0</td>\n    </tr>\n    <tr>\n      <th>5168</th>\n      <td>2933</td>\n      <td>ham</td>\n      <td>Subject: calpine daily gas nomination\\r\\n&gt;\\r\\n...</td>\n      <td>0</td>\n    </tr>\n    <tr>\n      <th>5169</th>\n      <td>1409</td>\n      <td>ham</td>\n      <td>Subject: industrial worksheets for august 2000...</td>\n      <td>0</td>\n    </tr>\n    <tr>\n      <th>5170</th>\n      <td>4807</td>\n      <td>spam</td>\n      <td>Subject: important online banking alert\\r\\ndea...</td>\n      <td>1</td>\n    </tr>\n  </tbody>\n</table>\n<p>5171 rows × 4 columns</p>\n</div>"
     },
     "execution_count": 4,
     "metadata": {},
     "output_type": "execute_result"
    }
   ],
   "source": [
    "#reading data\n",
    "dataset = pd.read_csv('Dataset/spam_ham_dataset.csv')\n",
    "dataset"
   ],
   "metadata": {
    "collapsed": false,
    "pycharm": {
     "name": "#%%\n"
    }
   }
  },
  {
   "cell_type": "code",
   "execution_count": 5,
   "outputs": [
    {
     "data": {
      "text/plain": "Unnamed: 0    False\nlabel         False\ntext          False\nlabel_num     False\ndtype: bool"
     },
     "execution_count": 5,
     "metadata": {},
     "output_type": "execute_result"
    }
   ],
   "source": [
    "#checking NAN values\n",
    "dataset.isnull().any()"
   ],
   "metadata": {
    "collapsed": false,
    "pycharm": {
     "name": "#%%\n"
    }
   }
  }
 ],
 "metadata": {
  "kernelspec": {
   "display_name": "Python 3",
   "language": "python",
   "name": "python3"
  },
  "language_info": {
   "codemirror_mode": {
    "name": "ipython",
    "version": 2
   },
   "file_extension": ".py",
   "mimetype": "text/x-python",
   "name": "python",
   "nbconvert_exporter": "python",
   "pygments_lexer": "ipython2",
   "version": "2.7.6"
  }
 },
 "nbformat": 4,
 "nbformat_minor": 0
}