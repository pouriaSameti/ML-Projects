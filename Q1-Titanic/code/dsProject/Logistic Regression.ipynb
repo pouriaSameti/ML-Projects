{
 "cells": [
  {
   "cell_type": "code",
   "execution_count": 167,
   "outputs": [],
   "source": [
    "import pandas as pd\n",
    "import numpy as np"
   ],
   "metadata": {
    "collapsed": false,
    "pycharm": {
     "name": "#%%\n"
    }
   }
  },
  {
   "cell_type": "code",
   "execution_count": 168,
   "outputs": [],
   "source": [
    "train_data = pd.read_csv(\"../../train.csv\")\n",
    "test_data = pd.read_csv(\"../../test.csv\")"
   ],
   "metadata": {
    "collapsed": false,
    "pycharm": {
     "name": "#%%\n"
    }
   }
  },
  {
   "cell_type": "code",
   "execution_count": 169,
   "outputs": [],
   "source": [
    "#Removing cols\n",
    "\n",
    "#removing 'cabin' column because it has many NAN cols\n",
    "cols = ['Ticket', 'Name', 'Cabin', 'Ticket', 'PassengerId']\n",
    "train_data.drop(columns=cols, inplace=True)\n",
    "test_data.drop(columns=cols, inplace=True)"
   ],
   "metadata": {
    "collapsed": false,
    "pycharm": {
     "name": "#%%\n"
    }
   }
  },
  {
   "cell_type": "code",
   "execution_count": 170,
   "outputs": [
    {
     "data": {
      "text/plain": "Survived      int64\nPclass        int64\nSex          object\nAge         float64\nSibSp         int64\nParch         int64\nFare        float64\nEmbarked     object\ndtype: object"
     },
     "execution_count": 170,
     "metadata": {},
     "output_type": "execute_result"
    }
   ],
   "source": [
    "train_data.dtypes"
   ],
   "metadata": {
    "collapsed": false,
    "pycharm": {
     "name": "#%%\n"
    }
   }
  },
  {
   "cell_type": "code",
   "execution_count": 171,
   "outputs": [
    {
     "data": {
      "text/plain": "Survived    False\nPclass      False\nSex         False\nAge          True\nSibSp       False\nParch       False\nFare        False\nEmbarked     True\ndtype: bool"
     },
     "execution_count": 171,
     "metadata": {},
     "output_type": "execute_result"
    }
   ],
   "source": [
    "train_data.isnull().any()"
   ],
   "metadata": {
    "collapsed": false,
    "pycharm": {
     "name": "#%%\n"
    }
   }
  },
  {
   "cell_type": "code",
   "execution_count": 172,
   "outputs": [],
   "source": [
    "#fill NAN\n",
    "def replace_numeric(columns: list, dataset: pd.DataFrame):\n",
    "    nan_list = dataset.isnull().any()\n",
    "    for col in columns:\n",
    "        if nan_list[col]:\n",
    "            temp = dataset[col]\n",
    "            temp = temp.dropna()\n",
    "            dataset[col].fillna(temp.mean(), inplace=True)\n",
    "\n",
    "def replace_categorical(columns: list, dataset: pd.DataFrame):\n",
    "    nan_list = dataset.isnull().any()\n",
    "    for col in columns:\n",
    "        if nan_list[col]:\n",
    "            temp = dataset[col]\n",
    "            temp = temp.dropna()\n",
    "            dataset[col].fillna(value=temp.mode()[0], inplace=True)\n",
    "\n",
    "numeric_cols = ['Age', 'Fare', 'Parch', 'SibSp']\n",
    "replace_numeric(numeric_cols, train_data)\n",
    "replace_numeric(numeric_cols, test_data)\n",
    "\n",
    "categorical_cols = ['Embarked', 'Sex']\n",
    "replace_categorical(categorical_cols, train_data)\n",
    "replace_categorical(categorical_cols, test_data)"
   ],
   "metadata": {
    "collapsed": false,
    "pycharm": {
     "name": "#%%\n"
    }
   }
  },
  {
   "cell_type": "code",
   "execution_count": 174,
   "outputs": [
    {
     "data": {
      "text/plain": "Survived    0\nPclass      0\nSex         0\nAge         0\nSibSp       0\nParch       0\nFare        0\nEmbarked    0\ndtype: int64"
     },
     "execution_count": 174,
     "metadata": {},
     "output_type": "execute_result"
    }
   ],
   "source": [
    "train_data.isnull().sum()"
   ],
   "metadata": {
    "collapsed": false,
    "pycharm": {
     "name": "#%%\n"
    }
   }
  },
  {
   "cell_type": "code",
   "execution_count": 175,
   "outputs": [
    {
     "data": {
      "text/plain": "Pclass      0\nSex         0\nAge         0\nSibSp       0\nParch       0\nFare        0\nEmbarked    0\ndtype: int64"
     },
     "execution_count": 175,
     "metadata": {},
     "output_type": "execute_result"
    }
   ],
   "source": [
    "test_data.isnull().sum()"
   ],
   "metadata": {
    "collapsed": false,
    "pycharm": {
     "name": "#%%\n"
    }
   }
  },
  {
   "cell_type": "code",
   "execution_count": null,
   "outputs": [],
   "source": [],
   "metadata": {
    "collapsed": false,
    "pycharm": {
     "name": "#%%\n"
    }
   }
  }
 ],
 "metadata": {
  "kernelspec": {
   "display_name": "Python 3",
   "language": "python",
   "name": "python3"
  },
  "language_info": {
   "codemirror_mode": {
    "name": "ipython",
    "version": 2
   },
   "file_extension": ".py",
   "mimetype": "text/x-python",
   "name": "python",
   "nbconvert_exporter": "python",
   "pygments_lexer": "ipython2",
   "version": "2.7.6"
  }
 },
 "nbformat": 4,
 "nbformat_minor": 0
}