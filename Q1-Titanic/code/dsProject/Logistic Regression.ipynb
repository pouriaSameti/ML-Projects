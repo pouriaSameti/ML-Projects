{
 "cells": [
  {
   "cell_type": "code",
   "execution_count": 303,
   "outputs": [],
   "source": [
    "import pandas as pd\n",
    "import numpy as np"
   ],
   "metadata": {
    "collapsed": false,
    "pycharm": {
     "name": "#%%\n"
    }
   }
  },
  {
   "cell_type": "code",
   "execution_count": 304,
   "outputs": [],
   "source": [
    "train_data = pd.read_csv(\"../../train.csv\")\n",
    "test_data = pd.read_csv(\"../../test.csv\")"
   ],
   "metadata": {
    "collapsed": false,
    "pycharm": {
     "name": "#%%\n"
    }
   }
  },
  {
   "cell_type": "code",
   "execution_count": 305,
   "outputs": [],
   "source": [
    "#Removing cols\n",
    "\n",
    "#removing 'cabin' column because it has many NAN cols\n",
    "cols = ['Ticket', 'Name', 'Cabin', 'Ticket', 'PassengerId']\n",
    "train_data.drop(columns=cols, inplace=True)\n",
    "test_data.drop(columns=cols, inplace=True)"
   ],
   "metadata": {
    "collapsed": false,
    "pycharm": {
     "name": "#%%\n"
    }
   }
  },
  {
   "cell_type": "code",
   "execution_count": 306,
   "outputs": [
    {
     "data": {
      "text/plain": "Survived      int64\nPclass        int64\nSex          object\nAge         float64\nSibSp         int64\nParch         int64\nFare        float64\nEmbarked     object\ndtype: object"
     },
     "execution_count": 306,
     "metadata": {},
     "output_type": "execute_result"
    }
   ],
   "source": [
    "train_data.dtypes"
   ],
   "metadata": {
    "collapsed": false,
    "pycharm": {
     "name": "#%%\n"
    }
   }
  },
  {
   "cell_type": "code",
   "execution_count": 307,
   "outputs": [
    {
     "data": {
      "text/plain": "Survived    False\nPclass      False\nSex         False\nAge          True\nSibSp       False\nParch       False\nFare        False\nEmbarked     True\ndtype: bool"
     },
     "execution_count": 307,
     "metadata": {},
     "output_type": "execute_result"
    }
   ],
   "source": [
    "train_data.isnull().any()"
   ],
   "metadata": {
    "collapsed": false,
    "pycharm": {
     "name": "#%%\n"
    }
   }
  },
  {
   "cell_type": "code",
   "execution_count": 308,
   "outputs": [],
   "source": [
    "#fill NAN\n",
    "def replace_numeric(columns: list, dataset: pd.DataFrame):\n",
    "    nan_list = dataset.isnull().any()\n",
    "    for col in columns:\n",
    "        if nan_list[col]:\n",
    "            temp = dataset[col]\n",
    "            temp = temp.dropna()\n",
    "            dataset[col].fillna(temp.mean(), inplace=True)\n",
    "\n",
    "def replace_categorical(columns: list, dataset: pd.DataFrame):\n",
    "    nan_list = dataset.isnull().any()\n",
    "    for col in columns:\n",
    "        if nan_list[col]:\n",
    "            temp = dataset[col]\n",
    "            temp = temp.dropna()\n",
    "            dataset[col].fillna(value=temp.mode()[0], inplace=True)\n",
    "\n",
    "numeric_cols = ['Age', 'Fare', 'Parch', 'SibSp']\n",
    "replace_numeric(numeric_cols, train_data)\n",
    "replace_numeric(numeric_cols, test_data)\n",
    "\n",
    "categorical_cols = ['Embarked', 'Sex']\n",
    "replace_categorical(categorical_cols, train_data)\n",
    "replace_categorical(categorical_cols, test_data)"
   ],
   "metadata": {
    "collapsed": false,
    "pycharm": {
     "name": "#%%\n"
    }
   }
  },
  {
   "cell_type": "code",
   "execution_count": 309,
   "outputs": [
    {
     "data": {
      "text/plain": "Survived    0\nPclass      0\nSex         0\nAge         0\nSibSp       0\nParch       0\nFare        0\nEmbarked    0\ndtype: int64"
     },
     "execution_count": 309,
     "metadata": {},
     "output_type": "execute_result"
    }
   ],
   "source": [
    "train_data.isnull().sum()"
   ],
   "metadata": {
    "collapsed": false,
    "pycharm": {
     "name": "#%%\n"
    }
   }
  },
  {
   "cell_type": "code",
   "execution_count": 310,
   "outputs": [
    {
     "data": {
      "text/plain": "Pclass      0\nSex         0\nAge         0\nSibSp       0\nParch       0\nFare        0\nEmbarked    0\ndtype: int64"
     },
     "execution_count": 310,
     "metadata": {},
     "output_type": "execute_result"
    }
   ],
   "source": [
    "test_data.isnull().sum()"
   ],
   "metadata": {
    "collapsed": false,
    "pycharm": {
     "name": "#%%\n"
    }
   }
  },
  {
   "cell_type": "code",
   "execution_count": 311,
   "outputs": [],
   "source": [
    "# mapping categorical to numeric\n",
    "train_data = pd.concat([train_data, pd.get_dummies(train_data['Sex'], dtype=float)], axis=1)\n",
    "test_data = pd.concat([test_data, pd.get_dummies(test_data['Sex'], dtype=float)], axis=1)\n",
    "\n",
    "train_data = pd.concat([train_data, pd.get_dummies(train_data['Embarked'], dtype=float)], axis=1)\n",
    "test_data = pd.concat([test_data, pd.get_dummies(test_data['Embarked'], dtype=float)], axis=1)\n",
    "\n",
    "train_data['Fare'] = train_data['Fare'].map(lambda x: float(x))\n",
    "test_data['Fare'] = test_data['Fare'].map(lambda x: float(x))\n",
    "\n",
    "train_data.drop(columns=['Sex', 'Embarked', 'Fare'], inplace=True)\n",
    "test_data.drop(columns=['Sex', 'Embarked', 'Fare'], inplace=True)"
   ],
   "metadata": {
    "collapsed": false,
    "pycharm": {
     "name": "#%%\n"
    }
   }
  },
  {
   "cell_type": "code",
   "execution_count": 312,
   "outputs": [
    {
     "data": {
      "text/plain": "Survived      int64\nPclass        int64\nAge         float64\nSibSp         int64\nParch         int64\nfemale      float64\nmale        float64\nC           float64\nQ           float64\nS           float64\ndtype: object"
     },
     "execution_count": 312,
     "metadata": {},
     "output_type": "execute_result"
    }
   ],
   "source": [
    "train_data.dtypes"
   ],
   "metadata": {
    "collapsed": false,
    "pycharm": {
     "name": "#%%\n"
    }
   }
  },
  {
   "cell_type": "code",
   "execution_count": 313,
   "outputs": [
    {
     "data": {
      "text/plain": "Pclass      int64\nAge       float64\nSibSp       int64\nParch       int64\nfemale    float64\nmale      float64\nC         float64\nQ         float64\nS         float64\ndtype: object"
     },
     "execution_count": 313,
     "metadata": {},
     "output_type": "execute_result"
    }
   ],
   "source": [
    "test_data.dtypes"
   ],
   "metadata": {
    "collapsed": false,
    "pycharm": {
     "name": "#%%\n"
    }
   }
  },
  {
   "cell_type": "code",
   "execution_count": 314,
   "outputs": [
    {
     "data": {
      "text/plain": "     Survived  Pclass        Age  SibSp  Parch  female  male    C    Q    S\n0           0       3  22.000000      1      0     0.0   1.0  0.0  0.0  1.0\n1           1       1  38.000000      1      0     1.0   0.0  1.0  0.0  0.0\n2           1       3  26.000000      0      0     1.0   0.0  0.0  0.0  1.0\n3           1       1  35.000000      1      0     1.0   0.0  0.0  0.0  1.0\n4           0       3  35.000000      0      0     0.0   1.0  0.0  0.0  1.0\n..        ...     ...        ...    ...    ...     ...   ...  ...  ...  ...\n886         0       2  27.000000      0      0     0.0   1.0  0.0  0.0  1.0\n887         1       1  19.000000      0      0     1.0   0.0  0.0  0.0  1.0\n888         0       3  29.699118      1      2     1.0   0.0  0.0  0.0  1.0\n889         1       1  26.000000      0      0     0.0   1.0  1.0  0.0  0.0\n890         0       3  32.000000      0      0     0.0   1.0  0.0  1.0  0.0\n\n[891 rows x 10 columns]",
      "text/html": "<div>\n<style scoped>\n    .dataframe tbody tr th:only-of-type {\n        vertical-align: middle;\n    }\n\n    .dataframe tbody tr th {\n        vertical-align: top;\n    }\n\n    .dataframe thead th {\n        text-align: right;\n    }\n</style>\n<table border=\"1\" class=\"dataframe\">\n  <thead>\n    <tr style=\"text-align: right;\">\n      <th></th>\n      <th>Survived</th>\n      <th>Pclass</th>\n      <th>Age</th>\n      <th>SibSp</th>\n      <th>Parch</th>\n      <th>female</th>\n      <th>male</th>\n      <th>C</th>\n      <th>Q</th>\n      <th>S</th>\n    </tr>\n  </thead>\n  <tbody>\n    <tr>\n      <th>0</th>\n      <td>0</td>\n      <td>3</td>\n      <td>22.000000</td>\n      <td>1</td>\n      <td>0</td>\n      <td>0.0</td>\n      <td>1.0</td>\n      <td>0.0</td>\n      <td>0.0</td>\n      <td>1.0</td>\n    </tr>\n    <tr>\n      <th>1</th>\n      <td>1</td>\n      <td>1</td>\n      <td>38.000000</td>\n      <td>1</td>\n      <td>0</td>\n      <td>1.0</td>\n      <td>0.0</td>\n      <td>1.0</td>\n      <td>0.0</td>\n      <td>0.0</td>\n    </tr>\n    <tr>\n      <th>2</th>\n      <td>1</td>\n      <td>3</td>\n      <td>26.000000</td>\n      <td>0</td>\n      <td>0</td>\n      <td>1.0</td>\n      <td>0.0</td>\n      <td>0.0</td>\n      <td>0.0</td>\n      <td>1.0</td>\n    </tr>\n    <tr>\n      <th>3</th>\n      <td>1</td>\n      <td>1</td>\n      <td>35.000000</td>\n      <td>1</td>\n      <td>0</td>\n      <td>1.0</td>\n      <td>0.0</td>\n      <td>0.0</td>\n      <td>0.0</td>\n      <td>1.0</td>\n    </tr>\n    <tr>\n      <th>4</th>\n      <td>0</td>\n      <td>3</td>\n      <td>35.000000</td>\n      <td>0</td>\n      <td>0</td>\n      <td>0.0</td>\n      <td>1.0</td>\n      <td>0.0</td>\n      <td>0.0</td>\n      <td>1.0</td>\n    </tr>\n    <tr>\n      <th>...</th>\n      <td>...</td>\n      <td>...</td>\n      <td>...</td>\n      <td>...</td>\n      <td>...</td>\n      <td>...</td>\n      <td>...</td>\n      <td>...</td>\n      <td>...</td>\n      <td>...</td>\n    </tr>\n    <tr>\n      <th>886</th>\n      <td>0</td>\n      <td>2</td>\n      <td>27.000000</td>\n      <td>0</td>\n      <td>0</td>\n      <td>0.0</td>\n      <td>1.0</td>\n      <td>0.0</td>\n      <td>0.0</td>\n      <td>1.0</td>\n    </tr>\n    <tr>\n      <th>887</th>\n      <td>1</td>\n      <td>1</td>\n      <td>19.000000</td>\n      <td>0</td>\n      <td>0</td>\n      <td>1.0</td>\n      <td>0.0</td>\n      <td>0.0</td>\n      <td>0.0</td>\n      <td>1.0</td>\n    </tr>\n    <tr>\n      <th>888</th>\n      <td>0</td>\n      <td>3</td>\n      <td>29.699118</td>\n      <td>1</td>\n      <td>2</td>\n      <td>1.0</td>\n      <td>0.0</td>\n      <td>0.0</td>\n      <td>0.0</td>\n      <td>1.0</td>\n    </tr>\n    <tr>\n      <th>889</th>\n      <td>1</td>\n      <td>1</td>\n      <td>26.000000</td>\n      <td>0</td>\n      <td>0</td>\n      <td>0.0</td>\n      <td>1.0</td>\n      <td>1.0</td>\n      <td>0.0</td>\n      <td>0.0</td>\n    </tr>\n    <tr>\n      <th>890</th>\n      <td>0</td>\n      <td>3</td>\n      <td>32.000000</td>\n      <td>0</td>\n      <td>0</td>\n      <td>0.0</td>\n      <td>1.0</td>\n      <td>0.0</td>\n      <td>1.0</td>\n      <td>0.0</td>\n    </tr>\n  </tbody>\n</table>\n<p>891 rows × 10 columns</p>\n</div>"
     },
     "execution_count": 314,
     "metadata": {},
     "output_type": "execute_result"
    }
   ],
   "source": [
    "train_data"
   ],
   "metadata": {
    "collapsed": false,
    "pycharm": {
     "name": "#%%\n"
    }
   }
  },
  {
   "cell_type": "code",
   "execution_count": 315,
   "outputs": [],
   "source": [
    "#spillitng data\n",
    "x_train = train_data.drop(columns='Survived')\n",
    "y_train = train_data['Survived']\n",
    "x_test = test_data"
   ],
   "metadata": {
    "collapsed": false,
    "pycharm": {
     "name": "#%%\n"
    }
   }
  },
  {
   "cell_type": "code",
   "execution_count": 316,
   "outputs": [],
   "source": [
    "#Feature Scaling\n",
    "from sklearn.preprocessing import MinMaxScaler\n",
    "\n",
    "scaler= MinMaxScaler()\n",
    "x_train = pd.DataFrame(scaler.fit_transform(x_train), columns=x_train.columns)\n",
    "x_test = pd.DataFrame(scaler.fit_transform(x_test), columns=x_test.columns)"
   ],
   "metadata": {
    "collapsed": false,
    "pycharm": {
     "name": "#%%\n"
    }
   }
  }
 ],
 "metadata": {
  "kernelspec": {
   "display_name": "Python 3",
   "language": "python",
   "name": "python3"
  },
  "language_info": {
   "codemirror_mode": {
    "name": "ipython",
    "version": 2
   },
   "file_extension": ".py",
   "mimetype": "text/x-python",
   "name": "python",
   "nbconvert_exporter": "python",
   "pygments_lexer": "ipython2",
   "version": "2.7.6"
  }
 },
 "nbformat": 4,
 "nbformat_minor": 0
}