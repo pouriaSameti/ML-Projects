{
 "nbformat": 4,
 "nbformat_minor": 0,
 "metadata": {
  "colab": {
   "provenance": []
  },
  "kernelspec": {
   "name": "python3",
   "display_name": "Python 3"
  },
  "language_info": {
   "name": "python"
  }
 },
 "cells": [
  {
   "cell_type": "code",
   "execution_count": 8,
   "metadata": {
    "colab": {
     "base_uri": "https://localhost:8080/",
     "height": 831
    },
    "id": "WD9R6JpHchK-",
    "outputId": "56adc9a8-fd59-4ba1-eda5-057ab8456668",
    "pycharm": {
     "name": "#%%\n"
    }
   },
   "outputs": [
    {
     "data": {
      "text/plain": "   user_id  item_id  rating\n0      196      242       3\n1      186      302       3\n2       22      377       1\n3      244       51       2\n4      166      346       1",
      "text/html": "<div>\n<style scoped>\n    .dataframe tbody tr th:only-of-type {\n        vertical-align: middle;\n    }\n\n    .dataframe tbody tr th {\n        vertical-align: top;\n    }\n\n    .dataframe thead th {\n        text-align: right;\n    }\n</style>\n<table border=\"1\" class=\"dataframe\">\n  <thead>\n    <tr style=\"text-align: right;\">\n      <th></th>\n      <th>user_id</th>\n      <th>item_id</th>\n      <th>rating</th>\n    </tr>\n  </thead>\n  <tbody>\n    <tr>\n      <th>0</th>\n      <td>196</td>\n      <td>242</td>\n      <td>3</td>\n    </tr>\n    <tr>\n      <th>1</th>\n      <td>186</td>\n      <td>302</td>\n      <td>3</td>\n    </tr>\n    <tr>\n      <th>2</th>\n      <td>22</td>\n      <td>377</td>\n      <td>1</td>\n    </tr>\n    <tr>\n      <th>3</th>\n      <td>244</td>\n      <td>51</td>\n      <td>2</td>\n    </tr>\n    <tr>\n      <th>4</th>\n      <td>166</td>\n      <td>346</td>\n      <td>1</td>\n    </tr>\n  </tbody>\n</table>\n</div>"
     },
     "execution_count": 8,
     "metadata": {},
     "output_type": "execute_result"
    }
   ],
   "source": [
    "# download movie lens 100k dataset\n",
    "\n",
    "# !wget http://files.grouplens.org/datasets/movielens/ml-100k.zip\n",
    "# !unzip ml-100k.zip\n",
    "import pandas as pd\n",
    "ratings = pd.read_csv('ml-100k/u.data', sep='\\t', header=None, names=['user_id', 'item_id', 'rating', 'timestamp'])\n",
    "ratings.drop('timestamp', axis=1, inplace=True)\n",
    "ratings.head()"
   ]
  },
  {
   "cell_type": "code",
   "source": [
    "#perform some preprocessing to encode users and movies as integer indices.\n",
    "\n",
    "from sklearn.preprocessing import LabelEncoder\n",
    "le = LabelEncoder()\n",
    "ratings['user_id'] = le.fit_transform(ratings['user_id'])\n",
    "ratings['item_id'] = le.fit_transform(ratings['item_id'])"
   ],
   "metadata": {
    "id": "YogeDhWIckiy",
    "pycharm": {
     "name": "#%%\n"
    }
   },
   "execution_count": 9,
   "outputs": []
  },
  {
   "cell_type": "code",
   "source": [
    "# prompt: Prepare training and validation data\n",
    "\n",
    "from sklearn.model_selection import train_test_split\n",
    "train_data, test_data = train_test_split(ratings, test_size=0.2)\n",
    "train_data.head()"
   ],
   "metadata": {
    "colab": {
     "base_uri": "https://localhost:8080/",
     "height": 206
    },
    "id": "yBO4CNoGdcYG",
    "outputId": "d217a9c1-c05a-4189-c07e-6cb99a90757a",
    "pycharm": {
     "name": "#%%\n"
    }
   },
   "execution_count": 10,
   "outputs": [
    {
     "data": {
      "text/plain": "       user_id  item_id  rating\n54176      354      287       5\n41698      568      124       3\n64814      647      565       4\n88163      885      432       2\n33106       48       70       3",
      "text/html": "<div>\n<style scoped>\n    .dataframe tbody tr th:only-of-type {\n        vertical-align: middle;\n    }\n\n    .dataframe tbody tr th {\n        vertical-align: top;\n    }\n\n    .dataframe thead th {\n        text-align: right;\n    }\n</style>\n<table border=\"1\" class=\"dataframe\">\n  <thead>\n    <tr style=\"text-align: right;\">\n      <th></th>\n      <th>user_id</th>\n      <th>item_id</th>\n      <th>rating</th>\n    </tr>\n  </thead>\n  <tbody>\n    <tr>\n      <th>54176</th>\n      <td>354</td>\n      <td>287</td>\n      <td>5</td>\n    </tr>\n    <tr>\n      <th>41698</th>\n      <td>568</td>\n      <td>124</td>\n      <td>3</td>\n    </tr>\n    <tr>\n      <th>64814</th>\n      <td>647</td>\n      <td>565</td>\n      <td>4</td>\n    </tr>\n    <tr>\n      <th>88163</th>\n      <td>885</td>\n      <td>432</td>\n      <td>2</td>\n    </tr>\n    <tr>\n      <th>33106</th>\n      <td>48</td>\n      <td>70</td>\n      <td>3</td>\n    </tr>\n  </tbody>\n</table>\n</div>"
     },
     "execution_count": 10,
     "metadata": {},
     "output_type": "execute_result"
    }
   ]
  },
  {
   "cell_type": "code",
   "execution_count": 11,
   "outputs": [
    {
     "name": "stdout",
     "output_type": "stream",
     "text": [
      "Number of users: 943, Number of Movies: 1649, Min rating: 1, Max rating: 5\n"
     ]
    }
   ],
   "source": [
    "num_users = len(train_data.user_id.unique())\n",
    "num_movies = len(train_data.item_id.unique())\n",
    "min_rating = train_data['rating'].min()\n",
    "max_rating = train_data['rating'].max()\n",
    "print(     \"Number of users: {}, Number of Movies: {}, Min rating: {}, Max rating: {}\".format(         num_users, num_movies, min_rating, max_rating     ) )"
   ],
   "metadata": {
    "collapsed": false,
    "pycharm": {
     "name": "#%%\n"
    }
   }
  },
  {
   "cell_type": "code",
   "execution_count": 23,
   "outputs": [],
   "source": [
    "def set_label(data: pd.DataFrame):\n",
    "    return 1 if data.rating >= 3 else 0\n",
    "\n",
    "train_data['target'] = train_data.apply(lambda x: 1 if x['rating'] >= 3 else 0, axis=1)\n",
    "test_data['target'] = test_data.apply(lambda x: 1 if x['rating'] >= 3 else 0, axis=1)"
   ],
   "metadata": {
    "collapsed": false,
    "pycharm": {
     "name": "#%%\n"
    }
   }
  },
  {
   "cell_type": "code",
   "execution_count": null,
   "outputs": [],
   "source": [],
   "metadata": {
    "collapsed": false,
    "pycharm": {
     "name": "#%%\n"
    }
   }
  }
 ]
}