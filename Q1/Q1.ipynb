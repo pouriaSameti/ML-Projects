{
 "nbformat": 4,
 "nbformat_minor": 0,
 "metadata": {
  "colab": {
   "provenance": []
  },
  "kernelspec": {
   "name": "python3",
   "display_name": "Python 3"
  },
  "language_info": {
   "name": "python"
  }
 },
 "cells": [
  {
   "cell_type": "code",
   "execution_count": 1,
   "outputs": [
    {
     "data": {
      "text/plain": "   user_id  item_id  rating\n0      196      242       3\n1      186      302       3\n2       22      377       1\n3      244       51       2\n4      166      346       1",
      "text/html": "<div>\n<style scoped>\n    .dataframe tbody tr th:only-of-type {\n        vertical-align: middle;\n    }\n\n    .dataframe tbody tr th {\n        vertical-align: top;\n    }\n\n    .dataframe thead th {\n        text-align: right;\n    }\n</style>\n<table border=\"1\" class=\"dataframe\">\n  <thead>\n    <tr style=\"text-align: right;\">\n      <th></th>\n      <th>user_id</th>\n      <th>item_id</th>\n      <th>rating</th>\n    </tr>\n  </thead>\n  <tbody>\n    <tr>\n      <th>0</th>\n      <td>196</td>\n      <td>242</td>\n      <td>3</td>\n    </tr>\n    <tr>\n      <th>1</th>\n      <td>186</td>\n      <td>302</td>\n      <td>3</td>\n    </tr>\n    <tr>\n      <th>2</th>\n      <td>22</td>\n      <td>377</td>\n      <td>1</td>\n    </tr>\n    <tr>\n      <th>3</th>\n      <td>244</td>\n      <td>51</td>\n      <td>2</td>\n    </tr>\n    <tr>\n      <th>4</th>\n      <td>166</td>\n      <td>346</td>\n      <td>1</td>\n    </tr>\n  </tbody>\n</table>\n</div>"
     },
     "execution_count": 1,
     "metadata": {},
     "output_type": "execute_result"
    }
   ],
   "source": [
    "# download movie lens 100k dataset\n",
    "\n",
    "# !wget http://files.grouplens.org/datasets/movielens/ml-100k.zip\n",
    "# !unzip ml-100k.zip\n",
    "import pandas as pd\n",
    "import numpy as np\n",
    "ratings = pd.read_csv('ml-100k/u.data', sep='\\t', header=None, names=['user_id', 'item_id', 'rating', 'timestamp'])\n",
    "ratings.drop('timestamp', axis=1, inplace=True)\n",
    "ratings.head()"
   ],
   "metadata": {
    "collapsed": false,
    "pycharm": {
     "name": "#%%\n"
    }
   }
  },
  {
   "cell_type": "code",
   "source": [
    "#perform some preprocessing to encode users and movies as integer indices.\n",
    "\n",
    "from sklearn.preprocessing import LabelEncoder\n",
    "le = LabelEncoder()\n",
    "ratings['user_id'] = le.fit_transform(ratings['user_id'])\n",
    "ratings['item_id'] = le.fit_transform(ratings['item_id'])"
   ],
   "metadata": {
    "id": "YogeDhWIckiy",
    "pycharm": {
     "name": "#%%\n"
    }
   },
   "execution_count": 2,
   "outputs": []
  },
  {
   "cell_type": "code",
   "source": [
    "# prompt: Prepare training and validation data\n",
    "\n",
    "from sklearn.model_selection import train_test_split\n",
    "train_data, test_data = train_test_split(ratings, test_size=0.2)\n",
    "train_data.head()"
   ],
   "metadata": {
    "colab": {
     "base_uri": "https://localhost:8080/",
     "height": 206
    },
    "id": "yBO4CNoGdcYG",
    "outputId": "d217a9c1-c05a-4189-c07e-6cb99a90757a",
    "pycharm": {
     "name": "#%%\n"
    }
   },
   "execution_count": 3,
   "outputs": [
    {
     "data": {
      "text/plain": "       user_id  item_id  rating\n66243      710      168       5\n95308      850      805       4\n36522      384      674       5\n67589      621      252       3\n98589      797      659       3",
      "text/html": "<div>\n<style scoped>\n    .dataframe tbody tr th:only-of-type {\n        vertical-align: middle;\n    }\n\n    .dataframe tbody tr th {\n        vertical-align: top;\n    }\n\n    .dataframe thead th {\n        text-align: right;\n    }\n</style>\n<table border=\"1\" class=\"dataframe\">\n  <thead>\n    <tr style=\"text-align: right;\">\n      <th></th>\n      <th>user_id</th>\n      <th>item_id</th>\n      <th>rating</th>\n    </tr>\n  </thead>\n  <tbody>\n    <tr>\n      <th>66243</th>\n      <td>710</td>\n      <td>168</td>\n      <td>5</td>\n    </tr>\n    <tr>\n      <th>95308</th>\n      <td>850</td>\n      <td>805</td>\n      <td>4</td>\n    </tr>\n    <tr>\n      <th>36522</th>\n      <td>384</td>\n      <td>674</td>\n      <td>5</td>\n    </tr>\n    <tr>\n      <th>67589</th>\n      <td>621</td>\n      <td>252</td>\n      <td>3</td>\n    </tr>\n    <tr>\n      <th>98589</th>\n      <td>797</td>\n      <td>659</td>\n      <td>3</td>\n    </tr>\n  </tbody>\n</table>\n</div>"
     },
     "execution_count": 3,
     "metadata": {},
     "output_type": "execute_result"
    }
   ]
  },
  {
   "cell_type": "code",
   "execution_count": 4,
   "outputs": [
    {
     "name": "stdout",
     "output_type": "stream",
     "text": [
      "Number of users: 943, Number of Movies: 1651, Min rating: 1, Max rating: 5\n"
     ]
    }
   ],
   "source": [
    "num_users = len(train_data.user_id.unique())\n",
    "num_movies = len(train_data.item_id.unique())\n",
    "min_rating = train_data['rating'].min()\n",
    "max_rating = train_data['rating'].max()\n",
    "print(     \"Number of users: {}, Number of Movies: {}, Min rating: {}, Max rating: {}\".format(         num_users, num_movies, min_rating, max_rating     ) )"
   ],
   "metadata": {
    "collapsed": false,
    "pycharm": {
     "name": "#%%\n"
    }
   }
  },
  {
   "cell_type": "code",
   "execution_count": 5,
   "outputs": [],
   "source": [
    "def set_label(data: pd.DataFrame):\n",
    "    return 1 if data.rating >= 3 else 0\n",
    "\n",
    "train_data['target'] = train_data.apply(lambda x: 1 if x['rating'] >= 3 else 0, axis=1)\n",
    "test_data['target'] = test_data.apply(lambda x: 1 if x['rating'] >= 3 else 0, axis=1)\n",
    "\n",
    "x_train = train_data.drop(columns='target')\n",
    "y_train = train_data['target']\n",
    "\n",
    "x_test = test_data.drop(columns='target')\n",
    "y_test = test_data['target']"
   ],
   "metadata": {
    "collapsed": false,
    "pycharm": {
     "name": "#%%\n"
    }
   }
  },
  {
   "cell_type": "code",
   "execution_count": 6,
   "outputs": [],
   "source": [
    "class Network:\n",
    "\n",
    "    def __init__(self, input_size: int, hidden_size: int, output_size: int):\n",
    "        self.__input_size = input_size\n",
    "        self.__hidden_size = hidden_size\n",
    "        self.__output_size = output_size\n",
    "\n",
    "        self.W1 = np.zeros((self.__hidden_size, self.__input_size))\n",
    "        self.b1 = np.zeros((self.__hidden_size,1))\n",
    "\n",
    "        self.W2 = np.zeros((self.__output_size, self.__hidden_size))\n",
    "        self.b2 = np.zeros((self.__output_size,1))\n",
    "\n",
    "\n",
    "    def fit(self, x_input: pd.DataFrame, y_input: pd.DataFrame, iteration=100, learning_rate=0.1):\n",
    "\n",
    "        y_input_one_hot = pd.get_dummies(y_input).to_numpy()\n",
    "        x_input = x_input.to_numpy()\n",
    "        m = y_input_one_hot.shape[0]\n",
    "\n",
    "        loss_list = []\n",
    "        for _ in range(iteration):\n",
    "\n",
    "            #first layer\n",
    "            z1 = np.dot(x_input, self.W1.T).T\n",
    "            z1 += self.b1\n",
    "\n",
    "            #second layer\n",
    "            h1 = self.leaky_relu(z1)\n",
    "            z2 = np.dot(h1.T, self.W2.T).T\n",
    "            z2 += self.b2\n",
    "\n",
    "            y_pred = self.softmax(z2)\n",
    "\n",
    "            loss = self.compute_loss(y_real=y_input, y_predicted=y_pred)\n",
    "            sum_loss = np.sum(loss)\n",
    "            loss_list.append(sum_loss)\n",
    "\n",
    "            #Derivatives\n",
    "            dz2 = z2 - y_input_one_hot.T\n",
    "            dw2 = (1/m) * np.dot(dz2, h1.T)\n",
    "            db2 = (1/m) * np.sum(dz2)\n",
    "\n",
    "\n",
    "            dh1 = np.matmul(self.W2.T, dz2)\n",
    "            dz1 = dh1 * np.vectorize(self.leaky_relu_derivative)(z1)\n",
    "            dw1 = (1/m) * np.dot(dz1, x_input)\n",
    "            db1 = (1./m) * np.sum(dz1)\n",
    "\n",
    "\n",
    "            # Gradient Descent\n",
    "            self.W1 = self.W1 - learning_rate * dw1\n",
    "            self.W2 = self.W2 - learning_rate * dw2\n",
    "\n",
    "            self.b1 = self.b1 - learning_rate * db1\n",
    "            self.b2 = self.b2 - learning_rate * db2\n",
    "\n",
    "        embeding = y_pred\n",
    "        return embeding, loss_list\n",
    "\n",
    "\n",
    "    def predict(self, x_input: pd.DataFrame):\n",
    "        z1 = np.dot(x_input, self.W1.T).T\n",
    "        z1 += self.b1\n",
    "\n",
    "        #second layer\n",
    "        a1 = np.vectorize(self.leaky_relu)(z1)\n",
    "        z2 = np.dot(a1.T, self.W2.T).T\n",
    "        z2 += self.b2\n",
    "        return np.argmax(self.softmax(z2), axis=0)\n",
    "\n",
    "    @classmethod\n",
    "    def leaky_relu(cls, x, alpha=0.01):\n",
    "        return np.maximum(x*alpha, alpha)\n",
    "\n",
    "    @classmethod\n",
    "    def leaky_relu_derivative(cls, x, alpha=0.01):\n",
    "        return 1.0 if x >= 0.0 else alpha\n",
    "\n",
    "    @classmethod\n",
    "    def softmax(cls, x):\n",
    "        return np.exp(x)/np.sum(np.exp(x))\n",
    "\n",
    "    @classmethod\n",
    "    def compute_loss(cls, y_real, y_predicted: pd.DataFrame):\n",
    "        y_real_one_hot = pd.get_dummies(y_real)\n",
    "\n",
    "        loss_sum = np.sum(np.multiply(y_real_one_hot.T, np.log(y_predicted)))\n",
    "        m = y_real_one_hot.shape[0]\n",
    "        loss = -(1/m) * loss_sum\n",
    "        return loss"
   ],
   "metadata": {
    "collapsed": false,
    "pycharm": {
     "name": "#%%\n"
    }
   }
  },
  {
   "cell_type": "code",
   "execution_count": 7,
   "outputs": [
    {
     "data": {
      "text/plain": "array([[6.24881212e-06, 6.24881212e-06, 6.24881212e-06, ...,\n        6.24881212e-06, 6.24881212e-06, 6.24881212e-06],\n       [6.25118788e-06, 6.25118788e-06, 6.25118788e-06, ...,\n        6.25118788e-06, 6.25118788e-06, 6.25118788e-06]])"
     },
     "execution_count": 7,
     "metadata": {},
     "output_type": "execute_result"
    }
   ],
   "source": [
    "nn = Network(input_size=3, hidden_size=64, output_size=2)\n",
    "embeding, loss_list = nn.fit(x_train, y_train, iteration=50, learning_rate=0.05)\n",
    "\n",
    "embeding"
   ],
   "metadata": {
    "collapsed": false,
    "pycharm": {
     "name": "#%%\n"
    }
   }
  },
  {
   "cell_type": "code",
   "execution_count": 8,
   "outputs": [
    {
     "name": "stdout",
     "output_type": "stream",
     "text": [
      "              precision    recall  f1-score   support\n",
      "\n",
      "           0       0.00      0.00      0.00      3434\n",
      "           1       0.83      1.00      0.91     16566\n",
      "\n",
      "    accuracy                           0.83     20000\n",
      "   macro avg       0.41      0.50      0.45     20000\n",
      "weighted avg       0.69      0.83      0.75     20000\n",
      "\n"
     ]
    },
    {
     "name": "stderr",
     "output_type": "stream",
     "text": [
      "C:\\Users\\acer\\AppData\\Roaming\\Python\\Python39\\site-packages\\sklearn\\metrics\\_classification.py:1469: UndefinedMetricWarning: Precision and F-score are ill-defined and being set to 0.0 in labels with no predicted samples. Use `zero_division` parameter to control this behavior.\n",
      "  _warn_prf(average, modifier, msg_start, len(result))\n",
      "C:\\Users\\acer\\AppData\\Roaming\\Python\\Python39\\site-packages\\sklearn\\metrics\\_classification.py:1469: UndefinedMetricWarning: Precision and F-score are ill-defined and being set to 0.0 in labels with no predicted samples. Use `zero_division` parameter to control this behavior.\n",
      "  _warn_prf(average, modifier, msg_start, len(result))\n",
      "C:\\Users\\acer\\AppData\\Roaming\\Python\\Python39\\site-packages\\sklearn\\metrics\\_classification.py:1469: UndefinedMetricWarning: Precision and F-score are ill-defined and being set to 0.0 in labels with no predicted samples. Use `zero_division` parameter to control this behavior.\n",
      "  _warn_prf(average, modifier, msg_start, len(result))\n"
     ]
    }
   ],
   "source": [
    "from sklearn.metrics import accuracy_score, classification_report\n",
    "y_pred = nn.predict(x_test)\n",
    "cr = classification_report(y_test, y_pred)\n",
    "print(cr)"
   ],
   "metadata": {
    "collapsed": false,
    "pycharm": {
     "name": "#%%\n"
    }
   }
  },
  {
   "cell_type": "code",
   "execution_count": 10,
   "outputs": [
    {
     "name": "stdout",
     "output_type": "stream",
     "text": [
      "              precision    recall  f1-score   support\n",
      "\n",
      "           0       0.00      0.00      0.00     14046\n",
      "           1       0.82      1.00      0.90     65954\n",
      "\n",
      "    accuracy                           0.82     80000\n",
      "   macro avg       0.41      0.50      0.45     80000\n",
      "weighted avg       0.68      0.82      0.75     80000\n",
      "\n"
     ]
    },
    {
     "name": "stderr",
     "output_type": "stream",
     "text": [
      "C:\\Users\\acer\\AppData\\Roaming\\Python\\Python39\\site-packages\\sklearn\\metrics\\_classification.py:1469: UndefinedMetricWarning: Precision and F-score are ill-defined and being set to 0.0 in labels with no predicted samples. Use `zero_division` parameter to control this behavior.\n",
      "  _warn_prf(average, modifier, msg_start, len(result))\n",
      "C:\\Users\\acer\\AppData\\Roaming\\Python\\Python39\\site-packages\\sklearn\\metrics\\_classification.py:1469: UndefinedMetricWarning: Precision and F-score are ill-defined and being set to 0.0 in labels with no predicted samples. Use `zero_division` parameter to control this behavior.\n",
      "  _warn_prf(average, modifier, msg_start, len(result))\n",
      "C:\\Users\\acer\\AppData\\Roaming\\Python\\Python39\\site-packages\\sklearn\\metrics\\_classification.py:1469: UndefinedMetricWarning: Precision and F-score are ill-defined and being set to 0.0 in labels with no predicted samples. Use `zero_division` parameter to control this behavior.\n",
      "  _warn_prf(average, modifier, msg_start, len(result))\n"
     ]
    }
   ],
   "source": [
    "y_pred_train = nn.predict(x_train)\n",
    "print(classification_report(y_train, y_pred_train))"
   ],
   "metadata": {
    "collapsed": false,
    "pycharm": {
     "name": "#%%\n"
    }
   }
  },
  {
   "cell_type": "code",
   "execution_count": 9,
   "outputs": [
    {
     "data": {
      "text/plain": "<AxesSubplot:>"
     },
     "execution_count": 9,
     "metadata": {},
     "output_type": "execute_result"
    },
    {
     "data": {
      "text/plain": "<Figure size 432x288 with 1 Axes>",
      "image/png": "[encoded data removed]"
     },
     "metadata": {},
     "output_type": "display_data"
    }
   ],
   "source": [
    "import seaborn as sns\n",
    "iteration = list(range(len(loss_list)))\n",
    "sns.lineplot(x=iteration, y=loss_list)"
   ],
   "metadata": {
    "collapsed": false,
    "pycharm": {
     "name": "#%%\n"
    }
   }
  }
 ]
}