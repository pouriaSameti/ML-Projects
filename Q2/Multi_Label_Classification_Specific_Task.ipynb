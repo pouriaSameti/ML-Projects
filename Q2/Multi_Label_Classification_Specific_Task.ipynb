{
 "cells": [
  {
   "cell_type": "markdown",
   "id": "26d0c1ab",
   "metadata": {
    "pycharm": {
     "name": "#%% md\n"
    }
   },
   "source": [
    "\n",
    "# Multi-label Classification with the PriceRunner Dataset\n",
    "\n",
    "## Task Overview\n",
    "In this exercise, you will develop a multi-label classification model to classify products into multiple categories based on their 'Product Title' and 'Cluster Label'. The target variable for classification will be 'Category Label'.\n",
    "\n",
    "Your task includes selecting the right features, preprocessing the data, implementing a multi-label classification model, and evaluating its performance.\n",
    "\n",
    "Complete the sections marked `# TODO` and run each cell to see the output of your code.\n"
   ]
  },
  {
   "cell_type": "markdown",
   "id": "52123d7b",
   "metadata": {
    "pycharm": {
     "name": "#%% md\n"
    }
   },
   "source": [
    "\n",
    "## Step 1: Data Loading\n",
    "Load the dataset into a Pandas DataFrame.\n"
   ]
  },
  {
   "cell_type": "code",
   "execution_count": 14,
   "outputs": [],
   "source": [
    "import pandas as pd"
   ],
   "metadata": {
    "collapsed": false,
    "pycharm": {
     "name": "#%%\n"
    }
   }
  },
  {
   "cell_type": "code",
   "execution_count": 15,
   "id": "1dddb351",
   "metadata": {
    "pycharm": {
     "name": "#%%\n"
    }
   },
   "outputs": [],
   "source": [
    "# TODO: Load the dataset\n",
    "dataset = pd.read_csv('Dataset/pricerunner_aggregate.csv')\n",
    "dataset"
   ]
  },
  {
   "cell_type": "markdown",
   "id": "0ff72f7b",
   "metadata": {
    "pycharm": {
     "name": "#%% md\n"
    }
   },
   "source": [
    "\n",
    "## Step 2: Data Preprocessing\n",
    "Preprocess the 'Product Title' and 'Cluster Label' features and encode the 'Category Label'.\n"
   ]
  },
  {
   "cell_type": "code",
   "execution_count": 22,
   "id": "3c90cd7a",
   "metadata": {
    "pycharm": {
     "name": "#%%\n"
    }
   },
   "outputs": [
    {
     "data": {
      "text/plain": "Product ID         False\nProduct Title      False\n Merchant ID       False\n Cluster ID        False\n Cluster Label     False\n Category ID       False\n Category Label    False\ndtype: bool"
     },
     "execution_count": 22,
     "metadata": {},
     "output_type": "execute_result"
    }
   ],
   "source": [
    "#checking for NAN data\n",
    "dataset.isnull().any()"
   ]
  },
  {
   "cell_type": "code",
   "execution_count": 23,
   "outputs": [
    {
     "data": {
      "text/plain": "                                           Product Title   Merchant ID  \\\n0                        apple iphone 8 plus 64gb silver             1   \n1                    apple iphone 8 plus 64 gb spacegrau             2   \n2      apple mq8n2b/a iphone 8 plus 64gb 5.5 12mp sim...             3   \n3                    apple iphone 8 plus 64gb space grey             4   \n4      apple iphone 8 plus gold 5.5 64gb 4g unlocked ...             5   \n...                                                  ...           ...   \n35306  smeg fab28 60cm retro style right hand hinge f...            59   \n35307  smeg fab28 60cm retro style left hand hinge fr...            59   \n35308  smeg fab28 60cm retro style left hand hinge fr...            59   \n35309     candy 60cm built under larder fridge cru160nek           125   \n35310           neff k4316x7gb built under larder fridge           179   \n\n        Cluster ID             Cluster Label   Category ID  Category Label  \n0                1  Apple iPhone 8 Plus 64GB          2612   Mobile Phones  \n1                1  Apple iPhone 8 Plus 64GB          2612   Mobile Phones  \n2                1  Apple iPhone 8 Plus 64GB          2612   Mobile Phones  \n3                1  Apple iPhone 8 Plus 64GB          2612   Mobile Phones  \n4                1  Apple iPhone 8 Plus 64GB          2612   Mobile Phones  \n...            ...                       ...           ...             ...  \n35306        47517          Smeg FAB28 Cream          2623         Fridges  \n35307        47518            Smeg FAB28 Red          2623         Fridges  \n35308        47519           Smeg FAB28 Pink          2623         Fridges  \n35309        47524             Candy CRU16.0          2623         Fridges  \n35310        47525                Neff K4316          2623         Fridges  \n\n[35311 rows x 6 columns]",
      "text/html": "<div>\n<style scoped>\n    .dataframe tbody tr th:only-of-type {\n        vertical-align: middle;\n    }\n\n    .dataframe tbody tr th {\n        vertical-align: top;\n    }\n\n    .dataframe thead th {\n        text-align: right;\n    }\n</style>\n<table border=\"1\" class=\"dataframe\">\n  <thead>\n    <tr style=\"text-align: right;\">\n      <th></th>\n      <th>Product Title</th>\n      <th>Merchant ID</th>\n      <th>Cluster ID</th>\n      <th>Cluster Label</th>\n      <th>Category ID</th>\n      <th>Category Label</th>\n    </tr>\n  </thead>\n  <tbody>\n    <tr>\n      <th>0</th>\n      <td>apple iphone 8 plus 64gb silver</td>\n      <td>1</td>\n      <td>1</td>\n      <td>Apple iPhone 8 Plus 64GB</td>\n      <td>2612</td>\n      <td>Mobile Phones</td>\n    </tr>\n    <tr>\n      <th>1</th>\n      <td>apple iphone 8 plus 64 gb spacegrau</td>\n      <td>2</td>\n      <td>1</td>\n      <td>Apple iPhone 8 Plus 64GB</td>\n      <td>2612</td>\n      <td>Mobile Phones</td>\n    </tr>\n    <tr>\n      <th>2</th>\n      <td>apple mq8n2b/a iphone 8 plus 64gb 5.5 12mp sim...</td>\n      <td>3</td>\n      <td>1</td>\n      <td>Apple iPhone 8 Plus 64GB</td>\n      <td>2612</td>\n      <td>Mobile Phones</td>\n    </tr>\n    <tr>\n      <th>3</th>\n      <td>apple iphone 8 plus 64gb space grey</td>\n      <td>4</td>\n      <td>1</td>\n      <td>Apple iPhone 8 Plus 64GB</td>\n      <td>2612</td>\n      <td>Mobile Phones</td>\n    </tr>\n    <tr>\n      <th>4</th>\n      <td>apple iphone 8 plus gold 5.5 64gb 4g unlocked ...</td>\n      <td>5</td>\n      <td>1</td>\n      <td>Apple iPhone 8 Plus 64GB</td>\n      <td>2612</td>\n      <td>Mobile Phones</td>\n    </tr>\n    <tr>\n      <th>...</th>\n      <td>...</td>\n      <td>...</td>\n      <td>...</td>\n      <td>...</td>\n      <td>...</td>\n      <td>...</td>\n    </tr>\n    <tr>\n      <th>35306</th>\n      <td>smeg fab28 60cm retro style right hand hinge f...</td>\n      <td>59</td>\n      <td>47517</td>\n      <td>Smeg FAB28 Cream</td>\n      <td>2623</td>\n      <td>Fridges</td>\n    </tr>\n    <tr>\n      <th>35307</th>\n      <td>smeg fab28 60cm retro style left hand hinge fr...</td>\n      <td>59</td>\n      <td>47518</td>\n      <td>Smeg FAB28 Red</td>\n      <td>2623</td>\n      <td>Fridges</td>\n    </tr>\n    <tr>\n      <th>35308</th>\n      <td>smeg fab28 60cm retro style left hand hinge fr...</td>\n      <td>59</td>\n      <td>47519</td>\n      <td>Smeg FAB28 Pink</td>\n      <td>2623</td>\n      <td>Fridges</td>\n    </tr>\n    <tr>\n      <th>35309</th>\n      <td>candy 60cm built under larder fridge cru160nek</td>\n      <td>125</td>\n      <td>47524</td>\n      <td>Candy CRU16.0</td>\n      <td>2623</td>\n      <td>Fridges</td>\n    </tr>\n    <tr>\n      <th>35310</th>\n      <td>neff k4316x7gb built under larder fridge</td>\n      <td>179</td>\n      <td>47525</td>\n      <td>Neff K4316</td>\n      <td>2623</td>\n      <td>Fridges</td>\n    </tr>\n  </tbody>\n</table>\n<p>35311 rows × 6 columns</p>\n</div>"
     },
     "execution_count": 23,
     "metadata": {},
     "output_type": "execute_result"
    }
   ],
   "source": [
    "#removing useless features\n",
    "dataset = dataset.drop(columns=['Product ID'])\n",
    "dataset"
   ],
   "metadata": {
    "collapsed": false,
    "pycharm": {
     "name": "#%%\n"
    }
   }
  },
  {
   "cell_type": "code",
   "execution_count": 18,
   "outputs": [],
   "source": [
    "#replacing String values with Numerical values"
   ],
   "metadata": {
    "collapsed": false,
    "pycharm": {
     "name": "#%%\n"
    }
   }
  },
  {
   "cell_type": "markdown",
   "id": "76b226e9",
   "metadata": {
    "pycharm": {
     "name": "#%% md\n"
    }
   },
   "source": [
    "\n",
    "## Step 3: Model Training\n",
    "Implement and train a multi-label classification model.\n"
   ]
  },
  {
   "cell_type": "code",
   "execution_count": 19,
   "id": "03af66a0",
   "metadata": {
    "pycharm": {
     "name": "#%%\n"
    }
   },
   "outputs": [],
   "source": [
    "\n",
    "# TODO: Implement and train the model\n"
   ]
  },
  {
   "cell_type": "markdown",
   "id": "dd759ff0",
   "metadata": {
    "pycharm": {
     "name": "#%% md\n"
    }
   },
   "source": [
    "\n",
    "## Step 4: Model Evaluation\n",
    "Evaluate the model using appropriate multi-label classification metrics.\n"
   ]
  },
  {
   "cell_type": "code",
   "execution_count": 20,
   "id": "f4889b93",
   "metadata": {
    "pycharm": {
     "name": "#%%\n"
    }
   },
   "outputs": [],
   "source": [
    "\n",
    "# TODO: Evaluate the model\n"
   ]
  },
  {
   "cell_type": "markdown",
   "id": "b50293e1",
   "metadata": {
    "pycharm": {
     "name": "#%% md\n"
    }
   },
   "source": [
    "\n",
    "## Step 5: Conclusion and Discussion\n",
    "Reflect on the model's performance and discuss potential improvements.\n"
   ]
  },
  {
   "cell_type": "code",
   "execution_count": 21,
   "id": "619e503a",
   "metadata": {
    "pycharm": {
     "name": "#%%\n"
    }
   },
   "outputs": [],
   "source": [
    "\n",
    "# TODO: Write your conclusion and discussion\n"
   ]
  }
 ],
 "metadata": {
  "language_info": {
   "name": "python"
  }
 },
 "nbformat": 4,
 "nbformat_minor": 5
}