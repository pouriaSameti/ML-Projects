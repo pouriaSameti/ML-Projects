{
 "cells": [
  {
   "cell_type": "markdown",
   "id": "26d0c1ab",
   "metadata": {},
   "source": [
    "\n",
    "# Multi-label Classification with the PriceRunner Dataset\n",
    "\n",
    "## Task Overview\n",
    "In this exercise, you will develop a multi-label classification model to classify products into multiple categories based on their 'Product Title' and 'Cluster Label'. The target variable for classification will be 'Category Label'.\n",
    "\n",
    "Your task includes selecting the right features, preprocessing the data, implementing a multi-label classification model, and evaluating its performance.\n",
    "\n",
    "Complete the sections marked `# TODO` and run each cell to see the output of your code.\n"
   ]
  },
  {
   "cell_type": "markdown",
   "id": "52123d7b",
   "metadata": {},
   "source": [
    "\n",
    "## Step 1: Data Loading\n",
    "Load the dataset into a Pandas DataFrame.\n"
   ]
  },
  {
   "cell_type": "code",
   "execution_count": null,
   "id": "1dddb351",
   "metadata": {},
   "outputs": [],
   "source": [
    "\n",
    "# TODO: Load the dataset\n",
    "import pandas as pd\n",
    "# dataset = pd.read_csv('path_to_dataset')\n"
   ]
  },
  {
   "cell_type": "markdown",
   "id": "0ff72f7b",
   "metadata": {},
   "source": [
    "\n",
    "## Step 2: Data Preprocessing\n",
    "Preprocess the 'Product Title' and 'Cluster Label' features and encode the 'Category Label'.\n"
   ]
  },
  {
   "cell_type": "code",
   "execution_count": null,
   "id": "3c90cd7a",
   "metadata": {},
   "outputs": [],
   "source": [
    "\n",
    "# TODO: Preprocess the dataset\n",
    "# Note: You could not use ML Libraries and you have to implement it from scartch.\n"
   ]
  },
  {
   "cell_type": "markdown",
   "id": "76b226e9",
   "metadata": {},
   "source": [
    "\n",
    "## Step 3: Model Training\n",
    "Implement and train a multi-label classification model.\n"
   ]
  },
  {
   "cell_type": "code",
   "execution_count": null,
   "id": "03af66a0",
   "metadata": {},
   "outputs": [],
   "source": [
    "\n",
    "# TODO: Implement and train the model\n"
   ]
  },
  {
   "cell_type": "markdown",
   "id": "dd759ff0",
   "metadata": {},
   "source": [
    "\n",
    "## Step 4: Model Evaluation\n",
    "Evaluate the model using appropriate multi-label classification metrics.\n"
   ]
  },
  {
   "cell_type": "code",
   "execution_count": null,
   "id": "f4889b93",
   "metadata": {},
   "outputs": [],
   "source": [
    "\n",
    "# TODO: Evaluate the model\n"
   ]
  },
  {
   "cell_type": "markdown",
   "id": "b50293e1",
   "metadata": {},
   "source": [
    "\n",
    "## Step 5: Conclusion and Discussion\n",
    "Reflect on the model's performance and discuss potential improvements.\n"
   ]
  },
  {
   "cell_type": "code",
   "execution_count": null,
   "id": "619e503a",
   "metadata": {},
   "outputs": [],
   "source": [
    "\n",
    "# TODO: Write your conclusion and discussion\n"
   ]
  }
 ],
 "metadata": {
  "language_info": {
   "name": "python"
  }
 },
 "nbformat": 4,
 "nbformat_minor": 5
}
