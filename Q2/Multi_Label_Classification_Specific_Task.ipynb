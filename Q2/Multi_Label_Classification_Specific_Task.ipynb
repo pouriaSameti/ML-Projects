{
 "cells": [
  {
   "cell_type": "markdown",
   "id": "26d0c1ab",
   "metadata": {
    "pycharm": {
     "name": "#%% md\n"
    }
   },
   "source": [
    "\n",
    "# Multi-label Classification with the PriceRunner Dataset\n",
    "\n",
    "## Task Overview\n",
    "In this exercise, you will develop a multi-label classification model to classify products into multiple categories based on their 'Product Title' and 'Cluster Label'. The target variable for classification will be 'Category Label'.\n",
    "\n",
    "Your task includes selecting the right features, preprocessing the data, implementing a multi-label classification model, and evaluating its performance.\n",
    "\n",
    "Complete the sections marked `# TODO` and run each cell to see the output of your code.\n"
   ]
  },
  {
   "cell_type": "markdown",
   "id": "52123d7b",
   "metadata": {
    "pycharm": {
     "name": "#%% md\n"
    }
   },
   "source": [
    "\n",
    "## Step 1: Data Loading\n",
    "Load the dataset into a Pandas DataFrame.\n"
   ]
  },
  {
   "cell_type": "code",
   "execution_count": 34,
   "outputs": [],
   "source": [
    "import pandas as pd"
   ],
   "metadata": {
    "collapsed": false,
    "pycharm": {
     "name": "#%%\n"
    }
   }
  },
  {
   "cell_type": "code",
   "execution_count": 35,
   "id": "1dddb351",
   "metadata": {
    "pycharm": {
     "name": "#%%\n"
    }
   },
   "outputs": [
    {
     "data": {
      "text/plain": "       Product ID                                      Product Title  \\\n0               1                    apple iphone 8 plus 64gb silver   \n1               2                apple iphone 8 plus 64 gb spacegrau   \n2               3  apple mq8n2b/a iphone 8 plus 64gb 5.5 12mp sim...   \n3               4                apple iphone 8 plus 64gb space grey   \n4               5  apple iphone 8 plus gold 5.5 64gb 4g unlocked ...   \n...           ...                                                ...   \n35306       47350  smeg fab28 60cm retro style right hand hinge f...   \n35307       47351  smeg fab28 60cm retro style left hand hinge fr...   \n35308       47352  smeg fab28 60cm retro style left hand hinge fr...   \n35309       47355     candy 60cm built under larder fridge cru160nek   \n35310       47358           neff k4316x7gb built under larder fridge   \n\n        Merchant ID   Cluster ID             Cluster Label   Category ID  \\\n0                 1            1  Apple iPhone 8 Plus 64GB          2612   \n1                 2            1  Apple iPhone 8 Plus 64GB          2612   \n2                 3            1  Apple iPhone 8 Plus 64GB          2612   \n3                 4            1  Apple iPhone 8 Plus 64GB          2612   \n4                 5            1  Apple iPhone 8 Plus 64GB          2612   \n...             ...          ...                       ...           ...   \n35306            59        47517          Smeg FAB28 Cream          2623   \n35307            59        47518            Smeg FAB28 Red          2623   \n35308            59        47519           Smeg FAB28 Pink          2623   \n35309           125        47524             Candy CRU16.0          2623   \n35310           179        47525                Neff K4316          2623   \n\n       Category Label  \n0       Mobile Phones  \n1       Mobile Phones  \n2       Mobile Phones  \n3       Mobile Phones  \n4       Mobile Phones  \n...               ...  \n35306         Fridges  \n35307         Fridges  \n35308         Fridges  \n35309         Fridges  \n35310         Fridges  \n\n[35311 rows x 7 columns]",
      "text/html": "<div>\n<style scoped>\n    .dataframe tbody tr th:only-of-type {\n        vertical-align: middle;\n    }\n\n    .dataframe tbody tr th {\n        vertical-align: top;\n    }\n\n    .dataframe thead th {\n        text-align: right;\n    }\n</style>\n<table border=\"1\" class=\"dataframe\">\n  <thead>\n    <tr style=\"text-align: right;\">\n      <th></th>\n      <th>Product ID</th>\n      <th>Product Title</th>\n      <th>Merchant ID</th>\n      <th>Cluster ID</th>\n      <th>Cluster Label</th>\n      <th>Category ID</th>\n      <th>Category Label</th>\n    </tr>\n  </thead>\n  <tbody>\n    <tr>\n      <th>0</th>\n      <td>1</td>\n      <td>apple iphone 8 plus 64gb silver</td>\n      <td>1</td>\n      <td>1</td>\n      <td>Apple iPhone 8 Plus 64GB</td>\n      <td>2612</td>\n      <td>Mobile Phones</td>\n    </tr>\n    <tr>\n      <th>1</th>\n      <td>2</td>\n      <td>apple iphone 8 plus 64 gb spacegrau</td>\n      <td>2</td>\n      <td>1</td>\n      <td>Apple iPhone 8 Plus 64GB</td>\n      <td>2612</td>\n      <td>Mobile Phones</td>\n    </tr>\n    <tr>\n      <th>2</th>\n      <td>3</td>\n      <td>apple mq8n2b/a iphone 8 plus 64gb 5.5 12mp sim...</td>\n      <td>3</td>\n      <td>1</td>\n      <td>Apple iPhone 8 Plus 64GB</td>\n      <td>2612</td>\n      <td>Mobile Phones</td>\n    </tr>\n    <tr>\n      <th>3</th>\n      <td>4</td>\n      <td>apple iphone 8 plus 64gb space grey</td>\n      <td>4</td>\n      <td>1</td>\n      <td>Apple iPhone 8 Plus 64GB</td>\n      <td>2612</td>\n      <td>Mobile Phones</td>\n    </tr>\n    <tr>\n      <th>4</th>\n      <td>5</td>\n      <td>apple iphone 8 plus gold 5.5 64gb 4g unlocked ...</td>\n      <td>5</td>\n      <td>1</td>\n      <td>Apple iPhone 8 Plus 64GB</td>\n      <td>2612</td>\n      <td>Mobile Phones</td>\n    </tr>\n    <tr>\n      <th>...</th>\n      <td>...</td>\n      <td>...</td>\n      <td>...</td>\n      <td>...</td>\n      <td>...</td>\n      <td>...</td>\n      <td>...</td>\n    </tr>\n    <tr>\n      <th>35306</th>\n      <td>47350</td>\n      <td>smeg fab28 60cm retro style right hand hinge f...</td>\n      <td>59</td>\n      <td>47517</td>\n      <td>Smeg FAB28 Cream</td>\n      <td>2623</td>\n      <td>Fridges</td>\n    </tr>\n    <tr>\n      <th>35307</th>\n      <td>47351</td>\n      <td>smeg fab28 60cm retro style left hand hinge fr...</td>\n      <td>59</td>\n      <td>47518</td>\n      <td>Smeg FAB28 Red</td>\n      <td>2623</td>\n      <td>Fridges</td>\n    </tr>\n    <tr>\n      <th>35308</th>\n      <td>47352</td>\n      <td>smeg fab28 60cm retro style left hand hinge fr...</td>\n      <td>59</td>\n      <td>47519</td>\n      <td>Smeg FAB28 Pink</td>\n      <td>2623</td>\n      <td>Fridges</td>\n    </tr>\n    <tr>\n      <th>35309</th>\n      <td>47355</td>\n      <td>candy 60cm built under larder fridge cru160nek</td>\n      <td>125</td>\n      <td>47524</td>\n      <td>Candy CRU16.0</td>\n      <td>2623</td>\n      <td>Fridges</td>\n    </tr>\n    <tr>\n      <th>35310</th>\n      <td>47358</td>\n      <td>neff k4316x7gb built under larder fridge</td>\n      <td>179</td>\n      <td>47525</td>\n      <td>Neff K4316</td>\n      <td>2623</td>\n      <td>Fridges</td>\n    </tr>\n  </tbody>\n</table>\n<p>35311 rows × 7 columns</p>\n</div>"
     },
     "execution_count": 35,
     "metadata": {},
     "output_type": "execute_result"
    }
   ],
   "source": [
    "# TODO: Load the dataset\n",
    "dataset = pd.read_csv('Dataset/pricerunner_aggregate.csv')\n",
    "dataset"
   ]
  },
  {
   "cell_type": "markdown",
   "id": "0ff72f7b",
   "metadata": {
    "pycharm": {
     "name": "#%% md\n"
    }
   },
   "source": [
    "\n",
    "## Step 2: Data Preprocessing\n",
    "Preprocess the 'Product Title' and 'Cluster Label' features and encode the 'Category Label'.\n"
   ]
  },
  {
   "cell_type": "code",
   "execution_count": 36,
   "id": "3c90cd7a",
   "metadata": {
    "pycharm": {
     "name": "#%%\n"
    }
   },
   "outputs": [
    {
     "data": {
      "text/plain": "Product ID         False\nProduct Title      False\n Merchant ID       False\n Cluster ID        False\n Cluster Label     False\n Category ID       False\n Category Label    False\ndtype: bool"
     },
     "execution_count": 36,
     "metadata": {},
     "output_type": "execute_result"
    }
   ],
   "source": [
    "#checking for NAN data\n",
    "dataset.isnull().any()"
   ]
  },
  {
   "cell_type": "code",
   "execution_count": 37,
   "outputs": [
    {
     "data": {
      "text/plain": "        Merchant ID   Cluster ID   Category ID\n0                 1            1          2612\n1                 2            1          2612\n2                 3            1          2612\n3                 4            1          2612\n4                 5            1          2612\n...             ...          ...           ...\n35306            59        47517          2623\n35307            59        47518          2623\n35308            59        47519          2623\n35309           125        47524          2623\n35310           179        47525          2623\n\n[35311 rows x 3 columns]",
      "text/html": "<div>\n<style scoped>\n    .dataframe tbody tr th:only-of-type {\n        vertical-align: middle;\n    }\n\n    .dataframe tbody tr th {\n        vertical-align: top;\n    }\n\n    .dataframe thead th {\n        text-align: right;\n    }\n</style>\n<table border=\"1\" class=\"dataframe\">\n  <thead>\n    <tr style=\"text-align: right;\">\n      <th></th>\n      <th>Merchant ID</th>\n      <th>Cluster ID</th>\n      <th>Category ID</th>\n    </tr>\n  </thead>\n  <tbody>\n    <tr>\n      <th>0</th>\n      <td>1</td>\n      <td>1</td>\n      <td>2612</td>\n    </tr>\n    <tr>\n      <th>1</th>\n      <td>2</td>\n      <td>1</td>\n      <td>2612</td>\n    </tr>\n    <tr>\n      <th>2</th>\n      <td>3</td>\n      <td>1</td>\n      <td>2612</td>\n    </tr>\n    <tr>\n      <th>3</th>\n      <td>4</td>\n      <td>1</td>\n      <td>2612</td>\n    </tr>\n    <tr>\n      <th>4</th>\n      <td>5</td>\n      <td>1</td>\n      <td>2612</td>\n    </tr>\n    <tr>\n      <th>...</th>\n      <td>...</td>\n      <td>...</td>\n      <td>...</td>\n    </tr>\n    <tr>\n      <th>35306</th>\n      <td>59</td>\n      <td>47517</td>\n      <td>2623</td>\n    </tr>\n    <tr>\n      <th>35307</th>\n      <td>59</td>\n      <td>47518</td>\n      <td>2623</td>\n    </tr>\n    <tr>\n      <th>35308</th>\n      <td>59</td>\n      <td>47519</td>\n      <td>2623</td>\n    </tr>\n    <tr>\n      <th>35309</th>\n      <td>125</td>\n      <td>47524</td>\n      <td>2623</td>\n    </tr>\n    <tr>\n      <th>35310</th>\n      <td>179</td>\n      <td>47525</td>\n      <td>2623</td>\n    </tr>\n  </tbody>\n</table>\n<p>35311 rows × 3 columns</p>\n</div>"
     },
     "execution_count": 37,
     "metadata": {},
     "output_type": "execute_result"
    }
   ],
   "source": [
    "#removing useless features\n",
    "dataset = dataset.drop(columns=['Product ID', 'Product Title' ,' Cluster Label', ' Category Label'])\n",
    "dataset"
   ],
   "metadata": {
    "collapsed": false,
    "pycharm": {
     "name": "#%%\n"
    }
   }
  },
  {
   "cell_type": "code",
   "execution_count": 39,
   "outputs": [],
   "source": [
    "#splitting dataset\n",
    "from sklearn.model_selection import train_test_split\n",
    "\n",
    "x_train, x_test, y_train, y_test = train_test_split(dataset.drop(columns=' Category ID'), dataset[' Category ID'], test_size=0.2, random_state=42)"
   ],
   "metadata": {
    "collapsed": false,
    "pycharm": {
     "name": "#%%\n"
    }
   }
  },
  {
   "cell_type": "markdown",
   "id": "76b226e9",
   "metadata": {
    "pycharm": {
     "name": "#%% md\n"
    }
   },
   "source": [
    "\n",
    "## Step 3: Model Training\n",
    "Implement and train a multi-label classification model.\n"
   ]
  },
  {
   "cell_type": "code",
   "execution_count": 40,
   "id": "03af66a0",
   "metadata": {
    "pycharm": {
     "name": "#%%\n"
    }
   },
   "outputs": [
    {
     "data": {
      "text/plain": "MultinomialNB()",
      "text/html": "<style>#sk-container-id-1 {color: black;}#sk-container-id-1 pre{padding: 0;}#sk-container-id-1 div.sk-toggleable {background-color: white;}#sk-container-id-1 label.sk-toggleable__label {cursor: pointer;display: block;width: 100%;margin-bottom: 0;padding: 0.3em;box-sizing: border-box;text-align: center;}#sk-container-id-1 label.sk-toggleable__label-arrow:before {content: \"▸\";float: left;margin-right: 0.25em;color: #696969;}#sk-container-id-1 label.sk-toggleable__label-arrow:hover:before {color: black;}#sk-container-id-1 div.sk-estimator:hover label.sk-toggleable__label-arrow:before {color: black;}#sk-container-id-1 div.sk-toggleable__content {max-height: 0;max-width: 0;overflow: hidden;text-align: left;background-color: #f0f8ff;}#sk-container-id-1 div.sk-toggleable__content pre {margin: 0.2em;color: black;border-radius: 0.25em;background-color: #f0f8ff;}#sk-container-id-1 input.sk-toggleable__control:checked~div.sk-toggleable__content {max-height: 200px;max-width: 100%;overflow: auto;}#sk-container-id-1 input.sk-toggleable__control:checked~label.sk-toggleable__label-arrow:before {content: \"▾\";}#sk-container-id-1 div.sk-estimator input.sk-toggleable__control:checked~label.sk-toggleable__label {background-color: #d4ebff;}#sk-container-id-1 div.sk-label input.sk-toggleable__control:checked~label.sk-toggleable__label {background-color: #d4ebff;}#sk-container-id-1 input.sk-hidden--visually {border: 0;clip: rect(1px 1px 1px 1px);clip: rect(1px, 1px, 1px, 1px);height: 1px;margin: -1px;overflow: hidden;padding: 0;position: absolute;width: 1px;}#sk-container-id-1 div.sk-estimator {font-family: monospace;background-color: #f0f8ff;border: 1px dotted black;border-radius: 0.25em;box-sizing: border-box;margin-bottom: 0.5em;}#sk-container-id-1 div.sk-estimator:hover {background-color: #d4ebff;}#sk-container-id-1 div.sk-parallel-item::after {content: \"\";width: 100%;border-bottom: 1px solid gray;flex-grow: 1;}#sk-container-id-1 div.sk-label:hover label.sk-toggleable__label {background-color: #d4ebff;}#sk-container-id-1 div.sk-serial::before {content: \"\";position: absolute;border-left: 1px solid gray;box-sizing: border-box;top: 0;bottom: 0;left: 50%;z-index: 0;}#sk-container-id-1 div.sk-serial {display: flex;flex-direction: column;align-items: center;background-color: white;padding-right: 0.2em;padding-left: 0.2em;position: relative;}#sk-container-id-1 div.sk-item {position: relative;z-index: 1;}#sk-container-id-1 div.sk-parallel {display: flex;align-items: stretch;justify-content: center;background-color: white;position: relative;}#sk-container-id-1 div.sk-item::before, #sk-container-id-1 div.sk-parallel-item::before {content: \"\";position: absolute;border-left: 1px solid gray;box-sizing: border-box;top: 0;bottom: 0;left: 50%;z-index: -1;}#sk-container-id-1 div.sk-parallel-item {display: flex;flex-direction: column;z-index: 1;position: relative;background-color: white;}#sk-container-id-1 div.sk-parallel-item:first-child::after {align-self: flex-end;width: 50%;}#sk-container-id-1 div.sk-parallel-item:last-child::after {align-self: flex-start;width: 50%;}#sk-container-id-1 div.sk-parallel-item:only-child::after {width: 0;}#sk-container-id-1 div.sk-dashed-wrapped {border: 1px dashed gray;margin: 0 0.4em 0.5em 0.4em;box-sizing: border-box;padding-bottom: 0.4em;background-color: white;}#sk-container-id-1 div.sk-label label {font-family: monospace;font-weight: bold;display: inline-block;line-height: 1.2em;}#sk-container-id-1 div.sk-label-container {text-align: center;}#sk-container-id-1 div.sk-container {/* jupyter's `normalize.less` sets `[hidden] { display: none; }` but bootstrap.min.css set `[hidden] { display: none !important; }` so we also need the `!important` here to be able to override the default hidden behavior on the sphinx rendered scikit-learn.org. See: https://github.com/scikit-learn/scikit-learn/issues/21755 */display: inline-block !important;position: relative;}#sk-container-id-1 div.sk-text-repr-fallback {display: none;}</style><div id=\"sk-container-id-1\" class=\"sk-top-container\"><div class=\"sk-text-repr-fallback\"><pre>MultinomialNB()</pre><b>In a Jupyter environment, please rerun this cell to show the HTML representation or trust the notebook. <br />On GitHub, the HTML representation is unable to render, please try loading this page with nbviewer.org.</b></div><div class=\"sk-container\" hidden><div class=\"sk-item\"><div class=\"sk-estimator sk-toggleable\"><input class=\"sk-toggleable__control sk-hidden--visually\" id=\"sk-estimator-id-1\" type=\"checkbox\" checked><label for=\"sk-estimator-id-1\" class=\"sk-toggleable__label sk-toggleable__label-arrow\">MultinomialNB</label><div class=\"sk-toggleable__content\"><pre>MultinomialNB()</pre></div></div></div></div></div>"
     },
     "execution_count": 40,
     "metadata": {},
     "output_type": "execute_result"
    }
   ],
   "source": [
    "\n",
    "# TODO: Implement and train the model\n",
    "from sklearn.naive_bayes import MultinomialNB\n",
    "\n",
    "mnb = MultinomialNB()\n",
    "mnb.fit(x_train, y_train)"
   ]
  },
  {
   "cell_type": "markdown",
   "id": "dd759ff0",
   "metadata": {
    "pycharm": {
     "name": "#%% md\n"
    }
   },
   "source": [
    "\n",
    "## Step 4: Model Evaluation\n",
    "Evaluate the model using appropriate multi-label classification metrics.\n"
   ]
  },
  {
   "cell_type": "code",
   "execution_count": 31,
   "id": "f4889b93",
   "metadata": {
    "pycharm": {
     "name": "#%%\n"
    }
   },
   "outputs": [],
   "source": [
    "\n",
    "# TODO: Evaluate the model\n"
   ]
  },
  {
   "cell_type": "markdown",
   "id": "b50293e1",
   "metadata": {
    "pycharm": {
     "name": "#%% md\n"
    }
   },
   "source": [
    "\n",
    "## Step 5: Conclusion and Discussion\n",
    "Reflect on the model's performance and discuss potential improvements.\n"
   ]
  },
  {
   "cell_type": "code",
   "execution_count": 32,
   "id": "619e503a",
   "metadata": {
    "pycharm": {
     "name": "#%%\n"
    }
   },
   "outputs": [],
   "source": [
    "\n",
    "# TODO: Write your conclusion and discussion\n"
   ]
  }
 ],
 "metadata": {
  "language_info": {
   "name": "python"
  }
 },
 "nbformat": 4,
 "nbformat_minor": 5
}