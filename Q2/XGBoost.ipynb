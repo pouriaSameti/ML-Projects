{
 "cells": [
  {
   "cell_type": "code",
   "execution_count": 1,
   "outputs": [],
   "source": [
    "import pandas as pd\n",
    "import numpy as np"
   ],
   "metadata": {
    "collapsed": false,
    "pycharm": {
     "name": "#%%\n"
    }
   }
  },
  {
   "cell_type": "code",
   "execution_count": 2,
   "outputs": [],
   "source": [
    "# from ucimlrepo import fetch_ucirepo\n",
    "#\n",
    "# # fetch dataset\n",
    "# heart_disease = fetch_ucirepo(id=45)\n",
    "#\n",
    "# # data (as pandas dataframes)\n",
    "# X = heart_disease.data.features\n",
    "# y = heart_disease.data.targets"
   ],
   "metadata": {
    "collapsed": false,
    "pycharm": {
     "name": "#%%\n"
    }
   }
  },
  {
   "cell_type": "code",
   "execution_count": 3,
   "outputs": [],
   "source": [
    "# df = pd.concat([X, y], axis=1)\n",
    "# df.to_csv('data.csv', index=False)"
   ],
   "metadata": {
    "collapsed": false,
    "pycharm": {
     "name": "#%%\n"
    }
   }
  },
  {
   "cell_type": "code",
   "execution_count": 4,
   "outputs": [],
   "source": [
    "#reading data\n",
    "df = pd.read_csv('data.csv')\n",
    "X = df.drop(columns='num')\n",
    "Y = df['num']"
   ],
   "metadata": {
    "collapsed": false,
    "pycharm": {
     "name": "#%%\n"
    }
   }
  },
  {
   "cell_type": "code",
   "execution_count": 5,
   "outputs": [],
   "source": [
    "# splitting Dataset\n",
    "from sklearn.model_selection import train_test_split\n",
    "\n",
    "x_train, x_test, y_train, y_test = train_test_split(X, Y, test_size=0.2, random_state=42)"
   ],
   "metadata": {
    "collapsed": false,
    "pycharm": {
     "name": "#%%\n"
    }
   }
  },
  {
   "cell_type": "code",
   "execution_count": 6,
   "outputs": [
    {
     "name": "stdout",
     "output_type": "stream",
     "text": [
      "age         0\n",
      "sex         0\n",
      "cp          0\n",
      "trestbps    0\n",
      "chol        0\n",
      "fbs         0\n",
      "restecg     0\n",
      "thalach     0\n",
      "exang       0\n",
      "oldpeak     0\n",
      "slope       0\n",
      "ca          3\n",
      "thal        2\n",
      "dtype: int64\n",
      "age         0\n",
      "sex         0\n",
      "cp          0\n",
      "trestbps    0\n",
      "chol        0\n",
      "fbs         0\n",
      "restecg     0\n",
      "thalach     0\n",
      "exang       0\n",
      "oldpeak     0\n",
      "slope       0\n",
      "ca          1\n",
      "thal        0\n",
      "dtype: int64\n"
     ]
    }
   ],
   "source": [
    "#checking NAN values\n",
    "\n",
    "print(x_train.isnull().sum())\n",
    "print(x_test.isnull().sum())"
   ],
   "metadata": {
    "collapsed": false,
    "pycharm": {
     "name": "#%%\n"
    }
   }
  },
  {
   "cell_type": "code",
   "execution_count": 7,
   "outputs": [],
   "source": [
    "#fill NAN\n",
    "\n",
    "def replace_numeric(columns: list, dataset: pd.DataFrame):\n",
    "    nan_list = dataset.isnull().any()\n",
    "    for col in columns:\n",
    "        if nan_list[col]:\n",
    "            temp = dataset[col].copy(deep=True)\n",
    "            temp = temp.dropna()\n",
    "            dataset[col].fillna(temp.mean(), inplace=True)\n",
    "\n",
    "train_cols = ['ca', 'thal']\n",
    "test_cols = ['ca']\n",
    "\n",
    "replace_numeric(train_cols, x_train)\n",
    "replace_numeric(test_cols, x_test)"
   ],
   "metadata": {
    "collapsed": false,
    "pycharm": {
     "name": "#%%\n"
    }
   }
  },
  {
   "cell_type": "code",
   "execution_count": 8,
   "outputs": [],
   "source": [
    "#Feature scaling\n",
    "from sklearn.preprocessing import StandardScaler\n",
    "scaler = StandardScaler()\n",
    "\n",
    "x_train = pd.DataFrame(scaler.fit_transform(x_train), columns=X.columns)\n",
    "x_test = pd.DataFrame(scaler.fit_transform(x_test), columns=X.columns)"
   ],
   "metadata": {
    "collapsed": false,
    "pycharm": {
     "name": "#%%\n"
    }
   }
  },
  {
   "cell_type": "code",
   "execution_count": 28,
   "outputs": [
    {
     "data": {
      "text/plain": "                  Value\nTrain Accuracy  1.00000\nTest Accuracy   0.47541",
      "text/html": "<div>\n<style scoped>\n    .dataframe tbody tr th:only-of-type {\n        vertical-align: middle;\n    }\n\n    .dataframe tbody tr th {\n        vertical-align: top;\n    }\n\n    .dataframe thead th {\n        text-align: right;\n    }\n</style>\n<table border=\"1\" class=\"dataframe\">\n  <thead>\n    <tr style=\"text-align: right;\">\n      <th></th>\n      <th>Value</th>\n    </tr>\n  </thead>\n  <tbody>\n    <tr>\n      <th>Train Accuracy</th>\n      <td>1.00000</td>\n    </tr>\n    <tr>\n      <th>Test Accuracy</th>\n      <td>0.47541</td>\n    </tr>\n  </tbody>\n</table>\n</div>"
     },
     "execution_count": 28,
     "metadata": {},
     "output_type": "execute_result"
    }
   ],
   "source": [
    "#running model\n",
    "from xgboost import XGBClassifier\n",
    "from sklearn.metrics import accuracy_score\n",
    "\n",
    "xgb_first = XGBClassifier(n_estimators=40)\n",
    "xgb_first.fit(x_train, y_train)\n",
    "\n",
    "y_test_pred = xgb_first.predict(x_test)\n",
    "y_train_pred = xgb_first.predict(x_train)\n",
    "\n",
    "train_accuracy = accuracy_score(y_train, y_train_pred)\n",
    "test_accuracy = accuracy_score(y_test, y_test_pred)\n",
    "\n",
    "accuracy = pd.DataFrame({'Value': [train_accuracy, test_accuracy]}, index=['Train Accuracy', 'Test Accuracy'])\n",
    "accuracy"
   ],
   "metadata": {
    "collapsed": false,
    "pycharm": {
     "name": "#%%\n"
    }
   }
  },
  {
   "cell_type": "code",
   "execution_count": 29,
   "outputs": [
    {
     "data": {
      "text/plain": "                   Value\nTrain Accuracy  1.000000\nTest Accuracy   0.459016",
      "text/html": "<div>\n<style scoped>\n    .dataframe tbody tr th:only-of-type {\n        vertical-align: middle;\n    }\n\n    .dataframe tbody tr th {\n        vertical-align: top;\n    }\n\n    .dataframe thead th {\n        text-align: right;\n    }\n</style>\n<table border=\"1\" class=\"dataframe\">\n  <thead>\n    <tr style=\"text-align: right;\">\n      <th></th>\n      <th>Value</th>\n    </tr>\n  </thead>\n  <tbody>\n    <tr>\n      <th>Train Accuracy</th>\n      <td>1.000000</td>\n    </tr>\n    <tr>\n      <th>Test Accuracy</th>\n      <td>0.459016</td>\n    </tr>\n  </tbody>\n</table>\n</div>"
     },
     "execution_count": 29,
     "metadata": {},
     "output_type": "execute_result"
    }
   ],
   "source": [
    "xgb_second = XGBClassifier(n_estimators=200)\n",
    "xgb_second.fit(x_train, y_train)\n",
    "\n",
    "y_test_pred = xgb_second.predict(x_test)\n",
    "y_train_pred = xgb_second.predict(x_train)\n",
    "\n",
    "train_accuracy = accuracy_score(y_train, y_train_pred)\n",
    "test_accuracy = accuracy_score(y_test, y_test_pred)\n",
    "\n",
    "accuracy = pd.DataFrame({'Value': [train_accuracy, test_accuracy]}, index=['Train Accuracy', 'Test Accuracy'])\n",
    "accuracy"
   ],
   "metadata": {
    "collapsed": false,
    "pycharm": {
     "name": "#%%\n"
    }
   }
  },
  {
   "cell_type": "code",
   "execution_count": 30,
   "outputs": [
    {
     "data": {
      "text/plain": "                  Value\nTrain Accuracy  1.00000\nTest Accuracy   0.47541",
      "text/html": "<div>\n<style scoped>\n    .dataframe tbody tr th:only-of-type {\n        vertical-align: middle;\n    }\n\n    .dataframe tbody tr th {\n        vertical-align: top;\n    }\n\n    .dataframe thead th {\n        text-align: right;\n    }\n</style>\n<table border=\"1\" class=\"dataframe\">\n  <thead>\n    <tr style=\"text-align: right;\">\n      <th></th>\n      <th>Value</th>\n    </tr>\n  </thead>\n  <tbody>\n    <tr>\n      <th>Train Accuracy</th>\n      <td>1.00000</td>\n    </tr>\n    <tr>\n      <th>Test Accuracy</th>\n      <td>0.47541</td>\n    </tr>\n  </tbody>\n</table>\n</div>"
     },
     "execution_count": 30,
     "metadata": {},
     "output_type": "execute_result"
    }
   ],
   "source": [
    "xgb_third = XGBClassifier(learning_rate=0.1)\n",
    "xgb_third.fit(x_train, y_train)\n",
    "\n",
    "y_test_pred = xgb_third.predict(x_test)\n",
    "y_train_pred = xgb_third.predict(x_train)\n",
    "\n",
    "train_accuracy = accuracy_score(y_train, y_train_pred)\n",
    "test_accuracy = accuracy_score(y_test, y_test_pred)\n",
    "\n",
    "accuracy = pd.DataFrame({'Value': [train_accuracy, test_accuracy]}, index=['Train Accuracy', 'Test Accuracy'])\n",
    "accuracy"
   ],
   "metadata": {
    "collapsed": false,
    "pycharm": {
     "name": "#%%\n"
    }
   }
  },
  {
   "cell_type": "code",
   "execution_count": 33,
   "outputs": [
    {
     "data": {
      "text/plain": "                   Value\nTrain Accuracy  0.938017\nTest Accuracy   0.442623",
      "text/html": "<div>\n<style scoped>\n    .dataframe tbody tr th:only-of-type {\n        vertical-align: middle;\n    }\n\n    .dataframe tbody tr th {\n        vertical-align: top;\n    }\n\n    .dataframe thead th {\n        text-align: right;\n    }\n</style>\n<table border=\"1\" class=\"dataframe\">\n  <thead>\n    <tr style=\"text-align: right;\">\n      <th></th>\n      <th>Value</th>\n    </tr>\n  </thead>\n  <tbody>\n    <tr>\n      <th>Train Accuracy</th>\n      <td>0.938017</td>\n    </tr>\n    <tr>\n      <th>Test Accuracy</th>\n      <td>0.442623</td>\n    </tr>\n  </tbody>\n</table>\n</div>"
     },
     "execution_count": 33,
     "metadata": {},
     "output_type": "execute_result"
    }
   ],
   "source": [
    "xgb_fourth = XGBClassifier(learning_rate=0.01)\n",
    "xgb_fourth.fit(x_train, y_train)\n",
    "\n",
    "y_test_pred = xgb_fourth.predict(x_test)\n",
    "y_train_pred = xgb_fourth.predict(x_train)\n",
    "\n",
    "train_accuracy = accuracy_score(y_train, y_train_pred)\n",
    "test_accuracy = accuracy_score(y_test, y_test_pred)\n",
    "\n",
    "accuracy = pd.DataFrame({'Value': [train_accuracy, test_accuracy]}, index=['Train Accuracy', 'Test Accuracy'])\n",
    "accuracy"
   ],
   "metadata": {
    "collapsed": false,
    "pycharm": {
     "name": "#%%\n"
    }
   }
  },
  {
   "cell_type": "code",
   "execution_count": 34,
   "outputs": [
    {
     "data": {
      "text/plain": "                  Value\nTrain Accuracy  1.00000\nTest Accuracy   0.47541",
      "text/html": "<div>\n<style scoped>\n    .dataframe tbody tr th:only-of-type {\n        vertical-align: middle;\n    }\n\n    .dataframe tbody tr th {\n        vertical-align: top;\n    }\n\n    .dataframe thead th {\n        text-align: right;\n    }\n</style>\n<table border=\"1\" class=\"dataframe\">\n  <thead>\n    <tr style=\"text-align: right;\">\n      <th></th>\n      <th>Value</th>\n    </tr>\n  </thead>\n  <tbody>\n    <tr>\n      <th>Train Accuracy</th>\n      <td>1.00000</td>\n    </tr>\n    <tr>\n      <th>Test Accuracy</th>\n      <td>0.47541</td>\n    </tr>\n  </tbody>\n</table>\n</div>"
     },
     "execution_count": 34,
     "metadata": {},
     "output_type": "execute_result"
    }
   ],
   "source": [
    "xgb_fifth = XGBClassifier(learning_rate=0.1)\n",
    "xgb_fifth.fit(x_train, y_train)\n",
    "\n",
    "y_test_pred = xgb_fifth.predict(x_test)\n",
    "y_train_pred = xgb_fifth.predict(x_train)\n",
    "\n",
    "train_accuracy = accuracy_score(y_train, y_train_pred)\n",
    "test_accuracy = accuracy_score(y_test, y_test_pred)\n",
    "\n",
    "accuracy = pd.DataFrame({'Value': [train_accuracy, test_accuracy]}, index=['Train Accuracy', 'Test Accuracy'])\n",
    "accuracy"
   ],
   "metadata": {
    "collapsed": false,
    "pycharm": {
     "name": "#%%\n"
    }
   }
  },
  {
   "cell_type": "code",
   "execution_count": 35,
   "outputs": [
    {
     "data": {
      "text/plain": "                   Value\nTrain Accuracy  1.000000\nTest Accuracy   0.459016",
      "text/html": "<div>\n<style scoped>\n    .dataframe tbody tr th:only-of-type {\n        vertical-align: middle;\n    }\n\n    .dataframe tbody tr th {\n        vertical-align: top;\n    }\n\n    .dataframe thead th {\n        text-align: right;\n    }\n</style>\n<table border=\"1\" class=\"dataframe\">\n  <thead>\n    <tr style=\"text-align: right;\">\n      <th></th>\n      <th>Value</th>\n    </tr>\n  </thead>\n  <tbody>\n    <tr>\n      <th>Train Accuracy</th>\n      <td>1.000000</td>\n    </tr>\n    <tr>\n      <th>Test Accuracy</th>\n      <td>0.459016</td>\n    </tr>\n  </tbody>\n</table>\n</div>"
     },
     "execution_count": 35,
     "metadata": {},
     "output_type": "execute_result"
    }
   ],
   "source": [
    "xgb_sixth = XGBClassifier(max_depth=20)\n",
    "xgb_sixth.fit(x_train, y_train)\n",
    "\n",
    "y_test_pred = xgb_sixth.predict(x_test)\n",
    "y_train_pred = xgb_sixth.predict(x_train)\n",
    "\n",
    "train_accuracy = accuracy_score(y_train, y_train_pred)\n",
    "test_accuracy = accuracy_score(y_test, y_test_pred)\n",
    "\n",
    "accuracy = pd.DataFrame({'Value': [train_accuracy, test_accuracy]}, index=['Train Accuracy', 'Test Accuracy'])\n",
    "accuracy"
   ],
   "metadata": {
    "collapsed": false,
    "pycharm": {
     "name": "#%%\n"
    }
   }
  },
  {
   "cell_type": "code",
   "execution_count": 39,
   "outputs": [
    {
     "data": {
      "text/plain": "                   Value\nTrain Accuracy  1.000000\nTest Accuracy   0.459016",
      "text/html": "<div>\n<style scoped>\n    .dataframe tbody tr th:only-of-type {\n        vertical-align: middle;\n    }\n\n    .dataframe tbody tr th {\n        vertical-align: top;\n    }\n\n    .dataframe thead th {\n        text-align: right;\n    }\n</style>\n<table border=\"1\" class=\"dataframe\">\n  <thead>\n    <tr style=\"text-align: right;\">\n      <th></th>\n      <th>Value</th>\n    </tr>\n  </thead>\n  <tbody>\n    <tr>\n      <th>Train Accuracy</th>\n      <td>1.000000</td>\n    </tr>\n    <tr>\n      <th>Test Accuracy</th>\n      <td>0.459016</td>\n    </tr>\n  </tbody>\n</table>\n</div>"
     },
     "execution_count": 39,
     "metadata": {},
     "output_type": "execute_result"
    }
   ],
   "source": [
    "xgb_seventh = XGBClassifier(max_depth=100)\n",
    "xgb_seventh.fit(x_train, y_train)\n",
    "\n",
    "y_test_pred = xgb_seventh.predict(x_test)\n",
    "y_train_pred = xgb_seventh.predict(x_train)\n",
    "\n",
    "train_accuracy = accuracy_score(y_train, y_train_pred)\n",
    "test_accuracy = accuracy_score(y_test, y_test_pred)\n",
    "\n",
    "accuracy = pd.DataFrame({'Value': [train_accuracy, test_accuracy]}, index=['Train Accuracy', 'Test Accuracy'])\n",
    "accuracy"
   ],
   "metadata": {
    "collapsed": false,
    "pycharm": {
     "name": "#%%\n"
    }
   }
  }
 ],
 "metadata": {
  "kernelspec": {
   "display_name": "Python 3",
   "language": "python",
   "name": "python3"
  },
  "language_info": {
   "codemirror_mode": {
    "name": "ipython",
    "version": 2
   },
   "file_extension": ".py",
   "mimetype": "text/x-python",
   "name": "python",
   "nbconvert_exporter": "python",
   "pygments_lexer": "ipython2",
   "version": "2.7.6"
  }
 },
 "nbformat": 4,
 "nbformat_minor": 0
}