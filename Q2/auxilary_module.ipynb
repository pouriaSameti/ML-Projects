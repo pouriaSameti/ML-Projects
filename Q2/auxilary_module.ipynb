{
 "cells": [
  {
   "cell_type": "code",
   "execution_count": 34,
   "outputs": [],
   "source": [
    "import pandas as pd"
   ],
   "metadata": {
    "collapsed": false,
    "pycharm": {
     "name": "#%%\n"
    }
   }
  },
  {
   "cell_type": "code",
   "execution_count": 35,
   "outputs": [
    {
     "data": {
      "text/plain": "       Product ID                                      Product Title  \\\n0               1                    apple iphone 8 plus 64gb silver   \n1               2                apple iphone 8 plus 64 gb spacegrau   \n2               3  apple mq8n2b/a iphone 8 plus 64gb 5.5 12mp sim...   \n3               4                apple iphone 8 plus 64gb space grey   \n4               5  apple iphone 8 plus gold 5.5 64gb 4g unlocked ...   \n...           ...                                                ...   \n35306       47350  smeg fab28 60cm retro style right hand hinge f...   \n35307       47351  smeg fab28 60cm retro style left hand hinge fr...   \n35308       47352  smeg fab28 60cm retro style left hand hinge fr...   \n35309       47355     candy 60cm built under larder fridge cru160nek   \n35310       47358           neff k4316x7gb built under larder fridge   \n\n        Merchant ID   Cluster ID             Cluster Label   Category ID  \\\n0                 1            1  Apple iPhone 8 Plus 64GB          2612   \n1                 2            1  Apple iPhone 8 Plus 64GB          2612   \n2                 3            1  Apple iPhone 8 Plus 64GB          2612   \n3                 4            1  Apple iPhone 8 Plus 64GB          2612   \n4                 5            1  Apple iPhone 8 Plus 64GB          2612   \n...             ...          ...                       ...           ...   \n35306            59        47517          Smeg FAB28 Cream          2623   \n35307            59        47518            Smeg FAB28 Red          2623   \n35308            59        47519           Smeg FAB28 Pink          2623   \n35309           125        47524             Candy CRU16.0          2623   \n35310           179        47525                Neff K4316          2623   \n\n       Category Label  \n0       Mobile Phones  \n1       Mobile Phones  \n2       Mobile Phones  \n3       Mobile Phones  \n4       Mobile Phones  \n...               ...  \n35306         Fridges  \n35307         Fridges  \n35308         Fridges  \n35309         Fridges  \n35310         Fridges  \n\n[35311 rows x 7 columns]",
      "text/html": "<div>\n<style scoped>\n    .dataframe tbody tr th:only-of-type {\n        vertical-align: middle;\n    }\n\n    .dataframe tbody tr th {\n        vertical-align: top;\n    }\n\n    .dataframe thead th {\n        text-align: right;\n    }\n</style>\n<table border=\"1\" class=\"dataframe\">\n  <thead>\n    <tr style=\"text-align: right;\">\n      <th></th>\n      <th>Product ID</th>\n      <th>Product Title</th>\n      <th>Merchant ID</th>\n      <th>Cluster ID</th>\n      <th>Cluster Label</th>\n      <th>Category ID</th>\n      <th>Category Label</th>\n    </tr>\n  </thead>\n  <tbody>\n    <tr>\n      <th>0</th>\n      <td>1</td>\n      <td>apple iphone 8 plus 64gb silver</td>\n      <td>1</td>\n      <td>1</td>\n      <td>Apple iPhone 8 Plus 64GB</td>\n      <td>2612</td>\n      <td>Mobile Phones</td>\n    </tr>\n    <tr>\n      <th>1</th>\n      <td>2</td>\n      <td>apple iphone 8 plus 64 gb spacegrau</td>\n      <td>2</td>\n      <td>1</td>\n      <td>Apple iPhone 8 Plus 64GB</td>\n      <td>2612</td>\n      <td>Mobile Phones</td>\n    </tr>\n    <tr>\n      <th>2</th>\n      <td>3</td>\n      <td>apple mq8n2b/a iphone 8 plus 64gb 5.5 12mp sim...</td>\n      <td>3</td>\n      <td>1</td>\n      <td>Apple iPhone 8 Plus 64GB</td>\n      <td>2612</td>\n      <td>Mobile Phones</td>\n    </tr>\n    <tr>\n      <th>3</th>\n      <td>4</td>\n      <td>apple iphone 8 plus 64gb space grey</td>\n      <td>4</td>\n      <td>1</td>\n      <td>Apple iPhone 8 Plus 64GB</td>\n      <td>2612</td>\n      <td>Mobile Phones</td>\n    </tr>\n    <tr>\n      <th>4</th>\n      <td>5</td>\n      <td>apple iphone 8 plus gold 5.5 64gb 4g unlocked ...</td>\n      <td>5</td>\n      <td>1</td>\n      <td>Apple iPhone 8 Plus 64GB</td>\n      <td>2612</td>\n      <td>Mobile Phones</td>\n    </tr>\n    <tr>\n      <th>...</th>\n      <td>...</td>\n      <td>...</td>\n      <td>...</td>\n      <td>...</td>\n      <td>...</td>\n      <td>...</td>\n      <td>...</td>\n    </tr>\n    <tr>\n      <th>35306</th>\n      <td>47350</td>\n      <td>smeg fab28 60cm retro style right hand hinge f...</td>\n      <td>59</td>\n      <td>47517</td>\n      <td>Smeg FAB28 Cream</td>\n      <td>2623</td>\n      <td>Fridges</td>\n    </tr>\n    <tr>\n      <th>35307</th>\n      <td>47351</td>\n      <td>smeg fab28 60cm retro style left hand hinge fr...</td>\n      <td>59</td>\n      <td>47518</td>\n      <td>Smeg FAB28 Red</td>\n      <td>2623</td>\n      <td>Fridges</td>\n    </tr>\n    <tr>\n      <th>35308</th>\n      <td>47352</td>\n      <td>smeg fab28 60cm retro style left hand hinge fr...</td>\n      <td>59</td>\n      <td>47519</td>\n      <td>Smeg FAB28 Pink</td>\n      <td>2623</td>\n      <td>Fridges</td>\n    </tr>\n    <tr>\n      <th>35309</th>\n      <td>47355</td>\n      <td>candy 60cm built under larder fridge cru160nek</td>\n      <td>125</td>\n      <td>47524</td>\n      <td>Candy CRU16.0</td>\n      <td>2623</td>\n      <td>Fridges</td>\n    </tr>\n    <tr>\n      <th>35310</th>\n      <td>47358</td>\n      <td>neff k4316x7gb built under larder fridge</td>\n      <td>179</td>\n      <td>47525</td>\n      <td>Neff K4316</td>\n      <td>2623</td>\n      <td>Fridges</td>\n    </tr>\n  </tbody>\n</table>\n<p>35311 rows × 7 columns</p>\n</div>"
     },
     "execution_count": 35,
     "metadata": {},
     "output_type": "execute_result"
    }
   ],
   "source": [
    "dataset = pd.read_csv('Dataset/pricerunner_aggregate.csv')\n",
    "dataset"
   ],
   "metadata": {
    "collapsed": false,
    "pycharm": {
     "name": "#%%\n"
    }
   }
  },
  {
   "cell_type": "code",
   "execution_count": 36,
   "outputs": [
    {
     "data": {
      "text/plain": "Product ID         False\nProduct Title      False\n Merchant ID       False\n Cluster ID        False\n Cluster Label     False\n Category ID       False\n Category Label    False\ndtype: bool"
     },
     "execution_count": 36,
     "metadata": {},
     "output_type": "execute_result"
    }
   ],
   "source": [
    "dataset.isnull().any()"
   ],
   "metadata": {
    "collapsed": false,
    "pycharm": {
     "name": "#%%\n"
    }
   }
  },
  {
   "cell_type": "code",
   "execution_count": 38,
   "outputs": [
    {
     "data": {
      "text/plain": "        Merchant ID   Cluster ID   Category ID\n0                 1            1          2612\n1                 2            1          2612\n2                 3            1          2612\n3                 4            1          2612\n4                 5            1          2612\n...             ...          ...           ...\n35306            59        47517          2623\n35307            59        47518          2623\n35308            59        47519          2623\n35309           125        47524          2623\n35310           179        47525          2623\n\n[35311 rows x 3 columns]",
      "text/html": "<div>\n<style scoped>\n    .dataframe tbody tr th:only-of-type {\n        vertical-align: middle;\n    }\n\n    .dataframe tbody tr th {\n        vertical-align: top;\n    }\n\n    .dataframe thead th {\n        text-align: right;\n    }\n</style>\n<table border=\"1\" class=\"dataframe\">\n  <thead>\n    <tr style=\"text-align: right;\">\n      <th></th>\n      <th>Merchant ID</th>\n      <th>Cluster ID</th>\n      <th>Category ID</th>\n    </tr>\n  </thead>\n  <tbody>\n    <tr>\n      <th>0</th>\n      <td>1</td>\n      <td>1</td>\n      <td>2612</td>\n    </tr>\n    <tr>\n      <th>1</th>\n      <td>2</td>\n      <td>1</td>\n      <td>2612</td>\n    </tr>\n    <tr>\n      <th>2</th>\n      <td>3</td>\n      <td>1</td>\n      <td>2612</td>\n    </tr>\n    <tr>\n      <th>3</th>\n      <td>4</td>\n      <td>1</td>\n      <td>2612</td>\n    </tr>\n    <tr>\n      <th>4</th>\n      <td>5</td>\n      <td>1</td>\n      <td>2612</td>\n    </tr>\n    <tr>\n      <th>...</th>\n      <td>...</td>\n      <td>...</td>\n      <td>...</td>\n    </tr>\n    <tr>\n      <th>35306</th>\n      <td>59</td>\n      <td>47517</td>\n      <td>2623</td>\n    </tr>\n    <tr>\n      <th>35307</th>\n      <td>59</td>\n      <td>47518</td>\n      <td>2623</td>\n    </tr>\n    <tr>\n      <th>35308</th>\n      <td>59</td>\n      <td>47519</td>\n      <td>2623</td>\n    </tr>\n    <tr>\n      <th>35309</th>\n      <td>125</td>\n      <td>47524</td>\n      <td>2623</td>\n    </tr>\n    <tr>\n      <th>35310</th>\n      <td>179</td>\n      <td>47525</td>\n      <td>2623</td>\n    </tr>\n  </tbody>\n</table>\n<p>35311 rows × 3 columns</p>\n</div>"
     },
     "execution_count": 38,
     "metadata": {},
     "output_type": "execute_result"
    }
   ],
   "source": [
    "#removing useless features\n",
    "dataset = dataset.drop(columns=['Product ID', 'Product Title' ,' Cluster Label', ' Category Label'])\n",
    "dataset"
   ],
   "metadata": {
    "collapsed": false,
    "pycharm": {
     "name": "#%%\n"
    }
   }
  },
  {
   "cell_type": "code",
   "execution_count": 41,
   "outputs": [
    {
     "data": {
      "text/plain": "        Merchant ID   Cluster ID\n32130             7        46162\n4771            128         4465\n428               6           25\n14006           264        39409\n6481              3         4872\n...             ...          ...\n13664           266        39187\n8899             51         6152\n8500             36         6013\n6332             59         4817\n5770             18         4636\n\n[7063 rows x 2 columns]",
      "text/html": "<div>\n<style scoped>\n    .dataframe tbody tr th:only-of-type {\n        vertical-align: middle;\n    }\n\n    .dataframe tbody tr th {\n        vertical-align: top;\n    }\n\n    .dataframe thead th {\n        text-align: right;\n    }\n</style>\n<table border=\"1\" class=\"dataframe\">\n  <thead>\n    <tr style=\"text-align: right;\">\n      <th></th>\n      <th>Merchant ID</th>\n      <th>Cluster ID</th>\n    </tr>\n  </thead>\n  <tbody>\n    <tr>\n      <th>32130</th>\n      <td>7</td>\n      <td>46162</td>\n    </tr>\n    <tr>\n      <th>4771</th>\n      <td>128</td>\n      <td>4465</td>\n    </tr>\n    <tr>\n      <th>428</th>\n      <td>6</td>\n      <td>25</td>\n    </tr>\n    <tr>\n      <th>14006</th>\n      <td>264</td>\n      <td>39409</td>\n    </tr>\n    <tr>\n      <th>6481</th>\n      <td>3</td>\n      <td>4872</td>\n    </tr>\n    <tr>\n      <th>...</th>\n      <td>...</td>\n      <td>...</td>\n    </tr>\n    <tr>\n      <th>13664</th>\n      <td>266</td>\n      <td>39187</td>\n    </tr>\n    <tr>\n      <th>8899</th>\n      <td>51</td>\n      <td>6152</td>\n    </tr>\n    <tr>\n      <th>8500</th>\n      <td>36</td>\n      <td>6013</td>\n    </tr>\n    <tr>\n      <th>6332</th>\n      <td>59</td>\n      <td>4817</td>\n    </tr>\n    <tr>\n      <th>5770</th>\n      <td>18</td>\n      <td>4636</td>\n    </tr>\n  </tbody>\n</table>\n<p>7063 rows × 2 columns</p>\n</div>"
     },
     "execution_count": 41,
     "metadata": {},
     "output_type": "execute_result"
    }
   ],
   "source": [
    "#splitting dataset\n",
    "from sklearn.model_selection import train_test_split\n",
    "\n",
    "x_train, x_test, y_train, y_test = train_test_split(dataset.drop(columns=' Category ID'), dataset[' Category ID'], test_size=0.2, random_state=42)"
   ],
   "metadata": {
    "collapsed": false,
    "pycharm": {
     "name": "#%%\n"
    }
   }
  },
  {
   "cell_type": "code",
   "execution_count": null,
   "outputs": [],
   "source": [],
   "metadata": {
    "collapsed": false,
    "pycharm": {
     "name": "#%%\n"
    }
   }
  }
 ],
 "metadata": {
  "kernelspec": {
   "display_name": "Python 3",
   "language": "python",
   "name": "python3"
  },
  "language_info": {
   "codemirror_mode": {
    "name": "ipython",
    "version": 2
   },
   "file_extension": ".py",
   "mimetype": "text/x-python",
   "name": "python",
   "nbconvert_exporter": "python",
   "pygments_lexer": "ipython2",
   "version": "2.7.6"
  }
 },
 "nbformat": 4,
 "nbformat_minor": 0
}