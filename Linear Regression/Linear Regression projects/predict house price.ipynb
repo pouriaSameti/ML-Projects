{
 "cells": [
  {
   "cell_type": "code",
   "execution_count": 52,
   "outputs": [],
   "source": [
    "import numpy as np\n",
    "import pandas as pd"
   ],
   "metadata": {
    "collapsed": false,
    "pycharm": {
     "name": "#%%\n"
    }
   }
  },
  {
   "cell_type": "code",
   "execution_count": 53,
   "outputs": [
    {
     "data": {
      "text/plain": "         CRIM   ZN  INDUS  CHAS    NOX     RM   AGE     DIS  RAD  TAX  \\\n0     0.25199  0.0  10.59   0.0  0.489  5.783  72.7  4.3549    4  277   \n1     0.62976  0.0   8.14   0.0  0.538  5.949  61.8  4.7075    4  307   \n2     1.23247  0.0   8.14   0.0  0.538  6.142  91.7  3.9769    4  307   \n3         NaN  0.0  18.10   1.0  0.631  6.683  96.8  1.3567   24  666   \n4    12.80230  0.0  18.10   0.0  0.740  5.854  96.6  1.8956   24  666   \n..        ...  ...    ...   ...    ...    ...   ...     ...  ...  ...   \n400   1.00245  0.0   8.14   0.0  0.538  6.674  87.3  4.2390    4  307   \n401   0.03041  0.0   5.19   0.0  0.515  5.895  59.6  5.6150    5  224   \n402   2.81838  0.0  18.10   0.0  0.532  5.762  40.3  4.0983   24  666   \n403   0.44791  0.0   6.20   1.0  0.507  6.726  66.5  3.6519    8  307   \n404   0.35809  0.0   6.20   1.0  0.507  6.951  88.5  2.8617    8  307   \n\n     PTRATIO       B  LSTAT  MEDV  \n0       18.6  389.43    NaN  22.5  \n1       21.0  396.90   8.26  20.4  \n2       21.0  396.90  18.72  15.2  \n3       20.2  375.33   3.73  50.0  \n4       20.2  240.52  23.79  10.8  \n..       ...     ...    ...   ...  \n400     21.0  380.23  11.98  21.0  \n401     20.2  394.81  10.56  18.5  \n402     20.2  392.92  10.42  21.8  \n403     17.4  360.20   8.05  29.0  \n404     17.4  391.70   9.71  26.7  \n\n[405 rows x 14 columns]",
      "text/html": "<div>\n<style scoped>\n    .dataframe tbody tr th:only-of-type {\n        vertical-align: middle;\n    }\n\n    .dataframe tbody tr th {\n        vertical-align: top;\n    }\n\n    .dataframe thead th {\n        text-align: right;\n    }\n</style>\n<table border=\"1\" class=\"dataframe\">\n  <thead>\n    <tr style=\"text-align: right;\">\n      <th></th>\n      <th>CRIM</th>\n      <th>ZN</th>\n      <th>INDUS</th>\n      <th>CHAS</th>\n      <th>NOX</th>\n      <th>RM</th>\n      <th>AGE</th>\n      <th>DIS</th>\n      <th>RAD</th>\n      <th>TAX</th>\n      <th>PTRATIO</th>\n      <th>B</th>\n      <th>LSTAT</th>\n      <th>MEDV</th>\n    </tr>\n  </thead>\n  <tbody>\n    <tr>\n      <th>0</th>\n      <td>0.25199</td>\n      <td>0.0</td>\n      <td>10.59</td>\n      <td>0.0</td>\n      <td>0.489</td>\n      <td>5.783</td>\n      <td>72.7</td>\n      <td>4.3549</td>\n      <td>4</td>\n      <td>277</td>\n      <td>18.6</td>\n      <td>389.43</td>\n      <td>NaN</td>\n      <td>22.5</td>\n    </tr>\n    <tr>\n      <th>1</th>\n      <td>0.62976</td>\n      <td>0.0</td>\n      <td>8.14</td>\n      <td>0.0</td>\n      <td>0.538</td>\n      <td>5.949</td>\n      <td>61.8</td>\n      <td>4.7075</td>\n      <td>4</td>\n      <td>307</td>\n      <td>21.0</td>\n      <td>396.90</td>\n      <td>8.26</td>\n      <td>20.4</td>\n    </tr>\n    <tr>\n      <th>2</th>\n      <td>1.23247</td>\n      <td>0.0</td>\n      <td>8.14</td>\n      <td>0.0</td>\n      <td>0.538</td>\n      <td>6.142</td>\n      <td>91.7</td>\n      <td>3.9769</td>\n      <td>4</td>\n      <td>307</td>\n      <td>21.0</td>\n      <td>396.90</td>\n      <td>18.72</td>\n      <td>15.2</td>\n    </tr>\n    <tr>\n      <th>3</th>\n      <td>NaN</td>\n      <td>0.0</td>\n      <td>18.10</td>\n      <td>1.0</td>\n      <td>0.631</td>\n      <td>6.683</td>\n      <td>96.8</td>\n      <td>1.3567</td>\n      <td>24</td>\n      <td>666</td>\n      <td>20.2</td>\n      <td>375.33</td>\n      <td>3.73</td>\n      <td>50.0</td>\n    </tr>\n    <tr>\n      <th>4</th>\n      <td>12.80230</td>\n      <td>0.0</td>\n      <td>18.10</td>\n      <td>0.0</td>\n      <td>0.740</td>\n      <td>5.854</td>\n      <td>96.6</td>\n      <td>1.8956</td>\n      <td>24</td>\n      <td>666</td>\n      <td>20.2</td>\n      <td>240.52</td>\n      <td>23.79</td>\n      <td>10.8</td>\n    </tr>\n    <tr>\n      <th>...</th>\n      <td>...</td>\n      <td>...</td>\n      <td>...</td>\n      <td>...</td>\n      <td>...</td>\n      <td>...</td>\n      <td>...</td>\n      <td>...</td>\n      <td>...</td>\n      <td>...</td>\n      <td>...</td>\n      <td>...</td>\n      <td>...</td>\n      <td>...</td>\n    </tr>\n    <tr>\n      <th>400</th>\n      <td>1.00245</td>\n      <td>0.0</td>\n      <td>8.14</td>\n      <td>0.0</td>\n      <td>0.538</td>\n      <td>6.674</td>\n      <td>87.3</td>\n      <td>4.2390</td>\n      <td>4</td>\n      <td>307</td>\n      <td>21.0</td>\n      <td>380.23</td>\n      <td>11.98</td>\n      <td>21.0</td>\n    </tr>\n    <tr>\n      <th>401</th>\n      <td>0.03041</td>\n      <td>0.0</td>\n      <td>5.19</td>\n      <td>0.0</td>\n      <td>0.515</td>\n      <td>5.895</td>\n      <td>59.6</td>\n      <td>5.6150</td>\n      <td>5</td>\n      <td>224</td>\n      <td>20.2</td>\n      <td>394.81</td>\n      <td>10.56</td>\n      <td>18.5</td>\n    </tr>\n    <tr>\n      <th>402</th>\n      <td>2.81838</td>\n      <td>0.0</td>\n      <td>18.10</td>\n      <td>0.0</td>\n      <td>0.532</td>\n      <td>5.762</td>\n      <td>40.3</td>\n      <td>4.0983</td>\n      <td>24</td>\n      <td>666</td>\n      <td>20.2</td>\n      <td>392.92</td>\n      <td>10.42</td>\n      <td>21.8</td>\n    </tr>\n    <tr>\n      <th>403</th>\n      <td>0.44791</td>\n      <td>0.0</td>\n      <td>6.20</td>\n      <td>1.0</td>\n      <td>0.507</td>\n      <td>6.726</td>\n      <td>66.5</td>\n      <td>3.6519</td>\n      <td>8</td>\n      <td>307</td>\n      <td>17.4</td>\n      <td>360.20</td>\n      <td>8.05</td>\n      <td>29.0</td>\n    </tr>\n    <tr>\n      <th>404</th>\n      <td>0.35809</td>\n      <td>0.0</td>\n      <td>6.20</td>\n      <td>1.0</td>\n      <td>0.507</td>\n      <td>6.951</td>\n      <td>88.5</td>\n      <td>2.8617</td>\n      <td>8</td>\n      <td>307</td>\n      <td>17.4</td>\n      <td>391.70</td>\n      <td>9.71</td>\n      <td>26.7</td>\n    </tr>\n  </tbody>\n</table>\n<p>405 rows × 14 columns</p>\n</div>"
     },
     "execution_count": 53,
     "metadata": {},
     "output_type": "execute_result"
    }
   ],
   "source": [
    "#Reading Data\n",
    "train_set = pd.read_csv('../../Datasets/Housingdata/Housing_Train.csv')\n",
    "test_set = pd.read_csv('../../Datasets/Housingdata/Housing_Test.csv')\n",
    "train_set"
   ],
   "metadata": {
    "collapsed": false,
    "pycharm": {
     "name": "#%%\n"
    }
   }
  },
  {
   "cell_type": "code",
   "execution_count": 54,
   "outputs": [],
   "source": [
    "#splliting datasets\n",
    "y_train = train_set['MEDV']\n",
    "x_train = train_set.drop(columns='MEDV')\n",
    "\n",
    "x_test = test_set"
   ],
   "metadata": {
    "collapsed": false,
    "pycharm": {
     "name": "#%%\n"
    }
   }
  },
  {
   "cell_type": "code",
   "execution_count": 55,
   "outputs": [
    {
     "data": {
      "text/plain": "CRIM       3\nZN         5\nINDUS      6\nCHAS       4\nNOX        0\nRM         0\nAGE        5\nDIS        0\nRAD        0\nTAX        0\nPTRATIO    0\nB          0\nLSTAT      2\ndtype: int64"
     },
     "execution_count": 55,
     "metadata": {},
     "output_type": "execute_result"
    }
   ],
   "source": [
    "#check dataset\n",
    "x_train.isnull().sum()\n",
    "x_test.isnull().sum()"
   ],
   "metadata": {
    "collapsed": false,
    "pycharm": {
     "name": "#%%\n"
    }
   }
  },
  {
   "cell_type": "code",
   "execution_count": 56,
   "outputs": [],
   "source": [
    "#fill Null values\n",
    "def replace_null_values(cols: list, dataset: pd.DataFrame):\n",
    "    for col in cols:\n",
    "        temp = dataset[col].dropna()\n",
    "        mode = temp.mean()\n",
    "        dataset[col].fillna(mode, inplace=True)\n",
    "\n",
    "na_cols = list(x_train.columns[x_train.isnull().any()])\n",
    "na_cols_test = list(x_test.columns[x_test.isnull().any()])\n",
    "\n",
    "replace_null_values(na_cols, x_train)\n",
    "replace_null_values(na_cols_test, x_test)"
   ],
   "metadata": {
    "collapsed": false,
    "pycharm": {
     "name": "#%%\n"
    }
   }
  },
  {
   "cell_type": "code",
   "execution_count": 57,
   "outputs": [],
   "source": [
    "#feature Scaling\n",
    "from sklearn.preprocessing import MinMaxScaler\n",
    "scaler = MinMaxScaler()\n",
    "\n",
    "x_train = pd.DataFrame(scaler.fit_transform(x_train), columns=x_train.columns)\n",
    "x_test = pd.DataFrame(scaler.fit_transform(x_test), columns=x_test.columns)"
   ],
   "metadata": {
    "collapsed": false,
    "pycharm": {
     "name": "#%%\n"
    }
   }
  },
  {
   "cell_type": "code",
   "execution_count": 58,
   "outputs": [],
   "source": [
    "# Linear Regression\n",
    "class LinearRegression:\n",
    "    def __init__(self):\n",
    "        self.weight = None\n",
    "\n",
    "    def fit(self, x:pd.DataFrame, y:pd.DataFrame, epoch:int, learning_rate:float):\n",
    "        m = len(x)\n",
    "        if x.iloc[0, 0] != 1:\n",
    "            x.insert(0, 'bias', 1)\n",
    "\n",
    "        self.weight = np.ones(len(x.columns))\n",
    "\n",
    "        for i in range(epoch):\n",
    "            gradient = 2/m * x.T.dot(self.predict(x) - y)\n",
    "            self.weight = self.weight - learning_rate * gradient\n",
    "\n",
    "    def predict(self, df:pd.DataFrame):\n",
    "        if df.iloc[0, 0] != 1:\n",
    "            df.insert(0, 'bias', 1)\n",
    "        return np.dot(df, self.weight)"
   ],
   "metadata": {
    "collapsed": false,
    "pycharm": {
     "name": "#%%\n"
    }
   }
  },
  {
   "cell_type": "code",
   "execution_count": 77,
   "outputs": [],
   "source": [
    "reg = LinearRegression()\n",
    "reg.fit(x_train, y_train, 2000, 0.1)"
   ],
   "metadata": {
    "collapsed": false,
    "pycharm": {
     "name": "#%%\n"
    }
   }
  },
  {
   "cell_type": "code",
   "execution_count": 78,
   "outputs": [
    {
     "data": {
      "text/plain": "          Value\nMSE   22.446441\nRMSE   4.737767\nR2     0.738856",
      "text/html": "<div>\n<style scoped>\n    .dataframe tbody tr th:only-of-type {\n        vertical-align: middle;\n    }\n\n    .dataframe tbody tr th {\n        vertical-align: top;\n    }\n\n    .dataframe thead th {\n        text-align: right;\n    }\n</style>\n<table border=\"1\" class=\"dataframe\">\n  <thead>\n    <tr style=\"text-align: right;\">\n      <th></th>\n      <th>Value</th>\n    </tr>\n  </thead>\n  <tbody>\n    <tr>\n      <th>MSE</th>\n      <td>22.446441</td>\n    </tr>\n    <tr>\n      <th>RMSE</th>\n      <td>4.737767</td>\n    </tr>\n    <tr>\n      <th>R2</th>\n      <td>0.738856</td>\n    </tr>\n  </tbody>\n</table>\n</div>"
     },
     "execution_count": 78,
     "metadata": {},
     "output_type": "execute_result"
    }
   ],
   "source": [
    "# Evaluating Model\n",
    "from sklearn.metrics import mean_squared_error, r2_score\n",
    "y_pred_train = reg.predict(x_train)\n",
    "\n",
    "mse_error = mean_squared_error(y_train, y_pred_train)\n",
    "rmse = np.sqrt(mse_error)\n",
    "r2_error = r2_score(y_train, y_pred_train)\n",
    "\n",
    "errors = pd.DataFrame({'Value': [mse_error, rmse, r2_error]}, index=['MSE', 'RMSE', 'R2'])\n",
    "errors"
   ],
   "metadata": {
    "collapsed": false,
    "pycharm": {
     "name": "#%%\n"
    }
   }
  },
  {
   "cell_type": "code",
   "execution_count": 79,
   "outputs": [
    {
     "data": {
      "text/plain": "array([20.20593033, 19.62213737, 16.4375262 , 31.42168278, 11.38362399,\n       30.66857533, 25.39306017, 10.85345345, 23.94356721,  2.5205598 ,\n       11.63152702, 32.83158877, 12.23275816, 18.70320064, 27.60595805,\n       20.7991362 , 26.38847883, 42.12750974, 27.46493651, 31.34994328,\n       17.253358  , 25.20061732, 37.35189381, 12.17574213, 25.42977225,\n       27.89873077, 10.93418248,  5.5886609 , 21.4412389 ,  9.27286088,\n       24.72485304, 31.24319432, 14.09697101, 12.99211693, 20.71611679,\n       19.61200123, 26.16840354, 17.98431314, 18.17255847, 24.80760856,\n       17.92684111, 35.03156337, 21.83785856, 21.00454849, 20.7217062 ,\n        0.62557738, 22.46448125, 17.36703514, 14.08729572, 42.81465004,\n        9.9602024 , 33.3885066 , 16.18411832, 20.87253774, 23.02885621,\n       24.28956763, 19.50659509, 19.07266124, 20.05289647, 30.99788054,\n       20.9589002 , 17.56725521, 14.72040504, 19.87674131, 14.47638405,\n       17.77254798, 20.01914103, 13.20890284, 17.47148158, 28.21648786,\n       37.94301242,  4.9768943 , 30.44181303, 18.3458277 ,  9.36264049,\n       20.26099314, 24.83089416, 17.28576688, 19.57591048, 22.71040979,\n       24.8906488 , 21.8112939 , 17.33070889, 16.48404748, 21.35548296,\n       19.19969929, 17.85206734, 15.16192228, 33.00617628, 21.73517954,\n       24.20829863, 21.33117011,  7.89203087, 21.45166409, 27.93706785,\n       33.50340608, 24.05033516, 22.00059707, 22.83793921, 23.57792963,\n       19.89253837, 43.37284744, 35.9129826 , 33.54851859, 22.1331685 ,\n       40.74875296, 21.99066898, 26.25866068, 19.93640769, 18.26839602,\n       21.65835304, 12.69104332, 22.00883816, 32.05000165, 30.29985675,\n       23.15822958, 29.05518434, 19.63318296, 25.9262474 , 21.00180053,\n       16.16313742,  8.15703362, 30.62895555, 32.29127143,  6.31843827,\n       37.8503167 , 24.19554329, 15.14777742,  7.63068064, 28.42107054,\n       41.84132566, 13.62681885,  9.32342081, 21.65383657, 20.33483543,\n       33.05489059, 25.4338337 , 22.56264598, 23.81197753, 18.32972706,\n        8.73427991, 19.15662644, 44.26929582, 12.13763924, 14.43994269,\n       39.52582171, 32.40529967, 20.98162433, 24.54238586, 12.06189474,\n       32.22907796, 29.57987534, 25.29897107, 20.3056102 ,  5.74740853,\n       18.51771157, 27.7576214 , 17.69684642, 31.008818  , 18.66010164,\n       14.05806251, 23.59367072, 32.23109118, 26.35229705, 28.09320419,\n       22.19287914, 21.83029039,  9.74877818, 32.1139636 , 12.0759461 ,\n       13.19292906, 14.09969532, 35.72657005, 17.203465  , 22.04394776,\n       24.96667732,  8.91532001, 15.26260245, 30.98821554, 15.41134403,\n       27.50348851, 15.55679338, 31.07259341, 20.11285337, 20.63658935,\n       34.33273992, 37.30635624, 19.70905747, 23.007243  , 21.6339508 ,\n       22.33979734, 22.55963308, 29.02883355, 16.94466609, 22.79105938,\n       34.35583336, 17.75680485, 20.26575994, 24.52525679, 17.18572577,\n       18.43674212, 22.05952928, 19.34031306, 12.89599171, 24.38741791,\n       18.66885449, 14.71756059, 28.72744154, 33.48820195, 13.22779655,\n       16.78360493, 16.31328743, 25.94735032, 24.97654497, 38.72217837,\n       21.35114759, 20.29700805, 11.95645842, 20.49110779, 26.00527699,\n       22.74738457, 12.84068431, 18.00133943, 37.43745632, 24.89289974,\n       25.75501374, 12.96798519,  6.11273877, 16.2187231 , 26.32865101,\n       23.4320766 , 33.15666587, 26.78892683, 25.44161066, 19.22917966,\n        0.40373501, 21.60819691, 22.27245529, 24.16491062, 25.66806464,\n       22.38422676, 40.4123257 , 22.73358708, 16.51615566, 28.62219829,\n        9.81300743, 35.03297908, 20.31373336, 10.56675581,  5.21214186,\n       15.90893189, 23.08601307, 27.18108053, 22.5181678 , 14.45922503,\n       28.76761029, 36.33939104, 19.15364368, 33.00167946, 19.55265082,\n       17.48052492, 14.85238912, 28.8114083 , 22.01751227, 15.95503096,\n       26.66804953, 25.03115423, 17.99034334, 28.77955485, 13.31506101,\n       30.01233941, 25.24518322, 31.60870076, 22.7266891 , 18.33881539,\n       23.1481384 , 32.47516975, 36.29970243, 24.86783457, 26.68863287,\n       20.78192284, 22.18861443, 27.32099548, 23.17092502, 17.09485425,\n       36.38063092, 18.06372869, 17.19518522, 15.4846928 , 24.94782475,\n       22.64327839, 19.14671199, 23.77754807, 19.35937907, 17.38389625,\n       27.35767898, 28.14095657, 15.86832167, 13.3538838 , 20.68092341,\n       15.89849042, 31.56115312, 20.14937311, 19.34213079,  7.49062776,\n       11.96682762, 23.54264396, 18.94220318, 29.26620732, 38.93573409,\n        5.43870554, 25.15464311, 45.09760941, 14.34049175, 25.50391451,\n       28.28160862, 23.98435489, 13.5517673 , 18.28475517, 17.71889009,\n       23.24026779, 25.16132381, 19.51596821,  4.57001151, 27.61889879,\n        9.40791681, 41.19881599, 20.34802531, 12.96348371, 27.22566884,\n       21.38223379, 27.72706244, 17.19826785, 23.53915312, 16.93069639,\n       20.15878505, 16.66530662, 21.99904683, 33.32705361, 20.17358488,\n       21.4408425 , 30.94647143, 25.07935464, 24.9548079 , 24.69807194,\n       18.21011249, 16.73235629, 16.18264978, 25.1836052 , 21.45772978,\n       32.21403723, 16.66052117,  6.74039692, 25.10495913, 13.67253167,\n       20.741855  , 32.30852944, 18.66664958, 20.88266561, 20.22274617,\n       41.38482119, 25.95145374, 20.78995153, 21.86491193, 16.56921822,\n       15.08180933, 17.94093205, 23.0928784 , 33.57814152, 23.72426042,\n       19.82248664, 22.68476955, 17.89258677, 38.95703815, 35.4378865 ,\n       20.67271495, 22.1005067 , 15.34918209, 38.50123742, 18.21013398,\n       22.98541373, 28.73397294, 23.3637269 , 33.82411385, 15.21568993,\n       25.51793125, 30.11264231, 31.55957868, 21.33012177, 24.04622877,\n       12.17784208, 15.81270019, 32.67183051, 21.54969949, 30.64633283,\n       15.03886772, 16.56747536, 27.66785018, 16.37049393, 20.83246643,\n       21.38993956, 19.31216212, 20.44200784, 31.56159596, 32.97819505])"
     },
     "execution_count": 79,
     "metadata": {},
     "output_type": "execute_result"
    }
   ],
   "source": [
    "y_pred_train"
   ],
   "metadata": {
    "collapsed": false,
    "pycharm": {
     "name": "#%%\n"
    }
   }
  }
 ],
 "metadata": {
  "kernelspec": {
   "display_name": "Python 3",
   "language": "python",
   "name": "python3"
  },
  "language_info": {
   "codemirror_mode": {
    "name": "ipython",
    "version": 2
   },
   "file_extension": ".py",
   "mimetype": "text/x-python",
   "name": "python",
   "nbconvert_exporter": "python",
   "pygments_lexer": "ipython2",
   "version": "2.7.6"
  }
 },
 "nbformat": 4,
 "nbformat_minor": 0
}