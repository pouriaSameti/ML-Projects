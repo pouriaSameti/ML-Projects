{
 "cells": [
  {
   "cell_type": "code",
   "execution_count": 120,
   "outputs": [],
   "source": [
    "import numpy as np\n",
    "import pandas as pd"
   ],
   "metadata": {
    "collapsed": false,
    "pycharm": {
     "name": "#%%\n"
    }
   }
  },
  {
   "cell_type": "code",
   "execution_count": 121,
   "outputs": [
    {
     "data": {
      "text/plain": "         CRIM   ZN  INDUS  CHAS    NOX     RM   AGE     DIS  RAD  TAX  \\\n0     0.25199  0.0  10.59   0.0  0.489  5.783  72.7  4.3549    4  277   \n1     0.62976  0.0   8.14   0.0  0.538  5.949  61.8  4.7075    4  307   \n2     1.23247  0.0   8.14   0.0  0.538  6.142  91.7  3.9769    4  307   \n3         NaN  0.0  18.10   1.0  0.631  6.683  96.8  1.3567   24  666   \n4    12.80230  0.0  18.10   0.0  0.740  5.854  96.6  1.8956   24  666   \n..        ...  ...    ...   ...    ...    ...   ...     ...  ...  ...   \n400   1.00245  0.0   8.14   0.0  0.538  6.674  87.3  4.2390    4  307   \n401   0.03041  0.0   5.19   0.0  0.515  5.895  59.6  5.6150    5  224   \n402   2.81838  0.0  18.10   0.0  0.532  5.762  40.3  4.0983   24  666   \n403   0.44791  0.0   6.20   1.0  0.507  6.726  66.5  3.6519    8  307   \n404   0.35809  0.0   6.20   1.0  0.507  6.951  88.5  2.8617    8  307   \n\n     PTRATIO       B  LSTAT  MEDV  \n0       18.6  389.43    NaN  22.5  \n1       21.0  396.90   8.26  20.4  \n2       21.0  396.90  18.72  15.2  \n3       20.2  375.33   3.73  50.0  \n4       20.2  240.52  23.79  10.8  \n..       ...     ...    ...   ...  \n400     21.0  380.23  11.98  21.0  \n401     20.2  394.81  10.56  18.5  \n402     20.2  392.92  10.42  21.8  \n403     17.4  360.20   8.05  29.0  \n404     17.4  391.70   9.71  26.7  \n\n[405 rows x 14 columns]",
      "text/html": "<div>\n<style scoped>\n    .dataframe tbody tr th:only-of-type {\n        vertical-align: middle;\n    }\n\n    .dataframe tbody tr th {\n        vertical-align: top;\n    }\n\n    .dataframe thead th {\n        text-align: right;\n    }\n</style>\n<table border=\"1\" class=\"dataframe\">\n  <thead>\n    <tr style=\"text-align: right;\">\n      <th></th>\n      <th>CRIM</th>\n      <th>ZN</th>\n      <th>INDUS</th>\n      <th>CHAS</th>\n      <th>NOX</th>\n      <th>RM</th>\n      <th>AGE</th>\n      <th>DIS</th>\n      <th>RAD</th>\n      <th>TAX</th>\n      <th>PTRATIO</th>\n      <th>B</th>\n      <th>LSTAT</th>\n      <th>MEDV</th>\n    </tr>\n  </thead>\n  <tbody>\n    <tr>\n      <th>0</th>\n      <td>0.25199</td>\n      <td>0.0</td>\n      <td>10.59</td>\n      <td>0.0</td>\n      <td>0.489</td>\n      <td>5.783</td>\n      <td>72.7</td>\n      <td>4.3549</td>\n      <td>4</td>\n      <td>277</td>\n      <td>18.6</td>\n      <td>389.43</td>\n      <td>NaN</td>\n      <td>22.5</td>\n    </tr>\n    <tr>\n      <th>1</th>\n      <td>0.62976</td>\n      <td>0.0</td>\n      <td>8.14</td>\n      <td>0.0</td>\n      <td>0.538</td>\n      <td>5.949</td>\n      <td>61.8</td>\n      <td>4.7075</td>\n      <td>4</td>\n      <td>307</td>\n      <td>21.0</td>\n      <td>396.90</td>\n      <td>8.26</td>\n      <td>20.4</td>\n    </tr>\n    <tr>\n      <th>2</th>\n      <td>1.23247</td>\n      <td>0.0</td>\n      <td>8.14</td>\n      <td>0.0</td>\n      <td>0.538</td>\n      <td>6.142</td>\n      <td>91.7</td>\n      <td>3.9769</td>\n      <td>4</td>\n      <td>307</td>\n      <td>21.0</td>\n      <td>396.90</td>\n      <td>18.72</td>\n      <td>15.2</td>\n    </tr>\n    <tr>\n      <th>3</th>\n      <td>NaN</td>\n      <td>0.0</td>\n      <td>18.10</td>\n      <td>1.0</td>\n      <td>0.631</td>\n      <td>6.683</td>\n      <td>96.8</td>\n      <td>1.3567</td>\n      <td>24</td>\n      <td>666</td>\n      <td>20.2</td>\n      <td>375.33</td>\n      <td>3.73</td>\n      <td>50.0</td>\n    </tr>\n    <tr>\n      <th>4</th>\n      <td>12.80230</td>\n      <td>0.0</td>\n      <td>18.10</td>\n      <td>0.0</td>\n      <td>0.740</td>\n      <td>5.854</td>\n      <td>96.6</td>\n      <td>1.8956</td>\n      <td>24</td>\n      <td>666</td>\n      <td>20.2</td>\n      <td>240.52</td>\n      <td>23.79</td>\n      <td>10.8</td>\n    </tr>\n    <tr>\n      <th>...</th>\n      <td>...</td>\n      <td>...</td>\n      <td>...</td>\n      <td>...</td>\n      <td>...</td>\n      <td>...</td>\n      <td>...</td>\n      <td>...</td>\n      <td>...</td>\n      <td>...</td>\n      <td>...</td>\n      <td>...</td>\n      <td>...</td>\n      <td>...</td>\n    </tr>\n    <tr>\n      <th>400</th>\n      <td>1.00245</td>\n      <td>0.0</td>\n      <td>8.14</td>\n      <td>0.0</td>\n      <td>0.538</td>\n      <td>6.674</td>\n      <td>87.3</td>\n      <td>4.2390</td>\n      <td>4</td>\n      <td>307</td>\n      <td>21.0</td>\n      <td>380.23</td>\n      <td>11.98</td>\n      <td>21.0</td>\n    </tr>\n    <tr>\n      <th>401</th>\n      <td>0.03041</td>\n      <td>0.0</td>\n      <td>5.19</td>\n      <td>0.0</td>\n      <td>0.515</td>\n      <td>5.895</td>\n      <td>59.6</td>\n      <td>5.6150</td>\n      <td>5</td>\n      <td>224</td>\n      <td>20.2</td>\n      <td>394.81</td>\n      <td>10.56</td>\n      <td>18.5</td>\n    </tr>\n    <tr>\n      <th>402</th>\n      <td>2.81838</td>\n      <td>0.0</td>\n      <td>18.10</td>\n      <td>0.0</td>\n      <td>0.532</td>\n      <td>5.762</td>\n      <td>40.3</td>\n      <td>4.0983</td>\n      <td>24</td>\n      <td>666</td>\n      <td>20.2</td>\n      <td>392.92</td>\n      <td>10.42</td>\n      <td>21.8</td>\n    </tr>\n    <tr>\n      <th>403</th>\n      <td>0.44791</td>\n      <td>0.0</td>\n      <td>6.20</td>\n      <td>1.0</td>\n      <td>0.507</td>\n      <td>6.726</td>\n      <td>66.5</td>\n      <td>3.6519</td>\n      <td>8</td>\n      <td>307</td>\n      <td>17.4</td>\n      <td>360.20</td>\n      <td>8.05</td>\n      <td>29.0</td>\n    </tr>\n    <tr>\n      <th>404</th>\n      <td>0.35809</td>\n      <td>0.0</td>\n      <td>6.20</td>\n      <td>1.0</td>\n      <td>0.507</td>\n      <td>6.951</td>\n      <td>88.5</td>\n      <td>2.8617</td>\n      <td>8</td>\n      <td>307</td>\n      <td>17.4</td>\n      <td>391.70</td>\n      <td>9.71</td>\n      <td>26.7</td>\n    </tr>\n  </tbody>\n</table>\n<p>405 rows × 14 columns</p>\n</div>"
     },
     "execution_count": 121,
     "metadata": {},
     "output_type": "execute_result"
    }
   ],
   "source": [
    "#Reading Data\n",
    "train_set = pd.read_csv('../../Datasets/Housingdata/Housing_Train.csv')\n",
    "test_set = pd.read_csv('../../Datasets/Housingdata/Housing_Test.csv')\n",
    "train_set"
   ],
   "metadata": {
    "collapsed": false,
    "pycharm": {
     "name": "#%%\n"
    }
   }
  },
  {
   "cell_type": "code",
   "execution_count": 122,
   "outputs": [],
   "source": [
    "#splliting datasets\n",
    "y_train = train_set['MEDV']\n",
    "x_train = train_set.drop(columns='MEDV')\n",
    "\n",
    "x_test = test_set"
   ],
   "metadata": {
    "collapsed": false,
    "pycharm": {
     "name": "#%%\n"
    }
   }
  },
  {
   "cell_type": "code",
   "execution_count": 123,
   "outputs": [
    {
     "data": {
      "text/plain": "CRIM       3\nZN         5\nINDUS      6\nCHAS       4\nNOX        0\nRM         0\nAGE        5\nDIS        0\nRAD        0\nTAX        0\nPTRATIO    0\nB          0\nLSTAT      2\ndtype: int64"
     },
     "execution_count": 123,
     "metadata": {},
     "output_type": "execute_result"
    }
   ],
   "source": [
    "#check dataset\n",
    "x_train.isnull().sum()\n",
    "x_test.isnull().sum()"
   ],
   "metadata": {
    "collapsed": false,
    "pycharm": {
     "name": "#%%\n"
    }
   }
  },
  {
   "cell_type": "code",
   "execution_count": 124,
   "outputs": [],
   "source": [
    "#fill Null values\n",
    "def replace_null_values(cols: list, dataset: pd.DataFrame):\n",
    "    for col in cols:\n",
    "        temp = dataset[col].dropna()\n",
    "        mode = temp.mean()\n",
    "        dataset[col].fillna(mode, inplace=True)\n",
    "\n",
    "na_cols = list(x_train.columns[x_train.isnull().any()])\n",
    "na_cols_test = list(x_test.columns[x_test.isnull().any()])\n",
    "\n",
    "replace_null_values(na_cols, x_train)\n",
    "replace_null_values(na_cols_test, x_test)"
   ],
   "metadata": {
    "collapsed": false,
    "pycharm": {
     "name": "#%%\n"
    }
   }
  },
  {
   "cell_type": "code",
   "execution_count": 125,
   "outputs": [],
   "source": [
    "#feature Scaling\n",
    "from sklearn.preprocessing import MinMaxScaler, StandardScaler\n",
    "# scaler = MinMaxScaler()\n",
    "scaler = StandardScaler()\n",
    "\n",
    "x_train = pd.DataFrame(scaler.fit_transform(x_train), columns=x_train.columns)\n",
    "x_test = pd.DataFrame(scaler.fit_transform(x_test), columns=x_test.columns)"
   ],
   "metadata": {
    "collapsed": false,
    "pycharm": {
     "name": "#%%\n"
    }
   }
  },
  {
   "cell_type": "code",
   "execution_count": 126,
   "outputs": [
    {
     "data": {
      "text/plain": "             CRIM       ZN     INDUS      CHAS       NOX        RM       AGE  \\\n0   -3.876318e-01 -0.47817 -0.103557 -0.278664 -0.589166 -0.696477  0.140104   \n1   -3.451293e-01 -0.47817 -0.470374 -0.278664 -0.162933 -0.461482 -0.258038   \n2   -2.773191e-01 -0.47817 -0.470374 -0.278664 -0.162933 -0.188265  0.834113   \n3    1.998559e-16 -0.47817  1.020850  3.736157  0.646041  0.577592  1.020399   \n4    1.024389e+00 -0.47817  1.020850 -0.278664  1.594192 -0.595967  1.013094   \n..            ...      ...       ...       ...       ...       ...       ...   \n400 -3.031984e-01 -0.47817 -0.470374 -0.278664 -0.162933  0.564852  0.673395   \n401 -4.125615e-01 -0.47817 -0.912052 -0.278664 -0.363002 -0.537927 -0.338397   \n402 -9.889021e-02 -0.47817  1.020850 -0.278664 -0.215125 -0.726206 -1.043364   \n403 -3.655891e-01 -0.47817 -0.760833  3.736157 -0.432591  0.638464 -0.086362   \n404 -3.756946e-01 -0.47817 -0.760833  3.736157 -0.432591  0.956982  0.717227   \n\n          DIS       RAD       TAX  ...   CHASdeg2   NOXdeg2    RMdeg2  \\\n0    0.290040 -0.661477 -0.794024  ...   0.077653  0.347117  0.485081   \n1    0.461769 -0.661477 -0.616881  ...   0.077653  0.026547  0.212966   \n2    0.105941 -0.661477 -0.616881  ...   0.077653  0.026547  0.035444   \n3   -1.170187  1.636106  1.502932  ...  13.958869  0.417368  0.333613   \n4   -0.907724  1.636106  1.502932  ...   0.077653  2.541450  0.355177   \n..        ...       ...       ...  ...        ...       ...       ...   \n400  0.233593 -0.661477 -0.616881  ...   0.077653  0.026547  0.319057   \n401  0.903753 -0.546598 -1.106977  ...   0.077653  0.131770  0.289365   \n402  0.165067  1.636106  1.502932  ...   0.077653  0.046279  0.527375   \n403 -0.052345 -0.201960 -0.616881  ...  13.958869  0.187135  0.407637   \n404 -0.437200 -0.201960 -0.616881  ...  13.958869  0.187135  0.915814   \n\n      AGEdeg2   DISdeg2   RADdeg2   TAXdeg2  PTRATIOdeg2     Bdeg2  \\\n0    0.019629  0.084123  0.437552  0.630474     0.001098  0.131144   \n1    0.066584  0.213230  0.437552  0.380542     1.317257  0.197540   \n2    0.695744  0.011224  0.437552  0.380542     1.317257  0.197540   \n3    1.041214  1.369338  2.676843  2.258805     0.602474  0.042750   \n4    1.026359  0.823963  2.676843  2.258805     0.602474  1.635323   \n..        ...       ...       ...       ...          ...       ...   \n400  0.453460  0.054566  0.437552  0.380542     1.317257  0.067994   \n401  0.114513  0.816769  0.298769  1.225398     0.602474  0.177598   \n402  1.088609  0.027247  2.676843  2.258805     0.602474  0.160478   \n403  0.007458  0.002740  0.040788  0.380542     0.274734  0.001603   \n404  0.514414  0.191144  0.040788  0.380542     0.274734  0.149887   \n\n        LSTATdeg2  \n0    1.569704e-30  \n1    4.511283e-01  \n2    6.461639e-01  \n3    1.717855e+00  \n4    2.307438e+00  \n..            ...  \n400  2.158308e-02  \n401  1.205612e-01  \n402  1.346654e-01  \n403  4.917989e-01  \n404  2.182026e-01  \n\n[405 rows x 26 columns]",
      "text/html": "<div>\n<style scoped>\n    .dataframe tbody tr th:only-of-type {\n        vertical-align: middle;\n    }\n\n    .dataframe tbody tr th {\n        vertical-align: top;\n    }\n\n    .dataframe thead th {\n        text-align: right;\n    }\n</style>\n<table border=\"1\" class=\"dataframe\">\n  <thead>\n    <tr style=\"text-align: right;\">\n      <th></th>\n      <th>CRIM</th>\n      <th>ZN</th>\n      <th>INDUS</th>\n      <th>CHAS</th>\n      <th>NOX</th>\n      <th>RM</th>\n      <th>AGE</th>\n      <th>DIS</th>\n      <th>RAD</th>\n      <th>TAX</th>\n      <th>...</th>\n      <th>CHASdeg2</th>\n      <th>NOXdeg2</th>\n      <th>RMdeg2</th>\n      <th>AGEdeg2</th>\n      <th>DISdeg2</th>\n      <th>RADdeg2</th>\n      <th>TAXdeg2</th>\n      <th>PTRATIOdeg2</th>\n      <th>Bdeg2</th>\n      <th>LSTATdeg2</th>\n    </tr>\n  </thead>\n  <tbody>\n    <tr>\n      <th>0</th>\n      <td>-3.876318e-01</td>\n      <td>-0.47817</td>\n      <td>-0.103557</td>\n      <td>-0.278664</td>\n      <td>-0.589166</td>\n      <td>-0.696477</td>\n      <td>0.140104</td>\n      <td>0.290040</td>\n      <td>-0.661477</td>\n      <td>-0.794024</td>\n      <td>...</td>\n      <td>0.077653</td>\n      <td>0.347117</td>\n      <td>0.485081</td>\n      <td>0.019629</td>\n      <td>0.084123</td>\n      <td>0.437552</td>\n      <td>0.630474</td>\n      <td>0.001098</td>\n      <td>0.131144</td>\n      <td>1.569704e-30</td>\n    </tr>\n    <tr>\n      <th>1</th>\n      <td>-3.451293e-01</td>\n      <td>-0.47817</td>\n      <td>-0.470374</td>\n      <td>-0.278664</td>\n      <td>-0.162933</td>\n      <td>-0.461482</td>\n      <td>-0.258038</td>\n      <td>0.461769</td>\n      <td>-0.661477</td>\n      <td>-0.616881</td>\n      <td>...</td>\n      <td>0.077653</td>\n      <td>0.026547</td>\n      <td>0.212966</td>\n      <td>0.066584</td>\n      <td>0.213230</td>\n      <td>0.437552</td>\n      <td>0.380542</td>\n      <td>1.317257</td>\n      <td>0.197540</td>\n      <td>4.511283e-01</td>\n    </tr>\n    <tr>\n      <th>2</th>\n      <td>-2.773191e-01</td>\n      <td>-0.47817</td>\n      <td>-0.470374</td>\n      <td>-0.278664</td>\n      <td>-0.162933</td>\n      <td>-0.188265</td>\n      <td>0.834113</td>\n      <td>0.105941</td>\n      <td>-0.661477</td>\n      <td>-0.616881</td>\n      <td>...</td>\n      <td>0.077653</td>\n      <td>0.026547</td>\n      <td>0.035444</td>\n      <td>0.695744</td>\n      <td>0.011224</td>\n      <td>0.437552</td>\n      <td>0.380542</td>\n      <td>1.317257</td>\n      <td>0.197540</td>\n      <td>6.461639e-01</td>\n    </tr>\n    <tr>\n      <th>3</th>\n      <td>1.998559e-16</td>\n      <td>-0.47817</td>\n      <td>1.020850</td>\n      <td>3.736157</td>\n      <td>0.646041</td>\n      <td>0.577592</td>\n      <td>1.020399</td>\n      <td>-1.170187</td>\n      <td>1.636106</td>\n      <td>1.502932</td>\n      <td>...</td>\n      <td>13.958869</td>\n      <td>0.417368</td>\n      <td>0.333613</td>\n      <td>1.041214</td>\n      <td>1.369338</td>\n      <td>2.676843</td>\n      <td>2.258805</td>\n      <td>0.602474</td>\n      <td>0.042750</td>\n      <td>1.717855e+00</td>\n    </tr>\n    <tr>\n      <th>4</th>\n      <td>1.024389e+00</td>\n      <td>-0.47817</td>\n      <td>1.020850</td>\n      <td>-0.278664</td>\n      <td>1.594192</td>\n      <td>-0.595967</td>\n      <td>1.013094</td>\n      <td>-0.907724</td>\n      <td>1.636106</td>\n      <td>1.502932</td>\n      <td>...</td>\n      <td>0.077653</td>\n      <td>2.541450</td>\n      <td>0.355177</td>\n      <td>1.026359</td>\n      <td>0.823963</td>\n      <td>2.676843</td>\n      <td>2.258805</td>\n      <td>0.602474</td>\n      <td>1.635323</td>\n      <td>2.307438e+00</td>\n    </tr>\n    <tr>\n      <th>...</th>\n      <td>...</td>\n      <td>...</td>\n      <td>...</td>\n      <td>...</td>\n      <td>...</td>\n      <td>...</td>\n      <td>...</td>\n      <td>...</td>\n      <td>...</td>\n      <td>...</td>\n      <td>...</td>\n      <td>...</td>\n      <td>...</td>\n      <td>...</td>\n      <td>...</td>\n      <td>...</td>\n      <td>...</td>\n      <td>...</td>\n      <td>...</td>\n      <td>...</td>\n      <td>...</td>\n    </tr>\n    <tr>\n      <th>400</th>\n      <td>-3.031984e-01</td>\n      <td>-0.47817</td>\n      <td>-0.470374</td>\n      <td>-0.278664</td>\n      <td>-0.162933</td>\n      <td>0.564852</td>\n      <td>0.673395</td>\n      <td>0.233593</td>\n      <td>-0.661477</td>\n      <td>-0.616881</td>\n      <td>...</td>\n      <td>0.077653</td>\n      <td>0.026547</td>\n      <td>0.319057</td>\n      <td>0.453460</td>\n      <td>0.054566</td>\n      <td>0.437552</td>\n      <td>0.380542</td>\n      <td>1.317257</td>\n      <td>0.067994</td>\n      <td>2.158308e-02</td>\n    </tr>\n    <tr>\n      <th>401</th>\n      <td>-4.125615e-01</td>\n      <td>-0.47817</td>\n      <td>-0.912052</td>\n      <td>-0.278664</td>\n      <td>-0.363002</td>\n      <td>-0.537927</td>\n      <td>-0.338397</td>\n      <td>0.903753</td>\n      <td>-0.546598</td>\n      <td>-1.106977</td>\n      <td>...</td>\n      <td>0.077653</td>\n      <td>0.131770</td>\n      <td>0.289365</td>\n      <td>0.114513</td>\n      <td>0.816769</td>\n      <td>0.298769</td>\n      <td>1.225398</td>\n      <td>0.602474</td>\n      <td>0.177598</td>\n      <td>1.205612e-01</td>\n    </tr>\n    <tr>\n      <th>402</th>\n      <td>-9.889021e-02</td>\n      <td>-0.47817</td>\n      <td>1.020850</td>\n      <td>-0.278664</td>\n      <td>-0.215125</td>\n      <td>-0.726206</td>\n      <td>-1.043364</td>\n      <td>0.165067</td>\n      <td>1.636106</td>\n      <td>1.502932</td>\n      <td>...</td>\n      <td>0.077653</td>\n      <td>0.046279</td>\n      <td>0.527375</td>\n      <td>1.088609</td>\n      <td>0.027247</td>\n      <td>2.676843</td>\n      <td>2.258805</td>\n      <td>0.602474</td>\n      <td>0.160478</td>\n      <td>1.346654e-01</td>\n    </tr>\n    <tr>\n      <th>403</th>\n      <td>-3.655891e-01</td>\n      <td>-0.47817</td>\n      <td>-0.760833</td>\n      <td>3.736157</td>\n      <td>-0.432591</td>\n      <td>0.638464</td>\n      <td>-0.086362</td>\n      <td>-0.052345</td>\n      <td>-0.201960</td>\n      <td>-0.616881</td>\n      <td>...</td>\n      <td>13.958869</td>\n      <td>0.187135</td>\n      <td>0.407637</td>\n      <td>0.007458</td>\n      <td>0.002740</td>\n      <td>0.040788</td>\n      <td>0.380542</td>\n      <td>0.274734</td>\n      <td>0.001603</td>\n      <td>4.917989e-01</td>\n    </tr>\n    <tr>\n      <th>404</th>\n      <td>-3.756946e-01</td>\n      <td>-0.47817</td>\n      <td>-0.760833</td>\n      <td>3.736157</td>\n      <td>-0.432591</td>\n      <td>0.956982</td>\n      <td>0.717227</td>\n      <td>-0.437200</td>\n      <td>-0.201960</td>\n      <td>-0.616881</td>\n      <td>...</td>\n      <td>13.958869</td>\n      <td>0.187135</td>\n      <td>0.915814</td>\n      <td>0.514414</td>\n      <td>0.191144</td>\n      <td>0.040788</td>\n      <td>0.380542</td>\n      <td>0.274734</td>\n      <td>0.149887</td>\n      <td>2.182026e-01</td>\n    </tr>\n  </tbody>\n</table>\n<p>405 rows × 26 columns</p>\n</div>"
     },
     "execution_count": 126,
     "metadata": {},
     "output_type": "execute_result"
    }
   ],
   "source": [
    "#apply poly of degree2\n",
    "\n",
    "def apply_poly(df:pd.DataFrame, cols: list):\n",
    "    for col in cols:\n",
    "        df[col+\"deg2\"] = df[col].apply(lambda x:np.power(x, 2))\n",
    "\n",
    "\n",
    "apply_poly(x_train, x_train.columns)\n",
    "x_train"
   ],
   "metadata": {
    "collapsed": false,
    "pycharm": {
     "name": "#%%\n"
    }
   }
  },
  {
   "cell_type": "code",
   "execution_count": 127,
   "outputs": [],
   "source": [
    "# Linear Regression\n",
    "class LinearRegression:\n",
    "    def __init__(self):\n",
    "        self.weight = None\n",
    "\n",
    "    def fit(self, x:pd.DataFrame, y:pd.DataFrame, epoch:int, learning_rate:float):\n",
    "        m = len(x)\n",
    "        if x.iloc[0, 0] != 1:\n",
    "            x.insert(0, 'bias', 1)\n",
    "\n",
    "        self.weight = np.ones(len(x.columns))\n",
    "\n",
    "        for i in range(epoch):\n",
    "            gradient = 2/m * x.T.dot(self.predict(x) - y)\n",
    "            self.weight = self.weight - learning_rate * gradient\n",
    "\n",
    "    def predict(self, df:pd.DataFrame):\n",
    "        if df.iloc[0, 0] != 1:\n",
    "            df.insert(0, 'bias', 1)\n",
    "        return np.dot(df, self.weight)"
   ],
   "metadata": {
    "collapsed": false,
    "pycharm": {
     "name": "#%%\n"
    }
   }
  },
  {
   "cell_type": "code",
   "execution_count": 128,
   "outputs": [],
   "source": [
    "reg = LinearRegression()\n",
    "reg.fit(x_train, y_train, 1000, 0.01)"
   ],
   "metadata": {
    "collapsed": false,
    "pycharm": {
     "name": "#%%\n"
    }
   }
  },
  {
   "cell_type": "code",
   "execution_count": 129,
   "outputs": [
    {
     "data": {
      "text/plain": "          Value\nMSE   15.982585\nRMSE   3.997823\nR2     0.814057",
      "text/html": "<div>\n<style scoped>\n    .dataframe tbody tr th:only-of-type {\n        vertical-align: middle;\n    }\n\n    .dataframe tbody tr th {\n        vertical-align: top;\n    }\n\n    .dataframe thead th {\n        text-align: right;\n    }\n</style>\n<table border=\"1\" class=\"dataframe\">\n  <thead>\n    <tr style=\"text-align: right;\">\n      <th></th>\n      <th>Value</th>\n    </tr>\n  </thead>\n  <tbody>\n    <tr>\n      <th>MSE</th>\n      <td>15.982585</td>\n    </tr>\n    <tr>\n      <th>RMSE</th>\n      <td>3.997823</td>\n    </tr>\n    <tr>\n      <th>R2</th>\n      <td>0.814057</td>\n    </tr>\n  </tbody>\n</table>\n</div>"
     },
     "execution_count": 129,
     "metadata": {},
     "output_type": "execute_result"
    }
   ],
   "source": [
    "# Evaluating Model\n",
    "from sklearn.metrics import mean_squared_error, r2_score\n",
    "y_pred_train = reg.predict(x_train)\n",
    "\n",
    "mse_error = mean_squared_error(y_train, y_pred_train)\n",
    "rmse = np.sqrt(mse_error)\n",
    "r2_error = r2_score(y_train, y_pred_train)\n",
    "\n",
    "errors = pd.DataFrame({'Value': [mse_error, rmse, r2_error]}, index=['MSE', 'RMSE', 'R2'])\n",
    "errors"
   ],
   "metadata": {
    "collapsed": false,
    "pycharm": {
     "name": "#%%\n"
    }
   }
  },
  {
   "cell_type": "code",
   "execution_count": 130,
   "outputs": [],
   "source": [
    "#running model on test set\n",
    "\n",
    "apply_poly(x_test, x_test.columns)\n",
    "\n",
    "y_test_pred = pd.DataFrame(reg.predict(x_test), columns=['MEDV'])\n",
    "y_test_pred.to_csv('house_pred.csv', index=False)"
   ],
   "metadata": {
    "collapsed": false,
    "pycharm": {
     "name": "#%%\n"
    }
   }
  },
  {
   "cell_type": "code",
   "execution_count": 130,
   "outputs": [],
   "source": [],
   "metadata": {
    "collapsed": false,
    "pycharm": {
     "name": "#%%\n"
    }
   }
  }
 ],
 "metadata": {
  "kernelspec": {
   "display_name": "Python 3",
   "language": "python",
   "name": "python3"
  },
  "language_info": {
   "codemirror_mode": {
    "name": "ipython",
    "version": 2
   },
   "file_extension": ".py",
   "mimetype": "text/x-python",
   "name": "python",
   "nbconvert_exporter": "python",
   "pygments_lexer": "ipython2",
   "version": "2.7.6"
  }
 },
 "nbformat": 4,
 "nbformat_minor": 0
}