{
 "cells": [
  {
   "cell_type": "code",
   "execution_count": 62,
   "outputs": [],
   "source": [
    "import numpy as np\n",
    "import pandas as pd"
   ],
   "metadata": {
    "collapsed": false,
    "pycharm": {
     "name": "#%%\n"
    }
   }
  },
  {
   "cell_type": "code",
   "execution_count": 63,
   "outputs": [
    {
     "data": {
      "text/plain": "         CRIM   ZN  INDUS  CHAS    NOX     RM   AGE     DIS  RAD  TAX  \\\n0     0.25199  0.0  10.59   0.0  0.489  5.783  72.7  4.3549    4  277   \n1     0.62976  0.0   8.14   0.0  0.538  5.949  61.8  4.7075    4  307   \n2     1.23247  0.0   8.14   0.0  0.538  6.142  91.7  3.9769    4  307   \n3         NaN  0.0  18.10   1.0  0.631  6.683  96.8  1.3567   24  666   \n4    12.80230  0.0  18.10   0.0  0.740  5.854  96.6  1.8956   24  666   \n..        ...  ...    ...   ...    ...    ...   ...     ...  ...  ...   \n400   1.00245  0.0   8.14   0.0  0.538  6.674  87.3  4.2390    4  307   \n401   0.03041  0.0   5.19   0.0  0.515  5.895  59.6  5.6150    5  224   \n402   2.81838  0.0  18.10   0.0  0.532  5.762  40.3  4.0983   24  666   \n403   0.44791  0.0   6.20   1.0  0.507  6.726  66.5  3.6519    8  307   \n404   0.35809  0.0   6.20   1.0  0.507  6.951  88.5  2.8617    8  307   \n\n     PTRATIO       B  LSTAT  MEDV  \n0       18.6  389.43    NaN  22.5  \n1       21.0  396.90   8.26  20.4  \n2       21.0  396.90  18.72  15.2  \n3       20.2  375.33   3.73  50.0  \n4       20.2  240.52  23.79  10.8  \n..       ...     ...    ...   ...  \n400     21.0  380.23  11.98  21.0  \n401     20.2  394.81  10.56  18.5  \n402     20.2  392.92  10.42  21.8  \n403     17.4  360.20   8.05  29.0  \n404     17.4  391.70   9.71  26.7  \n\n[405 rows x 14 columns]",
      "text/html": "<div>\n<style scoped>\n    .dataframe tbody tr th:only-of-type {\n        vertical-align: middle;\n    }\n\n    .dataframe tbody tr th {\n        vertical-align: top;\n    }\n\n    .dataframe thead th {\n        text-align: right;\n    }\n</style>\n<table border=\"1\" class=\"dataframe\">\n  <thead>\n    <tr style=\"text-align: right;\">\n      <th></th>\n      <th>CRIM</th>\n      <th>ZN</th>\n      <th>INDUS</th>\n      <th>CHAS</th>\n      <th>NOX</th>\n      <th>RM</th>\n      <th>AGE</th>\n      <th>DIS</th>\n      <th>RAD</th>\n      <th>TAX</th>\n      <th>PTRATIO</th>\n      <th>B</th>\n      <th>LSTAT</th>\n      <th>MEDV</th>\n    </tr>\n  </thead>\n  <tbody>\n    <tr>\n      <th>0</th>\n      <td>0.25199</td>\n      <td>0.0</td>\n      <td>10.59</td>\n      <td>0.0</td>\n      <td>0.489</td>\n      <td>5.783</td>\n      <td>72.7</td>\n      <td>4.3549</td>\n      <td>4</td>\n      <td>277</td>\n      <td>18.6</td>\n      <td>389.43</td>\n      <td>NaN</td>\n      <td>22.5</td>\n    </tr>\n    <tr>\n      <th>1</th>\n      <td>0.62976</td>\n      <td>0.0</td>\n      <td>8.14</td>\n      <td>0.0</td>\n      <td>0.538</td>\n      <td>5.949</td>\n      <td>61.8</td>\n      <td>4.7075</td>\n      <td>4</td>\n      <td>307</td>\n      <td>21.0</td>\n      <td>396.90</td>\n      <td>8.26</td>\n      <td>20.4</td>\n    </tr>\n    <tr>\n      <th>2</th>\n      <td>1.23247</td>\n      <td>0.0</td>\n      <td>8.14</td>\n      <td>0.0</td>\n      <td>0.538</td>\n      <td>6.142</td>\n      <td>91.7</td>\n      <td>3.9769</td>\n      <td>4</td>\n      <td>307</td>\n      <td>21.0</td>\n      <td>396.90</td>\n      <td>18.72</td>\n      <td>15.2</td>\n    </tr>\n    <tr>\n      <th>3</th>\n      <td>NaN</td>\n      <td>0.0</td>\n      <td>18.10</td>\n      <td>1.0</td>\n      <td>0.631</td>\n      <td>6.683</td>\n      <td>96.8</td>\n      <td>1.3567</td>\n      <td>24</td>\n      <td>666</td>\n      <td>20.2</td>\n      <td>375.33</td>\n      <td>3.73</td>\n      <td>50.0</td>\n    </tr>\n    <tr>\n      <th>4</th>\n      <td>12.80230</td>\n      <td>0.0</td>\n      <td>18.10</td>\n      <td>0.0</td>\n      <td>0.740</td>\n      <td>5.854</td>\n      <td>96.6</td>\n      <td>1.8956</td>\n      <td>24</td>\n      <td>666</td>\n      <td>20.2</td>\n      <td>240.52</td>\n      <td>23.79</td>\n      <td>10.8</td>\n    </tr>\n    <tr>\n      <th>...</th>\n      <td>...</td>\n      <td>...</td>\n      <td>...</td>\n      <td>...</td>\n      <td>...</td>\n      <td>...</td>\n      <td>...</td>\n      <td>...</td>\n      <td>...</td>\n      <td>...</td>\n      <td>...</td>\n      <td>...</td>\n      <td>...</td>\n      <td>...</td>\n    </tr>\n    <tr>\n      <th>400</th>\n      <td>1.00245</td>\n      <td>0.0</td>\n      <td>8.14</td>\n      <td>0.0</td>\n      <td>0.538</td>\n      <td>6.674</td>\n      <td>87.3</td>\n      <td>4.2390</td>\n      <td>4</td>\n      <td>307</td>\n      <td>21.0</td>\n      <td>380.23</td>\n      <td>11.98</td>\n      <td>21.0</td>\n    </tr>\n    <tr>\n      <th>401</th>\n      <td>0.03041</td>\n      <td>0.0</td>\n      <td>5.19</td>\n      <td>0.0</td>\n      <td>0.515</td>\n      <td>5.895</td>\n      <td>59.6</td>\n      <td>5.6150</td>\n      <td>5</td>\n      <td>224</td>\n      <td>20.2</td>\n      <td>394.81</td>\n      <td>10.56</td>\n      <td>18.5</td>\n    </tr>\n    <tr>\n      <th>402</th>\n      <td>2.81838</td>\n      <td>0.0</td>\n      <td>18.10</td>\n      <td>0.0</td>\n      <td>0.532</td>\n      <td>5.762</td>\n      <td>40.3</td>\n      <td>4.0983</td>\n      <td>24</td>\n      <td>666</td>\n      <td>20.2</td>\n      <td>392.92</td>\n      <td>10.42</td>\n      <td>21.8</td>\n    </tr>\n    <tr>\n      <th>403</th>\n      <td>0.44791</td>\n      <td>0.0</td>\n      <td>6.20</td>\n      <td>1.0</td>\n      <td>0.507</td>\n      <td>6.726</td>\n      <td>66.5</td>\n      <td>3.6519</td>\n      <td>8</td>\n      <td>307</td>\n      <td>17.4</td>\n      <td>360.20</td>\n      <td>8.05</td>\n      <td>29.0</td>\n    </tr>\n    <tr>\n      <th>404</th>\n      <td>0.35809</td>\n      <td>0.0</td>\n      <td>6.20</td>\n      <td>1.0</td>\n      <td>0.507</td>\n      <td>6.951</td>\n      <td>88.5</td>\n      <td>2.8617</td>\n      <td>8</td>\n      <td>307</td>\n      <td>17.4</td>\n      <td>391.70</td>\n      <td>9.71</td>\n      <td>26.7</td>\n    </tr>\n  </tbody>\n</table>\n<p>405 rows × 14 columns</p>\n</div>"
     },
     "execution_count": 63,
     "metadata": {},
     "output_type": "execute_result"
    }
   ],
   "source": [
    "#Reading Data\n",
    "train_set = pd.read_csv('../../Datasets/Housingdata/Housing_Train.csv')\n",
    "test_set = pd.read_csv('../../Datasets/Housingdata/Housing_Test.csv')\n",
    "train_set"
   ],
   "metadata": {
    "collapsed": false,
    "pycharm": {
     "name": "#%%\n"
    }
   }
  },
  {
   "cell_type": "code",
   "execution_count": 64,
   "outputs": [],
   "source": [
    "#splliting datasets\n",
    "y_train = train_set['MEDV']\n",
    "x_train = train_set.drop(columns='MEDV')\n",
    "\n",
    "x_test = test_set"
   ],
   "metadata": {
    "collapsed": false,
    "pycharm": {
     "name": "#%%\n"
    }
   }
  },
  {
   "cell_type": "code",
   "execution_count": 65,
   "outputs": [
    {
     "data": {
      "text/plain": "CRIM       3\nZN         5\nINDUS      6\nCHAS       4\nNOX        0\nRM         0\nAGE        5\nDIS        0\nRAD        0\nTAX        0\nPTRATIO    0\nB          0\nLSTAT      2\ndtype: int64"
     },
     "execution_count": 65,
     "metadata": {},
     "output_type": "execute_result"
    }
   ],
   "source": [
    "#check dataset\n",
    "x_train.isnull().sum()\n",
    "x_test.isnull().sum()"
   ],
   "metadata": {
    "collapsed": false,
    "pycharm": {
     "name": "#%%\n"
    }
   }
  },
  {
   "cell_type": "code",
   "execution_count": 66,
   "outputs": [],
   "source": [
    "#fill Null values\n",
    "def replace_null_values(cols: list, dataset: pd.DataFrame):\n",
    "    for col in cols:\n",
    "        temp = dataset[col].dropna()\n",
    "        mode = temp.mean()\n",
    "        dataset[col].fillna(mode, inplace=True)\n",
    "\n",
    "na_cols = list(x_train.columns[x_train.isnull().any()])\n",
    "na_cols_test = list(x_test.columns[x_test.isnull().any()])\n",
    "\n",
    "replace_null_values(na_cols, x_train)\n",
    "replace_null_values(na_cols_test, x_test)"
   ],
   "metadata": {
    "collapsed": false,
    "pycharm": {
     "name": "#%%\n"
    }
   }
  },
  {
   "cell_type": "code",
   "execution_count": 67,
   "outputs": [],
   "source": [
    "#feature Scaling\n",
    "from sklearn.preprocessing import MinMaxScaler, StandardScaler\n",
    "# scaler = MinMaxScaler()\n",
    "scaler = StandardScaler()\n",
    "\n",
    "x_train = pd.DataFrame(scaler.fit_transform(x_train), columns=x_train.columns)\n",
    "x_test = pd.DataFrame(scaler.fit_transform(x_test), columns=x_test.columns)"
   ],
   "metadata": {
    "collapsed": false,
    "pycharm": {
     "name": "#%%\n"
    }
   }
  },
  {
   "cell_type": "code",
   "execution_count": 68,
   "outputs": [],
   "source": [
    "# Linear Regression\n",
    "class LinearRegression:\n",
    "    def __init__(self):\n",
    "        self.weight = None\n",
    "\n",
    "    def fit(self, x:pd.DataFrame, y:pd.DataFrame, epoch:int, learning_rate:float):\n",
    "        m = len(x)\n",
    "        if x.iloc[0, 0] != 1:\n",
    "            x.insert(0, 'bias', 1)\n",
    "\n",
    "        self.weight = np.ones(len(x.columns))\n",
    "\n",
    "        for i in range(epoch):\n",
    "            gradient = 2/m * x.T.dot(self.predict(x) - y)\n",
    "            self.weight = self.weight - learning_rate * gradient\n",
    "\n",
    "    def predict(self, df:pd.DataFrame):\n",
    "        if df.iloc[0, 0] != 1:\n",
    "            df.insert(0, 'bias', 1)\n",
    "        return np.dot(df, self.weight)"
   ],
   "metadata": {
    "collapsed": false,
    "pycharm": {
     "name": "#%%\n"
    }
   }
  },
  {
   "cell_type": "code",
   "execution_count": 69,
   "outputs": [],
   "source": [
    "reg = LinearRegression()\n",
    "reg.fit(x_train, y_train, 2000, 0.1)"
   ],
   "metadata": {
    "collapsed": false,
    "pycharm": {
     "name": "#%%\n"
    }
   }
  },
  {
   "cell_type": "code",
   "execution_count": 70,
   "outputs": [
    {
     "data": {
      "text/plain": "          Value\nMSE   22.387781\nRMSE   4.731573\nR2     0.739538",
      "text/html": "<div>\n<style scoped>\n    .dataframe tbody tr th:only-of-type {\n        vertical-align: middle;\n    }\n\n    .dataframe tbody tr th {\n        vertical-align: top;\n    }\n\n    .dataframe thead th {\n        text-align: right;\n    }\n</style>\n<table border=\"1\" class=\"dataframe\">\n  <thead>\n    <tr style=\"text-align: right;\">\n      <th></th>\n      <th>Value</th>\n    </tr>\n  </thead>\n  <tbody>\n    <tr>\n      <th>MSE</th>\n      <td>22.387781</td>\n    </tr>\n    <tr>\n      <th>RMSE</th>\n      <td>4.731573</td>\n    </tr>\n    <tr>\n      <th>R2</th>\n      <td>0.739538</td>\n    </tr>\n  </tbody>\n</table>\n</div>"
     },
     "execution_count": 70,
     "metadata": {},
     "output_type": "execute_result"
    }
   ],
   "source": [
    "# Evaluating Model\n",
    "from sklearn.metrics import mean_squared_error, r2_score\n",
    "y_pred_train = reg.predict(x_train)\n",
    "\n",
    "mse_error = mean_squared_error(y_train, y_pred_train)\n",
    "rmse = np.sqrt(mse_error)\n",
    "r2_error = r2_score(y_train, y_pred_train)\n",
    "\n",
    "errors = pd.DataFrame({'Value': [mse_error, rmse, r2_error]}, index=['MSE', 'RMSE', 'R2'])\n",
    "errors"
   ],
   "metadata": {
    "collapsed": false,
    "pycharm": {
     "name": "#%%\n"
    }
   }
  },
  {
   "cell_type": "code",
   "execution_count": 71,
   "outputs": [],
   "source": [
    "#running model on test set\n",
    "\n",
    "y_test_pred = pd.DataFrame(reg.predict(x_test), columns=['MEDV'])\n",
    "y_test_pred.to_csv('house_pred.csv', index=False)"
   ],
   "metadata": {
    "collapsed": false,
    "pycharm": {
     "name": "#%%\n"
    }
   }
  }
 ],
 "metadata": {
  "kernelspec": {
   "display_name": "Python 3",
   "language": "python",
   "name": "python3"
  },
  "language_info": {
   "codemirror_mode": {
    "name": "ipython",
    "version": 2
   },
   "file_extension": ".py",
   "mimetype": "text/x-python",
   "name": "python",
   "nbconvert_exporter": "python",
   "pygments_lexer": "ipython2",
   "version": "2.7.6"
  }
 },
 "nbformat": 4,
 "nbformat_minor": 0
}