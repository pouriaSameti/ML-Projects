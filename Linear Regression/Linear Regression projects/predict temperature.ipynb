{
 "cells": [
  {
   "cell_type": "code",
   "execution_count": 1,
   "outputs": [],
   "source": [
    "import numpy as np\n",
    "import pandas as pd"
   ],
   "metadata": {
    "collapsed": false,
    "pycharm": {
     "name": "#%%\n"
    }
   }
  },
  {
   "cell_type": "code",
   "execution_count": 2,
   "outputs": [],
   "source": [
    "train_set = pd.read_csv('../../Datasets/weatherHistory/weatherHistory_Train.csv')\n",
    "test_set = pd.read_csv('../../Datasets/weatherHistory/weatherHistory_Test.csv')"
   ],
   "metadata": {
    "collapsed": false,
    "pycharm": {
     "name": "#%%\n"
    }
   }
  },
  {
   "cell_type": "code",
   "execution_count": 3,
   "outputs": [
    {
     "data": {
      "text/plain": "                      Formatted Date        Summary Precip Type  \\\n0      2013-05-20 06:00:00.000 +0200  Partly Cloudy        rain   \n1      2013-05-20 07:00:00.000 +0200  Partly Cloudy        rain   \n2      2013-05-20 08:00:00.000 +0200  Partly Cloudy        rain   \n3      2013-05-20 09:00:00.000 +0200  Mostly Cloudy        rain   \n4      2013-05-20 10:00:00.000 +0200  Mostly Cloudy        rain   \n...                              ...            ...         ...   \n28931  2016-09-09 19:00:00.000 +0200  Partly Cloudy        rain   \n28932  2016-09-09 20:00:00.000 +0200  Partly Cloudy        rain   \n28933  2016-09-09 21:00:00.000 +0200  Partly Cloudy        rain   \n28934  2016-09-09 22:00:00.000 +0200  Partly Cloudy        rain   \n28935  2016-09-09 23:00:00.000 +0200  Partly Cloudy        rain   \n\n       Temperature (C)  Humidity  Wind Speed (km/h)  Wind Bearing (degrees)  \\\n0            13.800000      0.77            12.3809                   211.0   \n1            14.933333      0.72            11.2056                   230.0   \n2            16.872222      0.64            14.0714                   233.0   \n3            17.800000      0.64            12.8800                   233.0   \n4            18.933333      0.56            20.3987                   250.0   \n...                ...       ...                ...                     ...   \n28931        26.016667      0.43            10.9963                    31.0   \n28932        24.583333      0.48            10.0947                    20.0   \n28933        22.038889      0.56             8.9838                    30.0   \n28934        21.522222      0.60            10.5294                    20.0   \n28935        20.438889      0.61             5.8765                    39.0   \n\n       Visibility (km)  Loud Cover  Pressure (millibars)  \\\n0              11.2056         0.0               1013.92   \n1              11.2056         0.0               1014.46   \n2              10.3523         0.0               1014.91   \n3              10.0464         0.0               1015.25   \n4              11.2700         0.0               1015.26   \n...                ...         ...                   ...   \n28931          16.1000         0.0               1014.36   \n28932          15.5526         0.0               1015.16   \n28933          16.1000         0.0               1015.66   \n28934          16.1000         0.0               1015.95   \n28935          15.5204         0.0               1016.16   \n\n                                Daily Summary  \n0           Partly cloudy throughout the day.  \n1           Partly cloudy throughout the day.  \n2           Partly cloudy throughout the day.  \n3           Partly cloudy throughout the day.  \n4           Partly cloudy throughout the day.  \n...                                       ...  \n28931  Partly cloudy starting in the morning.  \n28932  Partly cloudy starting in the morning.  \n28933  Partly cloudy starting in the morning.  \n28934  Partly cloudy starting in the morning.  \n28935  Partly cloudy starting in the morning.  \n\n[28936 rows x 11 columns]",
      "text/html": "<div>\n<style scoped>\n    .dataframe tbody tr th:only-of-type {\n        vertical-align: middle;\n    }\n\n    .dataframe tbody tr th {\n        vertical-align: top;\n    }\n\n    .dataframe thead th {\n        text-align: right;\n    }\n</style>\n<table border=\"1\" class=\"dataframe\">\n  <thead>\n    <tr style=\"text-align: right;\">\n      <th></th>\n      <th>Formatted Date</th>\n      <th>Summary</th>\n      <th>Precip Type</th>\n      <th>Temperature (C)</th>\n      <th>Humidity</th>\n      <th>Wind Speed (km/h)</th>\n      <th>Wind Bearing (degrees)</th>\n      <th>Visibility (km)</th>\n      <th>Loud Cover</th>\n      <th>Pressure (millibars)</th>\n      <th>Daily Summary</th>\n    </tr>\n  </thead>\n  <tbody>\n    <tr>\n      <th>0</th>\n      <td>2013-05-20 06:00:00.000 +0200</td>\n      <td>Partly Cloudy</td>\n      <td>rain</td>\n      <td>13.800000</td>\n      <td>0.77</td>\n      <td>12.3809</td>\n      <td>211.0</td>\n      <td>11.2056</td>\n      <td>0.0</td>\n      <td>1013.92</td>\n      <td>Partly cloudy throughout the day.</td>\n    </tr>\n    <tr>\n      <th>1</th>\n      <td>2013-05-20 07:00:00.000 +0200</td>\n      <td>Partly Cloudy</td>\n      <td>rain</td>\n      <td>14.933333</td>\n      <td>0.72</td>\n      <td>11.2056</td>\n      <td>230.0</td>\n      <td>11.2056</td>\n      <td>0.0</td>\n      <td>1014.46</td>\n      <td>Partly cloudy throughout the day.</td>\n    </tr>\n    <tr>\n      <th>2</th>\n      <td>2013-05-20 08:00:00.000 +0200</td>\n      <td>Partly Cloudy</td>\n      <td>rain</td>\n      <td>16.872222</td>\n      <td>0.64</td>\n      <td>14.0714</td>\n      <td>233.0</td>\n      <td>10.3523</td>\n      <td>0.0</td>\n      <td>1014.91</td>\n      <td>Partly cloudy throughout the day.</td>\n    </tr>\n    <tr>\n      <th>3</th>\n      <td>2013-05-20 09:00:00.000 +0200</td>\n      <td>Mostly Cloudy</td>\n      <td>rain</td>\n      <td>17.800000</td>\n      <td>0.64</td>\n      <td>12.8800</td>\n      <td>233.0</td>\n      <td>10.0464</td>\n      <td>0.0</td>\n      <td>1015.25</td>\n      <td>Partly cloudy throughout the day.</td>\n    </tr>\n    <tr>\n      <th>4</th>\n      <td>2013-05-20 10:00:00.000 +0200</td>\n      <td>Mostly Cloudy</td>\n      <td>rain</td>\n      <td>18.933333</td>\n      <td>0.56</td>\n      <td>20.3987</td>\n      <td>250.0</td>\n      <td>11.2700</td>\n      <td>0.0</td>\n      <td>1015.26</td>\n      <td>Partly cloudy throughout the day.</td>\n    </tr>\n    <tr>\n      <th>...</th>\n      <td>...</td>\n      <td>...</td>\n      <td>...</td>\n      <td>...</td>\n      <td>...</td>\n      <td>...</td>\n      <td>...</td>\n      <td>...</td>\n      <td>...</td>\n      <td>...</td>\n      <td>...</td>\n    </tr>\n    <tr>\n      <th>28931</th>\n      <td>2016-09-09 19:00:00.000 +0200</td>\n      <td>Partly Cloudy</td>\n      <td>rain</td>\n      <td>26.016667</td>\n      <td>0.43</td>\n      <td>10.9963</td>\n      <td>31.0</td>\n      <td>16.1000</td>\n      <td>0.0</td>\n      <td>1014.36</td>\n      <td>Partly cloudy starting in the morning.</td>\n    </tr>\n    <tr>\n      <th>28932</th>\n      <td>2016-09-09 20:00:00.000 +0200</td>\n      <td>Partly Cloudy</td>\n      <td>rain</td>\n      <td>24.583333</td>\n      <td>0.48</td>\n      <td>10.0947</td>\n      <td>20.0</td>\n      <td>15.5526</td>\n      <td>0.0</td>\n      <td>1015.16</td>\n      <td>Partly cloudy starting in the morning.</td>\n    </tr>\n    <tr>\n      <th>28933</th>\n      <td>2016-09-09 21:00:00.000 +0200</td>\n      <td>Partly Cloudy</td>\n      <td>rain</td>\n      <td>22.038889</td>\n      <td>0.56</td>\n      <td>8.9838</td>\n      <td>30.0</td>\n      <td>16.1000</td>\n      <td>0.0</td>\n      <td>1015.66</td>\n      <td>Partly cloudy starting in the morning.</td>\n    </tr>\n    <tr>\n      <th>28934</th>\n      <td>2016-09-09 22:00:00.000 +0200</td>\n      <td>Partly Cloudy</td>\n      <td>rain</td>\n      <td>21.522222</td>\n      <td>0.60</td>\n      <td>10.5294</td>\n      <td>20.0</td>\n      <td>16.1000</td>\n      <td>0.0</td>\n      <td>1015.95</td>\n      <td>Partly cloudy starting in the morning.</td>\n    </tr>\n    <tr>\n      <th>28935</th>\n      <td>2016-09-09 23:00:00.000 +0200</td>\n      <td>Partly Cloudy</td>\n      <td>rain</td>\n      <td>20.438889</td>\n      <td>0.61</td>\n      <td>5.8765</td>\n      <td>39.0</td>\n      <td>15.5204</td>\n      <td>0.0</td>\n      <td>1016.16</td>\n      <td>Partly cloudy starting in the morning.</td>\n    </tr>\n  </tbody>\n</table>\n<p>28936 rows × 11 columns</p>\n</div>"
     },
     "execution_count": 3,
     "metadata": {},
     "output_type": "execute_result"
    }
   ],
   "source": [
    "test_set"
   ],
   "metadata": {
    "collapsed": false,
    "pycharm": {
     "name": "#%%\n"
    }
   }
  },
  {
   "cell_type": "code",
   "execution_count": 4,
   "outputs": [
    {
     "data": {
      "text/plain": "Formatted Date                0\nSummary                       0\nPrecip Type                 143\nTemperature (C)               0\nApparent Temperature (C)      0\nHumidity                      0\nWind Speed (km/h)             0\nWind Bearing (degrees)        0\nVisibility (km)               0\nLoud Cover                    0\nPressure (millibars)          0\nDaily Summary                 0\ndtype: int64"
     },
     "execution_count": 4,
     "metadata": {},
     "output_type": "execute_result"
    }
   ],
   "source": [
    "train_set.isnull().sum()"
   ],
   "metadata": {
    "collapsed": false,
    "pycharm": {
     "name": "#%%\n"
    }
   }
  },
  {
   "cell_type": "code",
   "execution_count": 5,
   "outputs": [
    {
     "data": {
      "text/plain": "Formatted Date              0\nSummary                     0\nPrecip Type               374\nTemperature (C)             0\nHumidity                    0\nWind Speed (km/h)           0\nWind Bearing (degrees)      0\nVisibility (km)             0\nLoud Cover                  0\nPressure (millibars)        0\nDaily Summary               0\ndtype: int64"
     },
     "execution_count": 5,
     "metadata": {},
     "output_type": "execute_result"
    }
   ],
   "source": [
    "test_set.isnull().sum()"
   ],
   "metadata": {
    "collapsed": false,
    "pycharm": {
     "name": "#%%\n"
    }
   }
  },
  {
   "cell_type": "code",
   "execution_count": 6,
   "outputs": [],
   "source": [
    "# filing NAN values\n",
    "\n",
    "def replace_categorical_null(cols: list, dataset: pd.DataFrame):\n",
    "    for col in cols:\n",
    "        temp = dataset[col].dropna()\n",
    "        mode = temp.mode()[0]\n",
    "        dataset[col].fillna(mode, inplace=True)\n",
    "\n",
    "na_cols = list(train_set.columns[train_set.isnull().any()])\n",
    "replace_categorical_null(na_cols, train_set)\n",
    "\n",
    "na_cols_test = list(test_set.columns[test_set.isnull().any()])\n",
    "replace_categorical_null(na_cols_test, test_set)"
   ],
   "metadata": {
    "collapsed": false,
    "pycharm": {
     "name": "#%%\n"
    }
   }
  },
  {
   "cell_type": "code",
   "execution_count": 7,
   "outputs": [],
   "source": [
    "# Encoding Categorical Columns\n",
    "from sklearn.preprocessing import LabelEncoder\n",
    "\n",
    "def encode_labels(cols: list, dataset: pd.DataFrame, source: pd.DataFrame):\n",
    "    encoder = LabelEncoder()\n",
    "    for col in cols:\n",
    "        encoder.fit(source[col])\n",
    "        dataset[col] = pd.DataFrame(encoder.fit_transform(dataset[col]))\n",
    "\n",
    "\n",
    "# train_categorical_cols = list(train_set.select_dtypes(include=['object']).dtypes.index)\n",
    "train_categorical_cols = ['Summary', 'Precip Type', 'Daily Summary']\n",
    "test_categorical_cols = ['Summary', 'Precip Type', 'Daily Summary']\n",
    "\n",
    "all_data = pd.concat([train_set[train_categorical_cols] , test_set[test_categorical_cols]])\n",
    "\n",
    "encode_labels(train_categorical_cols, train_set, all_data)\n",
    "encode_labels(test_categorical_cols, test_set, all_data)"
   ],
   "metadata": {
    "collapsed": false,
    "pycharm": {
     "name": "#%%\n"
    }
   }
  },
  {
   "cell_type": "code",
   "execution_count": 8,
   "outputs": [],
   "source": [
    "# set the date format for 'Formatted Data' column\n",
    "from datetime import datetime as dt\n",
    "\n",
    "formate = '%Y-%m-%d %H:%M:%S.%f %z'\n",
    "train_set['Formatted Date'] = train_set['Formatted Date'].map(lambda x: dt.strptime(x, formate))\n",
    "test_set['Formatted Date'] = test_set['Formatted Date'].map(lambda x: dt.strptime(x, formate))"
   ],
   "metadata": {
    "collapsed": false,
    "pycharm": {
     "name": "#%%\n"
    }
   }
  },
  {
   "cell_type": "code",
   "execution_count": 9,
   "outputs": [],
   "source": [
    "# Extraction Of Data & time Features\n",
    "\n",
    "train_set['day'] = train_set['Formatted Date'].map(lambda data: data.day)\n",
    "test_set['day'] = test_set['Formatted Date'].map(lambda data: data.day)\n",
    "\n",
    "train_set['month'] = train_set['Formatted Date'].map(lambda data: data.month)\n",
    "test_set['month'] = test_set['Formatted Date'].map(lambda data: data.month)\n",
    "\n",
    "train_set['year'] = train_set['Formatted Date'].map(lambda data: data.year)\n",
    "test_set['year'] = test_set['Formatted Date'].map(lambda data: data.year)\n",
    "\n",
    "train_set['hour'] = train_set['Formatted Date'].map(lambda data: data.hour)\n",
    "test_set['hour'] = test_set['Formatted Date'].map(lambda data: data.hour)\n",
    "\n",
    "train_set = train_set.drop(columns='Formatted Date')\n",
    "test_set = test_set.drop(columns='Formatted Date')"
   ],
   "metadata": {
    "collapsed": false,
    "pycharm": {
     "name": "#%%\n"
    }
   }
  },
  {
   "cell_type": "code",
   "execution_count": 10,
   "outputs": [],
   "source": [
    "# splitting Data\n",
    "y_train = train_set['Apparent Temperature (C)']\n",
    "\n",
    "\n",
    "x_train = train_set.drop(columns='Apparent Temperature (C)')\n",
    "x_test = test_set"
   ],
   "metadata": {
    "collapsed": false,
    "pycharm": {
     "name": "#%%\n"
    }
   }
  },
  {
   "cell_type": "code",
   "execution_count": 11,
   "outputs": [],
   "source": [
    "# Feature Scaling\n",
    "from sklearn.preprocessing import MinMaxScaler, StandardScaler\n",
    "\n",
    "# scaler = MinMaxScaler()\n",
    "scaler = StandardScaler()\n",
    "x_train = pd.DataFrame(scaler.fit_transform(x_train), columns=x_train.columns)\n",
    "x_test = pd.DataFrame(scaler.fit_transform(x_test), columns=x_test.columns)"
   ],
   "metadata": {
    "collapsed": false,
    "pycharm": {
     "name": "#%%\n"
    }
   }
  },
  {
   "cell_type": "code",
   "execution_count": 12,
   "outputs": [],
   "source": [
    "# Linear Regression\n",
    "class LinearRegression:\n",
    "    def __init__(self):\n",
    "        self.weight = None\n",
    "\n",
    "    def fit(self, x:pd.DataFrame, y:pd.DataFrame, epoch:int, learning_rate:float):\n",
    "        m = len(x)\n",
    "        if x.iloc[0, 0] != 1:\n",
    "            x.insert(0, 'bias', 1)\n",
    "\n",
    "        self.weight = np.ones(len(x.columns))\n",
    "\n",
    "        for i in range(epoch):\n",
    "            gradient = 2/m * x.T.dot(self.predict(x) - y)\n",
    "            self.weight = self.weight - learning_rate * gradient\n",
    "\n",
    "    def predict(self, df:pd.DataFrame):\n",
    "        if df.iloc[0, 0] != 1:\n",
    "            df.insert(0, 'bias', 1)\n",
    "        return np.dot(df, self.weight)"
   ],
   "metadata": {
    "collapsed": false,
    "pycharm": {
     "name": "#%%\n"
    }
   }
  },
  {
   "cell_type": "code",
   "execution_count": 13,
   "outputs": [],
   "source": [
    "#training model\n",
    "reg = LinearRegression()\n",
    "reg.fit(x_train, y_train, epoch=2500, learning_rate=0.1)"
   ],
   "metadata": {
    "collapsed": false,
    "pycharm": {
     "name": "#%%\n"
    }
   }
  },
  {
   "cell_type": "code",
   "execution_count": 14,
   "outputs": [
    {
     "data": {
      "text/plain": "         Value\nMSE   1.213905\nRMSE  1.101774\nR2    0.990107",
      "text/html": "<div>\n<style scoped>\n    .dataframe tbody tr th:only-of-type {\n        vertical-align: middle;\n    }\n\n    .dataframe tbody tr th {\n        vertical-align: top;\n    }\n\n    .dataframe thead th {\n        text-align: right;\n    }\n</style>\n<table border=\"1\" class=\"dataframe\">\n  <thead>\n    <tr style=\"text-align: right;\">\n      <th></th>\n      <th>Value</th>\n    </tr>\n  </thead>\n  <tbody>\n    <tr>\n      <th>MSE</th>\n      <td>1.213905</td>\n    </tr>\n    <tr>\n      <th>RMSE</th>\n      <td>1.101774</td>\n    </tr>\n    <tr>\n      <th>R2</th>\n      <td>0.990107</td>\n    </tr>\n  </tbody>\n</table>\n</div>"
     },
     "execution_count": 14,
     "metadata": {},
     "output_type": "execute_result"
    }
   ],
   "source": [
    "#Evaluation\n",
    "from sklearn.metrics import mean_squared_error, r2_score\n",
    "y_train_pred = reg.predict(x_train)\n",
    "\n",
    "mse_error = mean_squared_error(y_train, y_train_pred)\n",
    "rmse = np.sqrt(mse_error)\n",
    "r2_error = r2_score(y_train, y_train_pred)\n",
    "\n",
    "errors = pd.DataFrame({'Value': [mse_error, rmse, r2_error]}, index=['MSE', 'RMSE', 'R2'])\n",
    "errors"
   ],
   "metadata": {
    "collapsed": false,
    "pycharm": {
     "name": "#%%\n"
    }
   }
  },
  {
   "cell_type": "code",
   "execution_count": 15,
   "outputs": [
    {
     "data": {
      "text/plain": "array([12.47381849, 14.01262113, 16.10691872, ..., 22.90361945,\n       22.1026739 , 21.25345934])"
     },
     "execution_count": 15,
     "metadata": {},
     "output_type": "execute_result"
    }
   ],
   "source": [
    "y_test_pred = reg.predict(x_test)\n",
    "y_test_pred"
   ],
   "metadata": {
    "collapsed": false,
    "pycharm": {
     "name": "#%%\n"
    }
   }
  },
  {
   "cell_type": "code",
   "execution_count": 16,
   "outputs": [],
   "source": [
    "#Save Predictions\n",
    "prediction = pd.DataFrame(y_test_pred, columns=['Apparent Temperature (C)'])\n",
    "prediction.to_csv('weather_pred.csv', index=False)"
   ],
   "metadata": {
    "collapsed": false,
    "pycharm": {
     "name": "#%%\n"
    }
   }
  }
 ],
 "metadata": {
  "kernelspec": {
   "display_name": "Python 3",
   "language": "python",
   "name": "python3"
  },
  "language_info": {
   "codemirror_mode": {
    "name": "ipython",
    "version": 2
   },
   "file_extension": ".py",
   "mimetype": "text/x-python",
   "name": "python",
   "nbconvert_exporter": "python",
   "pygments_lexer": "ipython2",
   "version": "2.7.6"
  }
 },
 "nbformat": 4,
 "nbformat_minor": 0
}