{
 "cells": [
  {
   "cell_type": "code",
   "execution_count": 52,
   "outputs": [],
   "source": [
    "import numpy as np\n",
    "import pandas as pd"
   ],
   "metadata": {
    "collapsed": false,
    "pycharm": {
     "name": "#%%\n"
    }
   }
  },
  {
   "cell_type": "code",
   "execution_count": 53,
   "outputs": [],
   "source": [
    "train_set = pd.read_csv('../../Datasets/weatherHistory/weatherHistory_Train.csv')\n",
    "test_set = pd.read_csv('../../Datasets/weatherHistory/weatherHistory_Test.csv')"
   ],
   "metadata": {
    "collapsed": false,
    "pycharm": {
     "name": "#%%\n"
    }
   }
  },
  {
   "cell_type": "code",
   "execution_count": 54,
   "outputs": [
    {
     "data": {
      "text/plain": "                      Formatted Date        Summary Precip Type  \\\n0      2013-05-20 06:00:00.000 +0200  Partly Cloudy        rain   \n1      2013-05-20 07:00:00.000 +0200  Partly Cloudy        rain   \n2      2013-05-20 08:00:00.000 +0200  Partly Cloudy        rain   \n3      2013-05-20 09:00:00.000 +0200  Mostly Cloudy        rain   \n4      2013-05-20 10:00:00.000 +0200  Mostly Cloudy        rain   \n...                              ...            ...         ...   \n28931  2016-09-09 19:00:00.000 +0200  Partly Cloudy        rain   \n28932  2016-09-09 20:00:00.000 +0200  Partly Cloudy        rain   \n28933  2016-09-09 21:00:00.000 +0200  Partly Cloudy        rain   \n28934  2016-09-09 22:00:00.000 +0200  Partly Cloudy        rain   \n28935  2016-09-09 23:00:00.000 +0200  Partly Cloudy        rain   \n\n       Temperature (C)  Humidity  Wind Speed (km/h)  Wind Bearing (degrees)  \\\n0            13.800000      0.77            12.3809                   211.0   \n1            14.933333      0.72            11.2056                   230.0   \n2            16.872222      0.64            14.0714                   233.0   \n3            17.800000      0.64            12.8800                   233.0   \n4            18.933333      0.56            20.3987                   250.0   \n...                ...       ...                ...                     ...   \n28931        26.016667      0.43            10.9963                    31.0   \n28932        24.583333      0.48            10.0947                    20.0   \n28933        22.038889      0.56             8.9838                    30.0   \n28934        21.522222      0.60            10.5294                    20.0   \n28935        20.438889      0.61             5.8765                    39.0   \n\n       Visibility (km)  Loud Cover  Pressure (millibars)  \\\n0              11.2056         0.0               1013.92   \n1              11.2056         0.0               1014.46   \n2              10.3523         0.0               1014.91   \n3              10.0464         0.0               1015.25   \n4              11.2700         0.0               1015.26   \n...                ...         ...                   ...   \n28931          16.1000         0.0               1014.36   \n28932          15.5526         0.0               1015.16   \n28933          16.1000         0.0               1015.66   \n28934          16.1000         0.0               1015.95   \n28935          15.5204         0.0               1016.16   \n\n                                Daily Summary  \n0           Partly cloudy throughout the day.  \n1           Partly cloudy throughout the day.  \n2           Partly cloudy throughout the day.  \n3           Partly cloudy throughout the day.  \n4           Partly cloudy throughout the day.  \n...                                       ...  \n28931  Partly cloudy starting in the morning.  \n28932  Partly cloudy starting in the morning.  \n28933  Partly cloudy starting in the morning.  \n28934  Partly cloudy starting in the morning.  \n28935  Partly cloudy starting in the morning.  \n\n[28936 rows x 11 columns]",
      "text/html": "<div>\n<style scoped>\n    .dataframe tbody tr th:only-of-type {\n        vertical-align: middle;\n    }\n\n    .dataframe tbody tr th {\n        vertical-align: top;\n    }\n\n    .dataframe thead th {\n        text-align: right;\n    }\n</style>\n<table border=\"1\" class=\"dataframe\">\n  <thead>\n    <tr style=\"text-align: right;\">\n      <th></th>\n      <th>Formatted Date</th>\n      <th>Summary</th>\n      <th>Precip Type</th>\n      <th>Temperature (C)</th>\n      <th>Humidity</th>\n      <th>Wind Speed (km/h)</th>\n      <th>Wind Bearing (degrees)</th>\n      <th>Visibility (km)</th>\n      <th>Loud Cover</th>\n      <th>Pressure (millibars)</th>\n      <th>Daily Summary</th>\n    </tr>\n  </thead>\n  <tbody>\n    <tr>\n      <th>0</th>\n      <td>2013-05-20 06:00:00.000 +0200</td>\n      <td>Partly Cloudy</td>\n      <td>rain</td>\n      <td>13.800000</td>\n      <td>0.77</td>\n      <td>12.3809</td>\n      <td>211.0</td>\n      <td>11.2056</td>\n      <td>0.0</td>\n      <td>1013.92</td>\n      <td>Partly cloudy throughout the day.</td>\n    </tr>\n    <tr>\n      <th>1</th>\n      <td>2013-05-20 07:00:00.000 +0200</td>\n      <td>Partly Cloudy</td>\n      <td>rain</td>\n      <td>14.933333</td>\n      <td>0.72</td>\n      <td>11.2056</td>\n      <td>230.0</td>\n      <td>11.2056</td>\n      <td>0.0</td>\n      <td>1014.46</td>\n      <td>Partly cloudy throughout the day.</td>\n    </tr>\n    <tr>\n      <th>2</th>\n      <td>2013-05-20 08:00:00.000 +0200</td>\n      <td>Partly Cloudy</td>\n      <td>rain</td>\n      <td>16.872222</td>\n      <td>0.64</td>\n      <td>14.0714</td>\n      <td>233.0</td>\n      <td>10.3523</td>\n      <td>0.0</td>\n      <td>1014.91</td>\n      <td>Partly cloudy throughout the day.</td>\n    </tr>\n    <tr>\n      <th>3</th>\n      <td>2013-05-20 09:00:00.000 +0200</td>\n      <td>Mostly Cloudy</td>\n      <td>rain</td>\n      <td>17.800000</td>\n      <td>0.64</td>\n      <td>12.8800</td>\n      <td>233.0</td>\n      <td>10.0464</td>\n      <td>0.0</td>\n      <td>1015.25</td>\n      <td>Partly cloudy throughout the day.</td>\n    </tr>\n    <tr>\n      <th>4</th>\n      <td>2013-05-20 10:00:00.000 +0200</td>\n      <td>Mostly Cloudy</td>\n      <td>rain</td>\n      <td>18.933333</td>\n      <td>0.56</td>\n      <td>20.3987</td>\n      <td>250.0</td>\n      <td>11.2700</td>\n      <td>0.0</td>\n      <td>1015.26</td>\n      <td>Partly cloudy throughout the day.</td>\n    </tr>\n    <tr>\n      <th>...</th>\n      <td>...</td>\n      <td>...</td>\n      <td>...</td>\n      <td>...</td>\n      <td>...</td>\n      <td>...</td>\n      <td>...</td>\n      <td>...</td>\n      <td>...</td>\n      <td>...</td>\n      <td>...</td>\n    </tr>\n    <tr>\n      <th>28931</th>\n      <td>2016-09-09 19:00:00.000 +0200</td>\n      <td>Partly Cloudy</td>\n      <td>rain</td>\n      <td>26.016667</td>\n      <td>0.43</td>\n      <td>10.9963</td>\n      <td>31.0</td>\n      <td>16.1000</td>\n      <td>0.0</td>\n      <td>1014.36</td>\n      <td>Partly cloudy starting in the morning.</td>\n    </tr>\n    <tr>\n      <th>28932</th>\n      <td>2016-09-09 20:00:00.000 +0200</td>\n      <td>Partly Cloudy</td>\n      <td>rain</td>\n      <td>24.583333</td>\n      <td>0.48</td>\n      <td>10.0947</td>\n      <td>20.0</td>\n      <td>15.5526</td>\n      <td>0.0</td>\n      <td>1015.16</td>\n      <td>Partly cloudy starting in the morning.</td>\n    </tr>\n    <tr>\n      <th>28933</th>\n      <td>2016-09-09 21:00:00.000 +0200</td>\n      <td>Partly Cloudy</td>\n      <td>rain</td>\n      <td>22.038889</td>\n      <td>0.56</td>\n      <td>8.9838</td>\n      <td>30.0</td>\n      <td>16.1000</td>\n      <td>0.0</td>\n      <td>1015.66</td>\n      <td>Partly cloudy starting in the morning.</td>\n    </tr>\n    <tr>\n      <th>28934</th>\n      <td>2016-09-09 22:00:00.000 +0200</td>\n      <td>Partly Cloudy</td>\n      <td>rain</td>\n      <td>21.522222</td>\n      <td>0.60</td>\n      <td>10.5294</td>\n      <td>20.0</td>\n      <td>16.1000</td>\n      <td>0.0</td>\n      <td>1015.95</td>\n      <td>Partly cloudy starting in the morning.</td>\n    </tr>\n    <tr>\n      <th>28935</th>\n      <td>2016-09-09 23:00:00.000 +0200</td>\n      <td>Partly Cloudy</td>\n      <td>rain</td>\n      <td>20.438889</td>\n      <td>0.61</td>\n      <td>5.8765</td>\n      <td>39.0</td>\n      <td>15.5204</td>\n      <td>0.0</td>\n      <td>1016.16</td>\n      <td>Partly cloudy starting in the morning.</td>\n    </tr>\n  </tbody>\n</table>\n<p>28936 rows × 11 columns</p>\n</div>"
     },
     "execution_count": 54,
     "metadata": {},
     "output_type": "execute_result"
    }
   ],
   "source": [
    "test_set"
   ],
   "metadata": {
    "collapsed": false,
    "pycharm": {
     "name": "#%%\n"
    }
   }
  },
  {
   "cell_type": "code",
   "execution_count": 55,
   "outputs": [
    {
     "data": {
      "text/plain": "Formatted Date                0\nSummary                       0\nPrecip Type                 143\nTemperature (C)               0\nApparent Temperature (C)      0\nHumidity                      0\nWind Speed (km/h)             0\nWind Bearing (degrees)        0\nVisibility (km)               0\nLoud Cover                    0\nPressure (millibars)          0\nDaily Summary                 0\ndtype: int64"
     },
     "execution_count": 55,
     "metadata": {},
     "output_type": "execute_result"
    }
   ],
   "source": [
    "train_set.isnull().sum()"
   ],
   "metadata": {
    "collapsed": false,
    "pycharm": {
     "name": "#%%\n"
    }
   }
  },
  {
   "cell_type": "code",
   "execution_count": 56,
   "outputs": [
    {
     "data": {
      "text/plain": "Formatted Date              0\nSummary                     0\nPrecip Type               374\nTemperature (C)             0\nHumidity                    0\nWind Speed (km/h)           0\nWind Bearing (degrees)      0\nVisibility (km)             0\nLoud Cover                  0\nPressure (millibars)        0\nDaily Summary               0\ndtype: int64"
     },
     "execution_count": 56,
     "metadata": {},
     "output_type": "execute_result"
    }
   ],
   "source": [
    "test_set.isnull().sum()"
   ],
   "metadata": {
    "collapsed": false,
    "pycharm": {
     "name": "#%%\n"
    }
   }
  },
  {
   "cell_type": "code",
   "execution_count": 57,
   "outputs": [],
   "source": [
    "# filing NAN values\n",
    "\n",
    "def replace_categorical_null(cols: list, dataset: pd.DataFrame):\n",
    "    for col in cols:\n",
    "        temp = dataset[col].dropna()\n",
    "        mode = temp.mode()[0]\n",
    "        dataset[col].fillna(mode, inplace=True)\n",
    "\n",
    "na_cols = list(train_set.columns[train_set.isnull().any()])\n",
    "replace_categorical_null(na_cols, train_set)\n",
    "\n",
    "na_cols_test = list(test_set.columns[test_set.isnull().any()])\n",
    "replace_categorical_null(na_cols_test, test_set)"
   ],
   "metadata": {
    "collapsed": false,
    "pycharm": {
     "name": "#%%\n"
    }
   }
  },
  {
   "cell_type": "code",
   "execution_count": 58,
   "outputs": [],
   "source": [
    "# Encoding Categorical Columns\n",
    "from sklearn.preprocessing import LabelEncoder\n",
    "\n",
    "def encode_labels(cols: list, dataset: pd.DataFrame, source: pd.DataFrame):\n",
    "    encoder = LabelEncoder()\n",
    "    for col in cols:\n",
    "        encoder.fit(source[col])\n",
    "        dataset[col] = pd.DataFrame(encoder.fit_transform(dataset[col]))\n",
    "\n",
    "\n",
    "# train_categorical_cols = list(train_set.select_dtypes(include=['object']).dtypes.index)\n",
    "train_categorical_cols = ['Summary', 'Precip Type', 'Daily Summary']\n",
    "test_categorical_cols = ['Summary', 'Precip Type', 'Daily Summary']\n",
    "\n",
    "all_data = pd.concat([train_set[train_categorical_cols] , test_set[test_categorical_cols]])\n",
    "\n",
    "encode_labels(train_categorical_cols, train_set, all_data)\n",
    "encode_labels(test_categorical_cols, test_set, all_data)"
   ],
   "metadata": {
    "collapsed": false,
    "pycharm": {
     "name": "#%%\n"
    }
   }
  },
  {
   "cell_type": "code",
   "execution_count": 59,
   "outputs": [],
   "source": [
    "# set the date format for 'Formatted Data' column\n",
    "from datetime import datetime as dt\n",
    "\n",
    "formate = '%Y-%m-%d %H:%M:%S.%f %z'\n",
    "train_set['Formatted Date'] = train_set['Formatted Date'].map(lambda x: dt.strptime(x, formate))\n",
    "test_set['Formatted Date'] = test_set['Formatted Date'].map(lambda x: dt.strptime(x, formate))"
   ],
   "metadata": {
    "collapsed": false,
    "pycharm": {
     "name": "#%%\n"
    }
   }
  },
  {
   "cell_type": "code",
   "execution_count": 60,
   "outputs": [],
   "source": [
    "# Extraction Of Data & time Features\n",
    "\n",
    "train_set['day'] = train_set['Formatted Date'].map(lambda data: data.day)\n",
    "test_set['day'] = test_set['Formatted Date'].map(lambda data: data.day)\n",
    "\n",
    "train_set['month'] = train_set['Formatted Date'].map(lambda data: data.month)\n",
    "test_set['month'] = test_set['Formatted Date'].map(lambda data: data.month)\n",
    "\n",
    "train_set['hour'] = train_set['Formatted Date'].map(lambda data: data.hour)\n",
    "test_set['hour'] = test_set['Formatted Date'].map(lambda data: data.hour)\n",
    "\n",
    "train_set = train_set.drop(columns='Formatted Date')\n",
    "test_set = test_set.drop(columns='Formatted Date')"
   ],
   "metadata": {
    "collapsed": false,
    "pycharm": {
     "name": "#%%\n"
    }
   }
  },
  {
   "cell_type": "code",
   "execution_count": 61,
   "outputs": [],
   "source": [
    "# splitting Data\n",
    "y_train = train_set['Apparent Temperature (C)']\n",
    "\n",
    "\n",
    "x_train = train_set.drop(columns='Apparent Temperature (C)')\n",
    "x_test = test_set"
   ],
   "metadata": {
    "collapsed": false,
    "pycharm": {
     "name": "#%%\n"
    }
   }
  },
  {
   "cell_type": "code",
   "execution_count": 63,
   "outputs": [],
   "source": [
    "# Feature Scaling\n",
    "from sklearn.preprocessing import MinMaxScaler, StandardScaler\n",
    "\n",
    "scaler = MinMaxScaler()\n",
    "# scaler = StandardScaler()\n",
    "x_train = pd.DataFrame(scaler.fit_transform(x_train), columns=x_train.columns)\n",
    "x_test = pd.DataFrame(scaler.fit_transform(x_test), columns=x_test.columns)"
   ],
   "metadata": {
    "collapsed": false,
    "pycharm": {
     "name": "#%%\n"
    }
   }
  },
  {
   "cell_type": "code",
   "execution_count": 64,
   "outputs": [
    {
     "data": {
      "text/plain": "       Summary  Precip Type  Temperature (C)  Humidity  Wind Speed (km/h)  \\\n0         0.76          0.0         0.506975      0.89           0.221130   \n1         0.76          0.0         0.505085      0.86           0.223399   \n2         0.68          0.0         0.505445      0.89           0.061523   \n3         0.76          0.0         0.487805      0.83           0.220877   \n4         0.68          0.0         0.495365      0.83           0.172970   \n...        ...          ...              ...       ...                ...   \n67512     0.68          0.0         0.638556      0.84           0.166667   \n67513     0.76          0.0         0.638106      0.80           0.212557   \n67514     0.76          0.0         0.628926      0.81           0.219869   \n67515     0.76          0.0         0.602286      0.78           0.219617   \n67516     0.76          0.0         0.584736      0.85           0.167675   \n\n       Wind Bearing (degrees)  Visibility (km)  Loud Cover  \\\n0                    0.699164            0.983         0.0   \n1                    0.721448            0.983         0.0   \n2                    0.568245            0.929         0.0   \n3                    0.749304            0.983         0.0   \n4                    0.721448            0.983         0.0   \n...                       ...              ...         ...   \n67512                0.777159            0.620         0.0   \n67513                0.749304            0.685         0.0   \n67514                0.724234            0.983         0.0   \n67515                0.696379            0.983         0.0   \n67516                0.632312            0.929         0.0   \n\n       Pressure (millibars)  Daily Summary  ...  Humiditypoly  \\\n0                  0.970135       0.938889  ...      0.627422   \n1                  0.970613       0.938889  ...      0.547008   \n2                  0.970909       0.938889  ...      0.627422   \n3                  0.971358       0.938889  ...      0.474583   \n4                  0.971454       0.938889  ...      0.474583   \n...                     ...            ...  ...           ...   \n67512              0.965471       0.938889  ...      0.497871   \n67513              0.966475       0.938889  ...      0.409600   \n67514              0.966972       0.938889  ...      0.430467   \n67515              0.966981       0.938889  ...      0.370151   \n67516              0.967956       0.938889  ...      0.522006   \n\n       Wind Speed (km/h)poly  Wind Bearing (degrees)poly  Visibility (km)poly  \\\n0                   0.002391                    0.238956             0.933714   \n1                   0.002491                    0.270908             0.933714   \n2                   0.000014                    0.104266             0.744840   \n3                   0.002380                    0.315233             0.933714   \n4                   0.000895                    0.270908             0.933714   \n...                      ...                         ...                  ...   \n67512               0.000772                    0.364787             0.147763   \n67513               0.002041                    0.315233             0.220172   \n67514               0.002337                    0.275116             0.933714   \n67515               0.002326                    0.235170             0.933714   \n67516               0.000790                    0.159855             0.744840   \n\n       Loud Coverpoly  Pressure (millibars)poly  Daily Summarypoly  daypoly  \\\n0                 0.0                  0.885786           0.777064  0.00000   \n1                 0.0                  0.887533           0.777064  0.00000   \n2                 0.0                  0.888617           0.777064  0.00000   \n3                 0.0                  0.890262           0.777064  0.00000   \n4                 0.0                  0.890613           0.777064  0.00000   \n...               ...                       ...                ...      ...   \n67512             0.0                  0.868876           0.777064  0.16089   \n67513             0.0                  0.872494           0.777064  0.16089   \n67514             0.0                  0.874290           0.777064  0.16089   \n67515             0.0                  0.874324           0.777064  0.16089   \n67516             0.0                  0.877855           0.777064  0.16089   \n\n       monthpoly  hourpoly  \n0       0.005532  0.000000  \n1       0.005532  0.000004  \n2       0.005532  0.000057  \n3       0.005532  0.000289  \n4       0.005532  0.000915  \n...          ...       ...  \n67512   0.017485  0.000004  \n67513   0.017485  0.000057  \n67514   0.017485  0.000289  \n67515   0.017485  0.000915  \n67516   0.017485  0.002233  \n\n[67517 rows x 26 columns]",
      "text/html": "<div>\n<style scoped>\n    .dataframe tbody tr th:only-of-type {\n        vertical-align: middle;\n    }\n\n    .dataframe tbody tr th {\n        vertical-align: top;\n    }\n\n    .dataframe thead th {\n        text-align: right;\n    }\n</style>\n<table border=\"1\" class=\"dataframe\">\n  <thead>\n    <tr style=\"text-align: right;\">\n      <th></th>\n      <th>Summary</th>\n      <th>Precip Type</th>\n      <th>Temperature (C)</th>\n      <th>Humidity</th>\n      <th>Wind Speed (km/h)</th>\n      <th>Wind Bearing (degrees)</th>\n      <th>Visibility (km)</th>\n      <th>Loud Cover</th>\n      <th>Pressure (millibars)</th>\n      <th>Daily Summary</th>\n      <th>...</th>\n      <th>Humiditypoly</th>\n      <th>Wind Speed (km/h)poly</th>\n      <th>Wind Bearing (degrees)poly</th>\n      <th>Visibility (km)poly</th>\n      <th>Loud Coverpoly</th>\n      <th>Pressure (millibars)poly</th>\n      <th>Daily Summarypoly</th>\n      <th>daypoly</th>\n      <th>monthpoly</th>\n      <th>hourpoly</th>\n    </tr>\n  </thead>\n  <tbody>\n    <tr>\n      <th>0</th>\n      <td>0.76</td>\n      <td>0.0</td>\n      <td>0.506975</td>\n      <td>0.89</td>\n      <td>0.221130</td>\n      <td>0.699164</td>\n      <td>0.983</td>\n      <td>0.0</td>\n      <td>0.970135</td>\n      <td>0.938889</td>\n      <td>...</td>\n      <td>0.627422</td>\n      <td>0.002391</td>\n      <td>0.238956</td>\n      <td>0.933714</td>\n      <td>0.0</td>\n      <td>0.885786</td>\n      <td>0.777064</td>\n      <td>0.00000</td>\n      <td>0.005532</td>\n      <td>0.000000</td>\n    </tr>\n    <tr>\n      <th>1</th>\n      <td>0.76</td>\n      <td>0.0</td>\n      <td>0.505085</td>\n      <td>0.86</td>\n      <td>0.223399</td>\n      <td>0.721448</td>\n      <td>0.983</td>\n      <td>0.0</td>\n      <td>0.970613</td>\n      <td>0.938889</td>\n      <td>...</td>\n      <td>0.547008</td>\n      <td>0.002491</td>\n      <td>0.270908</td>\n      <td>0.933714</td>\n      <td>0.0</td>\n      <td>0.887533</td>\n      <td>0.777064</td>\n      <td>0.00000</td>\n      <td>0.005532</td>\n      <td>0.000004</td>\n    </tr>\n    <tr>\n      <th>2</th>\n      <td>0.68</td>\n      <td>0.0</td>\n      <td>0.505445</td>\n      <td>0.89</td>\n      <td>0.061523</td>\n      <td>0.568245</td>\n      <td>0.929</td>\n      <td>0.0</td>\n      <td>0.970909</td>\n      <td>0.938889</td>\n      <td>...</td>\n      <td>0.627422</td>\n      <td>0.000014</td>\n      <td>0.104266</td>\n      <td>0.744840</td>\n      <td>0.0</td>\n      <td>0.888617</td>\n      <td>0.777064</td>\n      <td>0.00000</td>\n      <td>0.005532</td>\n      <td>0.000057</td>\n    </tr>\n    <tr>\n      <th>3</th>\n      <td>0.76</td>\n      <td>0.0</td>\n      <td>0.487805</td>\n      <td>0.83</td>\n      <td>0.220877</td>\n      <td>0.749304</td>\n      <td>0.983</td>\n      <td>0.0</td>\n      <td>0.971358</td>\n      <td>0.938889</td>\n      <td>...</td>\n      <td>0.474583</td>\n      <td>0.002380</td>\n      <td>0.315233</td>\n      <td>0.933714</td>\n      <td>0.0</td>\n      <td>0.890262</td>\n      <td>0.777064</td>\n      <td>0.00000</td>\n      <td>0.005532</td>\n      <td>0.000289</td>\n    </tr>\n    <tr>\n      <th>4</th>\n      <td>0.68</td>\n      <td>0.0</td>\n      <td>0.495365</td>\n      <td>0.83</td>\n      <td>0.172970</td>\n      <td>0.721448</td>\n      <td>0.983</td>\n      <td>0.0</td>\n      <td>0.971454</td>\n      <td>0.938889</td>\n      <td>...</td>\n      <td>0.474583</td>\n      <td>0.000895</td>\n      <td>0.270908</td>\n      <td>0.933714</td>\n      <td>0.0</td>\n      <td>0.890613</td>\n      <td>0.777064</td>\n      <td>0.00000</td>\n      <td>0.005532</td>\n      <td>0.000915</td>\n    </tr>\n    <tr>\n      <th>...</th>\n      <td>...</td>\n      <td>...</td>\n      <td>...</td>\n      <td>...</td>\n      <td>...</td>\n      <td>...</td>\n      <td>...</td>\n      <td>...</td>\n      <td>...</td>\n      <td>...</td>\n      <td>...</td>\n      <td>...</td>\n      <td>...</td>\n      <td>...</td>\n      <td>...</td>\n      <td>...</td>\n      <td>...</td>\n      <td>...</td>\n      <td>...</td>\n      <td>...</td>\n      <td>...</td>\n    </tr>\n    <tr>\n      <th>67512</th>\n      <td>0.68</td>\n      <td>0.0</td>\n      <td>0.638556</td>\n      <td>0.84</td>\n      <td>0.166667</td>\n      <td>0.777159</td>\n      <td>0.620</td>\n      <td>0.0</td>\n      <td>0.965471</td>\n      <td>0.938889</td>\n      <td>...</td>\n      <td>0.497871</td>\n      <td>0.000772</td>\n      <td>0.364787</td>\n      <td>0.147763</td>\n      <td>0.0</td>\n      <td>0.868876</td>\n      <td>0.777064</td>\n      <td>0.16089</td>\n      <td>0.017485</td>\n      <td>0.000004</td>\n    </tr>\n    <tr>\n      <th>67513</th>\n      <td>0.76</td>\n      <td>0.0</td>\n      <td>0.638106</td>\n      <td>0.80</td>\n      <td>0.212557</td>\n      <td>0.749304</td>\n      <td>0.685</td>\n      <td>0.0</td>\n      <td>0.966475</td>\n      <td>0.938889</td>\n      <td>...</td>\n      <td>0.409600</td>\n      <td>0.002041</td>\n      <td>0.315233</td>\n      <td>0.220172</td>\n      <td>0.0</td>\n      <td>0.872494</td>\n      <td>0.777064</td>\n      <td>0.16089</td>\n      <td>0.017485</td>\n      <td>0.000057</td>\n    </tr>\n    <tr>\n      <th>67514</th>\n      <td>0.76</td>\n      <td>0.0</td>\n      <td>0.628926</td>\n      <td>0.81</td>\n      <td>0.219869</td>\n      <td>0.724234</td>\n      <td>0.983</td>\n      <td>0.0</td>\n      <td>0.966972</td>\n      <td>0.938889</td>\n      <td>...</td>\n      <td>0.430467</td>\n      <td>0.002337</td>\n      <td>0.275116</td>\n      <td>0.933714</td>\n      <td>0.0</td>\n      <td>0.874290</td>\n      <td>0.777064</td>\n      <td>0.16089</td>\n      <td>0.017485</td>\n      <td>0.000289</td>\n    </tr>\n    <tr>\n      <th>67515</th>\n      <td>0.76</td>\n      <td>0.0</td>\n      <td>0.602286</td>\n      <td>0.78</td>\n      <td>0.219617</td>\n      <td>0.696379</td>\n      <td>0.983</td>\n      <td>0.0</td>\n      <td>0.966981</td>\n      <td>0.938889</td>\n      <td>...</td>\n      <td>0.370151</td>\n      <td>0.002326</td>\n      <td>0.235170</td>\n      <td>0.933714</td>\n      <td>0.0</td>\n      <td>0.874324</td>\n      <td>0.777064</td>\n      <td>0.16089</td>\n      <td>0.017485</td>\n      <td>0.000915</td>\n    </tr>\n    <tr>\n      <th>67516</th>\n      <td>0.76</td>\n      <td>0.0</td>\n      <td>0.584736</td>\n      <td>0.85</td>\n      <td>0.167675</td>\n      <td>0.632312</td>\n      <td>0.929</td>\n      <td>0.0</td>\n      <td>0.967956</td>\n      <td>0.938889</td>\n      <td>...</td>\n      <td>0.522006</td>\n      <td>0.000790</td>\n      <td>0.159855</td>\n      <td>0.744840</td>\n      <td>0.0</td>\n      <td>0.877855</td>\n      <td>0.777064</td>\n      <td>0.16089</td>\n      <td>0.017485</td>\n      <td>0.002233</td>\n    </tr>\n  </tbody>\n</table>\n<p>67517 rows × 26 columns</p>\n</div>"
     },
     "execution_count": 64,
     "metadata": {},
     "output_type": "execute_result"
    }
   ],
   "source": [
    "#adding poly features\n",
    "\n",
    "def apply_poly(degree: int, dataset: pd.DataFrame, columns: list):\n",
    "    for col in columns:\n",
    "        dataset[col+\"poly\"] = dataset[col].apply(lambda x: np.power(x, degree))\n",
    "\n",
    "apply_poly(4, x_train, x_train.columns)\n",
    "apply_poly(4, x_test, x_test.columns)\n",
    "\n",
    "x_train"
   ],
   "metadata": {
    "collapsed": false,
    "pycharm": {
     "name": "#%%\n"
    }
   }
  },
  {
   "cell_type": "code",
   "execution_count": 65,
   "outputs": [
    {
     "data": {
      "text/plain": "LinearRegression()",
      "text/html": "<style>#sk-container-id-4 {color: black;}#sk-container-id-4 pre{padding: 0;}#sk-container-id-4 div.sk-toggleable {background-color: white;}#sk-container-id-4 label.sk-toggleable__label {cursor: pointer;display: block;width: 100%;margin-bottom: 0;padding: 0.3em;box-sizing: border-box;text-align: center;}#sk-container-id-4 label.sk-toggleable__label-arrow:before {content: \"▸\";float: left;margin-right: 0.25em;color: #696969;}#sk-container-id-4 label.sk-toggleable__label-arrow:hover:before {color: black;}#sk-container-id-4 div.sk-estimator:hover label.sk-toggleable__label-arrow:before {color: black;}#sk-container-id-4 div.sk-toggleable__content {max-height: 0;max-width: 0;overflow: hidden;text-align: left;background-color: #f0f8ff;}#sk-container-id-4 div.sk-toggleable__content pre {margin: 0.2em;color: black;border-radius: 0.25em;background-color: #f0f8ff;}#sk-container-id-4 input.sk-toggleable__control:checked~div.sk-toggleable__content {max-height: 200px;max-width: 100%;overflow: auto;}#sk-container-id-4 input.sk-toggleable__control:checked~label.sk-toggleable__label-arrow:before {content: \"▾\";}#sk-container-id-4 div.sk-estimator input.sk-toggleable__control:checked~label.sk-toggleable__label {background-color: #d4ebff;}#sk-container-id-4 div.sk-label input.sk-toggleable__control:checked~label.sk-toggleable__label {background-color: #d4ebff;}#sk-container-id-4 input.sk-hidden--visually {border: 0;clip: rect(1px 1px 1px 1px);clip: rect(1px, 1px, 1px, 1px);height: 1px;margin: -1px;overflow: hidden;padding: 0;position: absolute;width: 1px;}#sk-container-id-4 div.sk-estimator {font-family: monospace;background-color: #f0f8ff;border: 1px dotted black;border-radius: 0.25em;box-sizing: border-box;margin-bottom: 0.5em;}#sk-container-id-4 div.sk-estimator:hover {background-color: #d4ebff;}#sk-container-id-4 div.sk-parallel-item::after {content: \"\";width: 100%;border-bottom: 1px solid gray;flex-grow: 1;}#sk-container-id-4 div.sk-label:hover label.sk-toggleable__label {background-color: #d4ebff;}#sk-container-id-4 div.sk-serial::before {content: \"\";position: absolute;border-left: 1px solid gray;box-sizing: border-box;top: 0;bottom: 0;left: 50%;z-index: 0;}#sk-container-id-4 div.sk-serial {display: flex;flex-direction: column;align-items: center;background-color: white;padding-right: 0.2em;padding-left: 0.2em;position: relative;}#sk-container-id-4 div.sk-item {position: relative;z-index: 1;}#sk-container-id-4 div.sk-parallel {display: flex;align-items: stretch;justify-content: center;background-color: white;position: relative;}#sk-container-id-4 div.sk-item::before, #sk-container-id-4 div.sk-parallel-item::before {content: \"\";position: absolute;border-left: 1px solid gray;box-sizing: border-box;top: 0;bottom: 0;left: 50%;z-index: -1;}#sk-container-id-4 div.sk-parallel-item {display: flex;flex-direction: column;z-index: 1;position: relative;background-color: white;}#sk-container-id-4 div.sk-parallel-item:first-child::after {align-self: flex-end;width: 50%;}#sk-container-id-4 div.sk-parallel-item:last-child::after {align-self: flex-start;width: 50%;}#sk-container-id-4 div.sk-parallel-item:only-child::after {width: 0;}#sk-container-id-4 div.sk-dashed-wrapped {border: 1px dashed gray;margin: 0 0.4em 0.5em 0.4em;box-sizing: border-box;padding-bottom: 0.4em;background-color: white;}#sk-container-id-4 div.sk-label label {font-family: monospace;font-weight: bold;display: inline-block;line-height: 1.2em;}#sk-container-id-4 div.sk-label-container {text-align: center;}#sk-container-id-4 div.sk-container {/* jupyter's `normalize.less` sets `[hidden] { display: none; }` but bootstrap.min.css set `[hidden] { display: none !important; }` so we also need the `!important` here to be able to override the default hidden behavior on the sphinx rendered scikit-learn.org. See: https://github.com/scikit-learn/scikit-learn/issues/21755 */display: inline-block !important;position: relative;}#sk-container-id-4 div.sk-text-repr-fallback {display: none;}</style><div id=\"sk-container-id-4\" class=\"sk-top-container\"><div class=\"sk-text-repr-fallback\"><pre>LinearRegression()</pre><b>In a Jupyter environment, please rerun this cell to show the HTML representation or trust the notebook. <br />On GitHub, the HTML representation is unable to render, please try loading this page with nbviewer.org.</b></div><div class=\"sk-container\" hidden><div class=\"sk-item\"><div class=\"sk-estimator sk-toggleable\"><input class=\"sk-toggleable__control sk-hidden--visually\" id=\"sk-estimator-id-4\" type=\"checkbox\" checked><label for=\"sk-estimator-id-4\" class=\"sk-toggleable__label sk-toggleable__label-arrow\">LinearRegression</label><div class=\"sk-toggleable__content\"><pre>LinearRegression()</pre></div></div></div></div></div>"
     },
     "execution_count": 65,
     "metadata": {},
     "output_type": "execute_result"
    }
   ],
   "source": [
    "#training model\n",
    "from sklearn.linear_model import LinearRegression\n",
    "reg = LinearRegression()\n",
    "reg.fit(x_train, y_train)"
   ],
   "metadata": {
    "collapsed": false,
    "pycharm": {
     "name": "#%%\n"
    }
   }
  },
  {
   "cell_type": "code",
   "execution_count": 66,
   "outputs": [
    {
     "data": {
      "text/plain": "         Value\nMSE   0.971908\nRMSE  0.985854\nR2    0.992079",
      "text/html": "<div>\n<style scoped>\n    .dataframe tbody tr th:only-of-type {\n        vertical-align: middle;\n    }\n\n    .dataframe tbody tr th {\n        vertical-align: top;\n    }\n\n    .dataframe thead th {\n        text-align: right;\n    }\n</style>\n<table border=\"1\" class=\"dataframe\">\n  <thead>\n    <tr style=\"text-align: right;\">\n      <th></th>\n      <th>Value</th>\n    </tr>\n  </thead>\n  <tbody>\n    <tr>\n      <th>MSE</th>\n      <td>0.971908</td>\n    </tr>\n    <tr>\n      <th>RMSE</th>\n      <td>0.985854</td>\n    </tr>\n    <tr>\n      <th>R2</th>\n      <td>0.992079</td>\n    </tr>\n  </tbody>\n</table>\n</div>"
     },
     "execution_count": 66,
     "metadata": {},
     "output_type": "execute_result"
    }
   ],
   "source": [
    "#Evaluation\n",
    "from sklearn.metrics import mean_squared_error, r2_score\n",
    "y_train_pred = reg.predict(x_train)\n",
    "\n",
    "mse_error = mean_squared_error(y_train, y_train_pred)\n",
    "rmse = np.sqrt(mse_error)\n",
    "r2_error = r2_score(y_train, y_train_pred)\n",
    "\n",
    "errors = pd.DataFrame({'Value': [mse_error, rmse, r2_error]}, index=['MSE', 'RMSE', 'R2'])\n",
    "errors"
   ],
   "metadata": {
    "collapsed": false,
    "pycharm": {
     "name": "#%%\n"
    }
   }
  },
  {
   "cell_type": "code",
   "execution_count": 67,
   "outputs": [
    {
     "data": {
      "text/plain": "array([10.12609022, 11.89858596, 14.25138094, ..., 21.45151096,\n       20.56922696, 19.79466131])"
     },
     "execution_count": 67,
     "metadata": {},
     "output_type": "execute_result"
    }
   ],
   "source": [
    "y_test_pred = reg.predict(x_test)\n",
    "y_test_pred"
   ],
   "metadata": {
    "collapsed": false,
    "pycharm": {
     "name": "#%%\n"
    }
   }
  },
  {
   "cell_type": "code",
   "execution_count": 68,
   "outputs": [],
   "source": [
    "#Save Predictions\n",
    "prediction = pd.DataFrame(y_test_pred, columns=['Apparent Temperature (C)'])\n",
    "prediction.to_csv('../../weather_pred.csv', index=False)"
   ],
   "metadata": {
    "collapsed": false,
    "pycharm": {
     "name": "#%%\n"
    }
   }
  }
 ],
 "metadata": {
  "kernelspec": {
   "display_name": "Python 3",
   "language": "python",
   "name": "python3"
  },
  "language_info": {
   "codemirror_mode": {
    "name": "ipython",
    "version": 2
   },
   "file_extension": ".py",
   "mimetype": "text/x-python",
   "name": "python",
   "nbconvert_exporter": "python",
   "pygments_lexer": "ipython2",
   "version": "2.7.6"
  }
 },
 "nbformat": 4,
 "nbformat_minor": 0
}