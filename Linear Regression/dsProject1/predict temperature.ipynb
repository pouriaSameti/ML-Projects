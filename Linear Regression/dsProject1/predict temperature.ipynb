{
 "cells": [
  {
   "cell_type": "code",
   "execution_count": 49,
   "outputs": [],
   "source": [
    "import numpy as np\n",
    "import pandas as pd"
   ],
   "metadata": {
    "collapsed": false,
    "pycharm": {
     "name": "#%%\n"
    }
   }
  },
  {
   "cell_type": "code",
   "execution_count": 50,
   "outputs": [],
   "source": [
    "train_set = pd.read_csv('../../Datasets/weatherHistory/weatherHistory_Train.csv')\n",
    "test_set = pd.read_csv('../../Datasets/weatherHistory/weatherHistory_Train.csv')"
   ],
   "metadata": {
    "collapsed": false,
    "pycharm": {
     "name": "#%%\n"
    }
   }
  },
  {
   "cell_type": "code",
   "execution_count": 61,
   "outputs": [
    {
     "data": {
      "text/plain": "Summary                     0\nPrecip Type                 0\nTemperature (C)             0\nApparent Temperature (C)    0\nHumidity                    0\nWind Speed (km/h)           0\nWind Bearing (degrees)      0\nVisibility (km)             0\nLoud Cover                  0\nPressure (millibars)        0\nDaily Summary               0\nday                         0\nmonth                       0\nyear                        0\nhour                        0\ndtype: int64"
     },
     "execution_count": 61,
     "metadata": {},
     "output_type": "execute_result"
    }
   ],
   "source": [
    "train_set.isnull().sum()"
   ],
   "metadata": {
    "collapsed": false,
    "pycharm": {
     "name": "#%%\n"
    }
   }
  },
  {
   "cell_type": "code",
   "execution_count": 62,
   "outputs": [
    {
     "data": {
      "text/plain": "Summary                     0\nPrecip Type                 0\nTemperature (C)             0\nApparent Temperature (C)    0\nHumidity                    0\nWind Speed (km/h)           0\nWind Bearing (degrees)      0\nVisibility (km)             0\nLoud Cover                  0\nPressure (millibars)        0\nDaily Summary               0\nday                         0\nmonth                       0\nyear                        0\nhour                        0\ndtype: int64"
     },
     "execution_count": 62,
     "metadata": {},
     "output_type": "execute_result"
    }
   ],
   "source": [
    "test_set.isnull().sum()"
   ],
   "metadata": {
    "collapsed": false,
    "pycharm": {
     "name": "#%%\n"
    }
   }
  },
  {
   "cell_type": "code",
   "execution_count": 52,
   "outputs": [],
   "source": [
    "# filing NAN values\n",
    "\n",
    "def replace_categorical_null(cols: list, dataset: pd.DataFrame):\n",
    "    for col in cols:\n",
    "        temp = dataset[col].dropna()\n",
    "        mode = temp.mode()[0]\n",
    "        dataset[col].fillna(mode, inplace=True)\n",
    "\n",
    "na_cols = list(train_set.columns[train_set.isnull().any()])\n",
    "replace_categorical_null(na_cols, train_set)\n",
    "\n",
    "na_cols_test = list(test_set.columns[test_set.isnull().any()])\n",
    "replace_categorical_null(na_cols_test, test_set)"
   ],
   "metadata": {
    "collapsed": false,
    "pycharm": {
     "name": "#%%\n"
    }
   }
  },
  {
   "cell_type": "code",
   "execution_count": 53,
   "outputs": [],
   "source": [
    "# Encoding Categorical Columns\n",
    "from sklearn.preprocessing import LabelEncoder\n",
    "\n",
    "def encode_labels(cols: list, dataset: pd.DataFrame, source: pd.DataFrame):\n",
    "    encoder = LabelEncoder()\n",
    "    for col in cols:\n",
    "        encoder.fit(source[col])\n",
    "        dataset[col] = pd.DataFrame(encoder.fit_transform(dataset[col]))\n",
    "\n",
    "\n",
    "# train_categorical_cols = list(train_set.select_dtypes(include=['object']).dtypes.index)\n",
    "train_categorical_cols = ['Summary', 'Precip Type', 'Daily Summary']\n",
    "test_categorical_cols = ['Summary', 'Precip Type', 'Daily Summary']\n",
    "\n",
    "all_data = pd.concat([train_set[train_categorical_cols] , test_set[test_categorical_cols]])\n",
    "\n",
    "encode_labels(train_categorical_cols, train_set, all_data)\n",
    "encode_labels(test_categorical_cols, test_set, all_data)"
   ],
   "metadata": {
    "collapsed": false,
    "pycharm": {
     "name": "#%%\n"
    }
   }
  },
  {
   "cell_type": "code",
   "execution_count": 54,
   "outputs": [],
   "source": [
    "# set the date format for 'Formatted Data' column\n",
    "from datetime import datetime as dt\n",
    "\n",
    "formate = '%Y-%m-%d %H:%M:%S.%f %z'\n",
    "train_set['Formatted Date'] = train_set['Formatted Date'].map(lambda x: dt.strptime(x, formate))\n",
    "test_set['Formatted Date'] = test_set['Formatted Date'].map(lambda x: dt.strptime(x, formate))"
   ],
   "metadata": {
    "collapsed": false,
    "pycharm": {
     "name": "#%%\n"
    }
   }
  },
  {
   "cell_type": "code",
   "execution_count": 55,
   "outputs": [],
   "source": [
    "# Extraction Of Data & time Features\n",
    "\n",
    "train_set['day'] = train_set['Formatted Date'].map(lambda data: data.day)\n",
    "test_set['day'] = test_set['Formatted Date'].map(lambda data: data.day)\n",
    "\n",
    "train_set['month'] = train_set['Formatted Date'].map(lambda data: data.month)\n",
    "test_set['month'] = test_set['Formatted Date'].map(lambda data: data.month)\n",
    "\n",
    "train_set['year'] = train_set['Formatted Date'].map(lambda data: data.year)\n",
    "test_set['year'] = test_set['Formatted Date'].map(lambda data: data.year)\n",
    "\n",
    "train_set['hour'] = train_set['Formatted Date'].map(lambda data: data.hour)\n",
    "test_set['hour'] = test_set['Formatted Date'].map(lambda data: data.hour)\n",
    "\n",
    "train_set = train_set.drop(columns='Formatted Date')\n",
    "test_set = test_set.drop(columns='Formatted Date')"
   ],
   "metadata": {
    "collapsed": false,
    "pycharm": {
     "name": "#%%\n"
    }
   }
  },
  {
   "cell_type": "code",
   "execution_count": 56,
   "outputs": [],
   "source": [
    "# splitting Data\n",
    "y_train = train_set['Apparent Temperature (C)']\n",
    "y_test = test_set['Apparent Temperature (C)']\n",
    "\n",
    "x_train = train_set.drop(columns='Apparent Temperature (C)')\n",
    "x_test = test_set.drop(columns='Apparent Temperature (C)')"
   ],
   "metadata": {
    "collapsed": false,
    "pycharm": {
     "name": "#%%\n"
    }
   }
  },
  {
   "cell_type": "code",
   "execution_count": 57,
   "outputs": [],
   "source": [
    "# Feature Scaling\n",
    "from sklearn.preprocessing import MinMaxScaler\n",
    "\n",
    "scaler = MinMaxScaler()\n",
    "x_train = pd.DataFrame(scaler.fit_transform(x_train), columns=x_train.columns)\n",
    "x_test = pd.DataFrame(scaler.fit_transform(x_test), columns=x_test.columns)"
   ],
   "metadata": {
    "collapsed": false,
    "pycharm": {
     "name": "#%%\n"
    }
   }
  },
  {
   "cell_type": "code",
   "execution_count": 58,
   "outputs": [],
   "source": [
    "# Linear Regression\n",
    "class LinearRegression:\n",
    "    def __init__(self):\n",
    "        self.weight = None\n",
    "\n",
    "    def fit(self, x:pd.DataFrame, y:pd.DataFrame, epoch:int, learning_rate:float):\n",
    "        m = len(x)\n",
    "        if x.iloc[0, 0] != 1:\n",
    "            x.insert(0, 'bias', 1)\n",
    "\n",
    "        self.weight = np.ones(len(x.columns))\n",
    "\n",
    "        for i in range(epoch):\n",
    "            gradient = 2/m * x.T.dot(self.predict(x) - y)\n",
    "            self.weight = self.weight - learning_rate * gradient\n",
    "\n",
    "    def predict(self, df:pd.DataFrame):\n",
    "        if df.iloc[0, 0] != 1:\n",
    "            df.insert(0, 'bias', 1)\n",
    "        return np.dot(df, self.weight)"
   ],
   "metadata": {
    "collapsed": false,
    "pycharm": {
     "name": "#%%\n"
    }
   }
  },
  {
   "cell_type": "code",
   "execution_count": 59,
   "outputs": [],
   "source": [
    "#training model\n",
    "reg = LinearRegression()\n",
    "reg.fit(x_train, y_train, epoch=2500, learning_rate=0.1)"
   ],
   "metadata": {
    "collapsed": false,
    "pycharm": {
     "name": "#%%\n"
    }
   }
  },
  {
   "cell_type": "code",
   "execution_count": 60,
   "outputs": [
    {
     "data": {
      "text/plain": "         Value\nMSE   1.564351\nRMSE  1.250740\nR2    0.987251",
      "text/html": "<div>\n<style scoped>\n    .dataframe tbody tr th:only-of-type {\n        vertical-align: middle;\n    }\n\n    .dataframe tbody tr th {\n        vertical-align: top;\n    }\n\n    .dataframe thead th {\n        text-align: right;\n    }\n</style>\n<table border=\"1\" class=\"dataframe\">\n  <thead>\n    <tr style=\"text-align: right;\">\n      <th></th>\n      <th>Value</th>\n    </tr>\n  </thead>\n  <tbody>\n    <tr>\n      <th>MSE</th>\n      <td>1.564351</td>\n    </tr>\n    <tr>\n      <th>RMSE</th>\n      <td>1.250740</td>\n    </tr>\n    <tr>\n      <th>R2</th>\n      <td>0.987251</td>\n    </tr>\n  </tbody>\n</table>\n</div>"
     },
     "execution_count": 60,
     "metadata": {},
     "output_type": "execute_result"
    }
   ],
   "source": [
    "#Evaluation\n",
    "from sklearn.metrics import mean_squared_error, r2_score\n",
    "y_test_pred = reg.predict(x_test)\n",
    "\n",
    "mse_error = mean_squared_error(y_train, y_test_pred)\n",
    "rmse = np.sqrt(mse_error)\n",
    "r2_error = r2_score(y_train, y_test_pred)\n",
    "\n",
    "errors = pd.DataFrame({'Value': [mse_error, rmse, r2_error]}, index=['MSE', 'RMSE', 'R2'])\n",
    "errors"
   ],
   "metadata": {
    "collapsed": false,
    "pycharm": {
     "name": "#%%\n"
    }
   }
  },
  {
   "cell_type": "code",
   "execution_count": 67,
   "outputs": [],
   "source": [
    "#Save Predictions\n",
    "prediction = pd.DataFrame(y_test_pred, columns=['Apparent Temperature (C)'])\n",
    "prediction.to_csv('prediction.csv', index=False)"
   ],
   "metadata": {
    "collapsed": false,
    "pycharm": {
     "name": "#%%\n"
    }
   }
  },
  {
   "cell_type": "code",
   "execution_count": null,
   "outputs": [],
   "source": [],
   "metadata": {
    "collapsed": false,
    "pycharm": {
     "name": "#%%\n"
    }
   }
  }
 ],
 "metadata": {
  "kernelspec": {
   "display_name": "Python 3",
   "language": "python",
   "name": "python3"
  },
  "language_info": {
   "codemirror_mode": {
    "name": "ipython",
    "version": 2
   },
   "file_extension": ".py",
   "mimetype": "text/x-python",
   "name": "python",
   "nbconvert_exporter": "python",
   "pygments_lexer": "ipython2",
   "version": "2.7.6"
  }
 },
 "nbformat": 4,
 "nbformat_minor": 0
}