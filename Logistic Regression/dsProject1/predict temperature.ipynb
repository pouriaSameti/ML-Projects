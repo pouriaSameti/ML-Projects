{
 "cells": [
  {
   "cell_type": "code",
   "execution_count": 167,
   "outputs": [],
   "source": [
    "import numpy as np\n",
    "import pandas as pd"
   ],
   "metadata": {
    "collapsed": false,
    "pycharm": {
     "name": "#%%\n"
    }
   }
  },
  {
   "cell_type": "code",
   "execution_count": 168,
   "outputs": [],
   "source": [
    "train_set = pd.read_csv('../../Datasets/weatherHistory/weatherHistory_Train.csv')\n",
    "test_set = pd.read_csv('../../Datasets/weatherHistory/weatherHistory_Train.csv')"
   ],
   "metadata": {
    "collapsed": false,
    "pycharm": {
     "name": "#%%\n"
    }
   }
  },
  {
   "cell_type": "code",
   "execution_count": 169,
   "outputs": [
    {
     "data": {
      "text/plain": "                      Formatted Date        Summary Precip Type  \\\n0      2006-04-01 00:00:00.000 +0200  Partly Cloudy        rain   \n1      2006-04-01 01:00:00.000 +0200  Partly Cloudy        rain   \n2      2006-04-01 02:00:00.000 +0200  Mostly Cloudy        rain   \n3      2006-04-01 03:00:00.000 +0200  Partly Cloudy        rain   \n4      2006-04-01 04:00:00.000 +0200  Mostly Cloudy        rain   \n...                              ...            ...         ...   \n67512  2013-05-20 01:00:00.000 +0200  Mostly Cloudy        rain   \n67513  2013-05-20 02:00:00.000 +0200  Partly Cloudy        rain   \n67514  2013-05-20 03:00:00.000 +0200  Partly Cloudy        rain   \n67515  2013-05-20 04:00:00.000 +0200  Partly Cloudy        rain   \n67516  2013-05-20 05:00:00.000 +0200  Partly Cloudy        rain   \n\n       Temperature (C)  Apparent Temperature (C)  Humidity  Wind Speed (km/h)  \\\n0             9.472222                  7.388889      0.89            14.1197   \n1             9.355556                  7.227778      0.86            14.2646   \n2             9.377778                  9.377778      0.89             3.9284   \n3             8.288889                  5.944444      0.83            14.1036   \n4             8.755556                  6.977778      0.83            11.0446   \n...                ...                       ...       ...                ...   \n67512        17.594444                 17.594444      0.84            10.6421   \n67513        17.566667                 17.566667      0.80            13.5723   \n67514        17.000000                 17.000000      0.81            14.0392   \n67515        15.355556                 15.355556      0.78            14.0231   \n67516        14.272222                 14.272222      0.85            10.7065   \n\n       Wind Bearing (degrees)  Visibility (km)  Loud Cover  \\\n0                       251.0          15.8263         0.0   \n1                       259.0          15.8263         0.0   \n2                       204.0          14.9569         0.0   \n3                       269.0          15.8263         0.0   \n4                       259.0          15.8263         0.0   \n...                       ...              ...         ...   \n67512                   279.0           9.9820         0.0   \n67513                   269.0          11.0285         0.0   \n67514                   260.0          15.8263         0.0   \n67515                   250.0          15.8263         0.0   \n67516                   227.0          14.9569         0.0   \n\n       Pressure (millibars)                      Daily Summary  \n0                   1015.13  Partly cloudy throughout the day.  \n1                   1015.63  Partly cloudy throughout the day.  \n2                   1015.94  Partly cloudy throughout the day.  \n3                   1016.41  Partly cloudy throughout the day.  \n4                   1016.51  Partly cloudy throughout the day.  \n...                     ...                                ...  \n67512               1010.25  Partly cloudy throughout the day.  \n67513               1011.30  Partly cloudy throughout the day.  \n67514               1011.82  Partly cloudy throughout the day.  \n67515               1011.83  Partly cloudy throughout the day.  \n67516               1012.85  Partly cloudy throughout the day.  \n\n[67517 rows x 12 columns]",
      "text/html": "<div>\n<style scoped>\n    .dataframe tbody tr th:only-of-type {\n        vertical-align: middle;\n    }\n\n    .dataframe tbody tr th {\n        vertical-align: top;\n    }\n\n    .dataframe thead th {\n        text-align: right;\n    }\n</style>\n<table border=\"1\" class=\"dataframe\">\n  <thead>\n    <tr style=\"text-align: right;\">\n      <th></th>\n      <th>Formatted Date</th>\n      <th>Summary</th>\n      <th>Precip Type</th>\n      <th>Temperature (C)</th>\n      <th>Apparent Temperature (C)</th>\n      <th>Humidity</th>\n      <th>Wind Speed (km/h)</th>\n      <th>Wind Bearing (degrees)</th>\n      <th>Visibility (km)</th>\n      <th>Loud Cover</th>\n      <th>Pressure (millibars)</th>\n      <th>Daily Summary</th>\n    </tr>\n  </thead>\n  <tbody>\n    <tr>\n      <th>0</th>\n      <td>2006-04-01 00:00:00.000 +0200</td>\n      <td>Partly Cloudy</td>\n      <td>rain</td>\n      <td>9.472222</td>\n      <td>7.388889</td>\n      <td>0.89</td>\n      <td>14.1197</td>\n      <td>251.0</td>\n      <td>15.8263</td>\n      <td>0.0</td>\n      <td>1015.13</td>\n      <td>Partly cloudy throughout the day.</td>\n    </tr>\n    <tr>\n      <th>1</th>\n      <td>2006-04-01 01:00:00.000 +0200</td>\n      <td>Partly Cloudy</td>\n      <td>rain</td>\n      <td>9.355556</td>\n      <td>7.227778</td>\n      <td>0.86</td>\n      <td>14.2646</td>\n      <td>259.0</td>\n      <td>15.8263</td>\n      <td>0.0</td>\n      <td>1015.63</td>\n      <td>Partly cloudy throughout the day.</td>\n    </tr>\n    <tr>\n      <th>2</th>\n      <td>2006-04-01 02:00:00.000 +0200</td>\n      <td>Mostly Cloudy</td>\n      <td>rain</td>\n      <td>9.377778</td>\n      <td>9.377778</td>\n      <td>0.89</td>\n      <td>3.9284</td>\n      <td>204.0</td>\n      <td>14.9569</td>\n      <td>0.0</td>\n      <td>1015.94</td>\n      <td>Partly cloudy throughout the day.</td>\n    </tr>\n    <tr>\n      <th>3</th>\n      <td>2006-04-01 03:00:00.000 +0200</td>\n      <td>Partly Cloudy</td>\n      <td>rain</td>\n      <td>8.288889</td>\n      <td>5.944444</td>\n      <td>0.83</td>\n      <td>14.1036</td>\n      <td>269.0</td>\n      <td>15.8263</td>\n      <td>0.0</td>\n      <td>1016.41</td>\n      <td>Partly cloudy throughout the day.</td>\n    </tr>\n    <tr>\n      <th>4</th>\n      <td>2006-04-01 04:00:00.000 +0200</td>\n      <td>Mostly Cloudy</td>\n      <td>rain</td>\n      <td>8.755556</td>\n      <td>6.977778</td>\n      <td>0.83</td>\n      <td>11.0446</td>\n      <td>259.0</td>\n      <td>15.8263</td>\n      <td>0.0</td>\n      <td>1016.51</td>\n      <td>Partly cloudy throughout the day.</td>\n    </tr>\n    <tr>\n      <th>...</th>\n      <td>...</td>\n      <td>...</td>\n      <td>...</td>\n      <td>...</td>\n      <td>...</td>\n      <td>...</td>\n      <td>...</td>\n      <td>...</td>\n      <td>...</td>\n      <td>...</td>\n      <td>...</td>\n      <td>...</td>\n    </tr>\n    <tr>\n      <th>67512</th>\n      <td>2013-05-20 01:00:00.000 +0200</td>\n      <td>Mostly Cloudy</td>\n      <td>rain</td>\n      <td>17.594444</td>\n      <td>17.594444</td>\n      <td>0.84</td>\n      <td>10.6421</td>\n      <td>279.0</td>\n      <td>9.9820</td>\n      <td>0.0</td>\n      <td>1010.25</td>\n      <td>Partly cloudy throughout the day.</td>\n    </tr>\n    <tr>\n      <th>67513</th>\n      <td>2013-05-20 02:00:00.000 +0200</td>\n      <td>Partly Cloudy</td>\n      <td>rain</td>\n      <td>17.566667</td>\n      <td>17.566667</td>\n      <td>0.80</td>\n      <td>13.5723</td>\n      <td>269.0</td>\n      <td>11.0285</td>\n      <td>0.0</td>\n      <td>1011.30</td>\n      <td>Partly cloudy throughout the day.</td>\n    </tr>\n    <tr>\n      <th>67514</th>\n      <td>2013-05-20 03:00:00.000 +0200</td>\n      <td>Partly Cloudy</td>\n      <td>rain</td>\n      <td>17.000000</td>\n      <td>17.000000</td>\n      <td>0.81</td>\n      <td>14.0392</td>\n      <td>260.0</td>\n      <td>15.8263</td>\n      <td>0.0</td>\n      <td>1011.82</td>\n      <td>Partly cloudy throughout the day.</td>\n    </tr>\n    <tr>\n      <th>67515</th>\n      <td>2013-05-20 04:00:00.000 +0200</td>\n      <td>Partly Cloudy</td>\n      <td>rain</td>\n      <td>15.355556</td>\n      <td>15.355556</td>\n      <td>0.78</td>\n      <td>14.0231</td>\n      <td>250.0</td>\n      <td>15.8263</td>\n      <td>0.0</td>\n      <td>1011.83</td>\n      <td>Partly cloudy throughout the day.</td>\n    </tr>\n    <tr>\n      <th>67516</th>\n      <td>2013-05-20 05:00:00.000 +0200</td>\n      <td>Partly Cloudy</td>\n      <td>rain</td>\n      <td>14.272222</td>\n      <td>14.272222</td>\n      <td>0.85</td>\n      <td>10.7065</td>\n      <td>227.0</td>\n      <td>14.9569</td>\n      <td>0.0</td>\n      <td>1012.85</td>\n      <td>Partly cloudy throughout the day.</td>\n    </tr>\n  </tbody>\n</table>\n<p>67517 rows × 12 columns</p>\n</div>"
     },
     "execution_count": 169,
     "metadata": {},
     "output_type": "execute_result"
    }
   ],
   "source": [
    "train_set"
   ],
   "metadata": {
    "collapsed": false,
    "pycharm": {
     "name": "#%%\n"
    }
   }
  },
  {
   "cell_type": "code",
   "execution_count": 170,
   "outputs": [],
   "source": [
    "# filing NAN values\n",
    "\n",
    "def replace_categorical_null(cols: list, dataset: pd.DataFrame):\n",
    "    for col in cols:\n",
    "        temp = dataset[col].dropna()\n",
    "        mode = temp.mode()[0]\n",
    "        dataset[col].fillna(mode, inplace=True)\n",
    "\n",
    "na_cols = list(train_set.columns[train_set.isnull().any()])\n",
    "replace_categorical_null(na_cols, train_set)\n",
    "\n",
    "na_cols_test = list(test_set.columns[test_set.isnull().any()])\n",
    "replace_categorical_null(na_cols_test, test_set)"
   ],
   "metadata": {
    "collapsed": false,
    "pycharm": {
     "name": "#%%\n"
    }
   }
  },
  {
   "cell_type": "code",
   "execution_count": 171,
   "outputs": [],
   "source": [
    "# Encoding Categorical Columns\n",
    "from sklearn.preprocessing import LabelEncoder\n",
    "\n",
    "def encode_labels(cols: list, dataset: pd.DataFrame, source: pd.DataFrame):\n",
    "    encoder = LabelEncoder()\n",
    "    for col in cols:\n",
    "        encoder.fit(source[col])\n",
    "        dataset[col] = pd.DataFrame(encoder.fit_transform(dataset[col]))\n",
    "\n",
    "\n",
    "# train_categorical_cols = list(train_set.select_dtypes(include=['object']).dtypes.index)\n",
    "train_categorical_cols = ['Summary', 'Precip Type', 'Daily Summary']\n",
    "test_categorical_cols = ['Summary', 'Precip Type', 'Daily Summary']\n",
    "\n",
    "all_data = pd.concat([train_set[train_categorical_cols] , test_set[test_categorical_cols]])\n",
    "\n",
    "encode_labels(train_categorical_cols, train_set, all_data)\n",
    "encode_labels(test_categorical_cols, test_set, all_data)"
   ],
   "metadata": {
    "collapsed": false,
    "pycharm": {
     "name": "#%%\n"
    }
   }
  },
  {
   "cell_type": "code",
   "execution_count": 172,
   "outputs": [
    {
     "data": {
      "text/plain": "                      Formatted Date  Summary  Precip Type  Temperature (C)  \\\n0      2006-04-01 00:00:00.000 +0200       19            0         9.472222   \n1      2006-04-01 01:00:00.000 +0200       19            0         9.355556   \n2      2006-04-01 02:00:00.000 +0200       17            0         9.377778   \n3      2006-04-01 03:00:00.000 +0200       19            0         8.288889   \n4      2006-04-01 04:00:00.000 +0200       17            0         8.755556   \n...                              ...      ...          ...              ...   \n67512  2013-05-20 01:00:00.000 +0200       17            0        17.594444   \n67513  2013-05-20 02:00:00.000 +0200       19            0        17.566667   \n67514  2013-05-20 03:00:00.000 +0200       19            0        17.000000   \n67515  2013-05-20 04:00:00.000 +0200       19            0        15.355556   \n67516  2013-05-20 05:00:00.000 +0200       19            0        14.272222   \n\n       Apparent Temperature (C)  Humidity  Wind Speed (km/h)  \\\n0                      7.388889      0.89            14.1197   \n1                      7.227778      0.86            14.2646   \n2                      9.377778      0.89             3.9284   \n3                      5.944444      0.83            14.1036   \n4                      6.977778      0.83            11.0446   \n...                         ...       ...                ...   \n67512                 17.594444      0.84            10.6421   \n67513                 17.566667      0.80            13.5723   \n67514                 17.000000      0.81            14.0392   \n67515                 15.355556      0.78            14.0231   \n67516                 14.272222      0.85            10.7065   \n\n       Wind Bearing (degrees)  Visibility (km)  Loud Cover  \\\n0                       251.0          15.8263         0.0   \n1                       259.0          15.8263         0.0   \n2                       204.0          14.9569         0.0   \n3                       269.0          15.8263         0.0   \n4                       259.0          15.8263         0.0   \n...                       ...              ...         ...   \n67512                   279.0           9.9820         0.0   \n67513                   269.0          11.0285         0.0   \n67514                   260.0          15.8263         0.0   \n67515                   250.0          15.8263         0.0   \n67516                   227.0          14.9569         0.0   \n\n       Pressure (millibars)  Daily Summary  \n0                   1015.13            169  \n1                   1015.63            169  \n2                   1015.94            169  \n3                   1016.41            169  \n4                   1016.51            169  \n...                     ...            ...  \n67512               1010.25            169  \n67513               1011.30            169  \n67514               1011.82            169  \n67515               1011.83            169  \n67516               1012.85            169  \n\n[67517 rows x 12 columns]",
      "text/html": "<div>\n<style scoped>\n    .dataframe tbody tr th:only-of-type {\n        vertical-align: middle;\n    }\n\n    .dataframe tbody tr th {\n        vertical-align: top;\n    }\n\n    .dataframe thead th {\n        text-align: right;\n    }\n</style>\n<table border=\"1\" class=\"dataframe\">\n  <thead>\n    <tr style=\"text-align: right;\">\n      <th></th>\n      <th>Formatted Date</th>\n      <th>Summary</th>\n      <th>Precip Type</th>\n      <th>Temperature (C)</th>\n      <th>Apparent Temperature (C)</th>\n      <th>Humidity</th>\n      <th>Wind Speed (km/h)</th>\n      <th>Wind Bearing (degrees)</th>\n      <th>Visibility (km)</th>\n      <th>Loud Cover</th>\n      <th>Pressure (millibars)</th>\n      <th>Daily Summary</th>\n    </tr>\n  </thead>\n  <tbody>\n    <tr>\n      <th>0</th>\n      <td>2006-04-01 00:00:00.000 +0200</td>\n      <td>19</td>\n      <td>0</td>\n      <td>9.472222</td>\n      <td>7.388889</td>\n      <td>0.89</td>\n      <td>14.1197</td>\n      <td>251.0</td>\n      <td>15.8263</td>\n      <td>0.0</td>\n      <td>1015.13</td>\n      <td>169</td>\n    </tr>\n    <tr>\n      <th>1</th>\n      <td>2006-04-01 01:00:00.000 +0200</td>\n      <td>19</td>\n      <td>0</td>\n      <td>9.355556</td>\n      <td>7.227778</td>\n      <td>0.86</td>\n      <td>14.2646</td>\n      <td>259.0</td>\n      <td>15.8263</td>\n      <td>0.0</td>\n      <td>1015.63</td>\n      <td>169</td>\n    </tr>\n    <tr>\n      <th>2</th>\n      <td>2006-04-01 02:00:00.000 +0200</td>\n      <td>17</td>\n      <td>0</td>\n      <td>9.377778</td>\n      <td>9.377778</td>\n      <td>0.89</td>\n      <td>3.9284</td>\n      <td>204.0</td>\n      <td>14.9569</td>\n      <td>0.0</td>\n      <td>1015.94</td>\n      <td>169</td>\n    </tr>\n    <tr>\n      <th>3</th>\n      <td>2006-04-01 03:00:00.000 +0200</td>\n      <td>19</td>\n      <td>0</td>\n      <td>8.288889</td>\n      <td>5.944444</td>\n      <td>0.83</td>\n      <td>14.1036</td>\n      <td>269.0</td>\n      <td>15.8263</td>\n      <td>0.0</td>\n      <td>1016.41</td>\n      <td>169</td>\n    </tr>\n    <tr>\n      <th>4</th>\n      <td>2006-04-01 04:00:00.000 +0200</td>\n      <td>17</td>\n      <td>0</td>\n      <td>8.755556</td>\n      <td>6.977778</td>\n      <td>0.83</td>\n      <td>11.0446</td>\n      <td>259.0</td>\n      <td>15.8263</td>\n      <td>0.0</td>\n      <td>1016.51</td>\n      <td>169</td>\n    </tr>\n    <tr>\n      <th>...</th>\n      <td>...</td>\n      <td>...</td>\n      <td>...</td>\n      <td>...</td>\n      <td>...</td>\n      <td>...</td>\n      <td>...</td>\n      <td>...</td>\n      <td>...</td>\n      <td>...</td>\n      <td>...</td>\n      <td>...</td>\n    </tr>\n    <tr>\n      <th>67512</th>\n      <td>2013-05-20 01:00:00.000 +0200</td>\n      <td>17</td>\n      <td>0</td>\n      <td>17.594444</td>\n      <td>17.594444</td>\n      <td>0.84</td>\n      <td>10.6421</td>\n      <td>279.0</td>\n      <td>9.9820</td>\n      <td>0.0</td>\n      <td>1010.25</td>\n      <td>169</td>\n    </tr>\n    <tr>\n      <th>67513</th>\n      <td>2013-05-20 02:00:00.000 +0200</td>\n      <td>19</td>\n      <td>0</td>\n      <td>17.566667</td>\n      <td>17.566667</td>\n      <td>0.80</td>\n      <td>13.5723</td>\n      <td>269.0</td>\n      <td>11.0285</td>\n      <td>0.0</td>\n      <td>1011.30</td>\n      <td>169</td>\n    </tr>\n    <tr>\n      <th>67514</th>\n      <td>2013-05-20 03:00:00.000 +0200</td>\n      <td>19</td>\n      <td>0</td>\n      <td>17.000000</td>\n      <td>17.000000</td>\n      <td>0.81</td>\n      <td>14.0392</td>\n      <td>260.0</td>\n      <td>15.8263</td>\n      <td>0.0</td>\n      <td>1011.82</td>\n      <td>169</td>\n    </tr>\n    <tr>\n      <th>67515</th>\n      <td>2013-05-20 04:00:00.000 +0200</td>\n      <td>19</td>\n      <td>0</td>\n      <td>15.355556</td>\n      <td>15.355556</td>\n      <td>0.78</td>\n      <td>14.0231</td>\n      <td>250.0</td>\n      <td>15.8263</td>\n      <td>0.0</td>\n      <td>1011.83</td>\n      <td>169</td>\n    </tr>\n    <tr>\n      <th>67516</th>\n      <td>2013-05-20 05:00:00.000 +0200</td>\n      <td>19</td>\n      <td>0</td>\n      <td>14.272222</td>\n      <td>14.272222</td>\n      <td>0.85</td>\n      <td>10.7065</td>\n      <td>227.0</td>\n      <td>14.9569</td>\n      <td>0.0</td>\n      <td>1012.85</td>\n      <td>169</td>\n    </tr>\n  </tbody>\n</table>\n<p>67517 rows × 12 columns</p>\n</div>"
     },
     "execution_count": 172,
     "metadata": {},
     "output_type": "execute_result"
    }
   ],
   "source": [
    "train_set"
   ],
   "metadata": {
    "collapsed": false,
    "pycharm": {
     "name": "#%%\n"
    }
   }
  },
  {
   "cell_type": "code",
   "execution_count": 173,
   "outputs": [],
   "source": [
    "# set the date format for 'Formatted Data' column\n",
    "from datetime import datetime as dt\n",
    "\n",
    "formate = '%Y-%m-%d %H:%M:%S.%f %z'\n",
    "train_set['Formatted Date'] = train_set['Formatted Date'].map(lambda x: dt.strptime(x, formate))\n",
    "test_set['Formatted Date'] = test_set['Formatted Date'].map(lambda x: dt.strptime(x, formate))"
   ],
   "metadata": {
    "collapsed": false,
    "pycharm": {
     "name": "#%%\n"
    }
   }
  },
  {
   "cell_type": "code",
   "execution_count": 174,
   "outputs": [],
   "source": [
    "# Extraction Of Data & time Features\n",
    "\n",
    "train_set['day'] = train_set['Formatted Date'].map(lambda data: data.day)\n",
    "test_set['day'] = test_set['Formatted Date'].map(lambda data: data.day)\n",
    "\n",
    "train_set['month'] = train_set['Formatted Date'].map(lambda data: data.month)\n",
    "test_set['month'] = test_set['Formatted Date'].map(lambda data: data.month)\n",
    "\n",
    "train_set['year'] = train_set['Formatted Date'].map(lambda data: data.year)\n",
    "test_set['year'] = test_set['Formatted Date'].map(lambda data: data.year)\n",
    "\n",
    "train_set['hour'] = train_set['Formatted Date'].map(lambda data: data.hour)\n",
    "test_set['hour'] = test_set['Formatted Date'].map(lambda data: data.hour)\n",
    "\n",
    "train_set = train_set.drop(columns='Formatted Date')\n",
    "test_set = test_set.drop(columns='Formatted Date')"
   ],
   "metadata": {
    "collapsed": false,
    "pycharm": {
     "name": "#%%\n"
    }
   }
  },
  {
   "cell_type": "code",
   "execution_count": 175,
   "outputs": [],
   "source": [
    "# splitting Data\n",
    "y_train = train_set['Apparent Temperature (C)']\n",
    "y_test = test_set['Apparent Temperature (C)']\n",
    "\n",
    "x_train = train_set.drop(columns='Apparent Temperature (C)')\n",
    "x_test = test_set.drop(columns='Apparent Temperature (C)')"
   ],
   "metadata": {
    "collapsed": false,
    "pycharm": {
     "name": "#%%\n"
    }
   }
  },
  {
   "cell_type": "code",
   "execution_count": 176,
   "outputs": [],
   "source": [
    "# Feature Scaling\n",
    "from sklearn.preprocessing import MinMaxScaler\n",
    "\n",
    "scaler = MinMaxScaler()\n",
    "x_train = pd.DataFrame(scaler.fit_transform(x_train), columns=x_train.columns)\n",
    "x_test = pd.DataFrame(scaler.fit_transform(x_test), columns=x_test.columns)"
   ],
   "metadata": {
    "collapsed": false,
    "pycharm": {
     "name": "#%%\n"
    }
   }
  },
  {
   "cell_type": "code",
   "execution_count": 177,
   "outputs": [
    {
     "data": {
      "text/plain": "       Summary  Precip Type  Temperature (C)  Humidity  Wind Speed (km/h)  \\\n0         0.76          0.0         0.506975      0.89           0.221130   \n1         0.76          0.0         0.505085      0.86           0.223399   \n2         0.68          0.0         0.505445      0.89           0.061523   \n3         0.76          0.0         0.487805      0.83           0.220877   \n4         0.68          0.0         0.495365      0.83           0.172970   \n...        ...          ...              ...       ...                ...   \n67512     0.68          0.0         0.638556      0.84           0.166667   \n67513     0.76          0.0         0.638106      0.80           0.212557   \n67514     0.76          0.0         0.628926      0.81           0.219869   \n67515     0.76          0.0         0.602286      0.78           0.219617   \n67516     0.76          0.0         0.584736      0.85           0.167675   \n\n       Wind Bearing (degrees)  Visibility (km)  Loud Cover  \\\n0                    0.699164            0.983         0.0   \n1                    0.721448            0.983         0.0   \n2                    0.568245            0.929         0.0   \n3                    0.749304            0.983         0.0   \n4                    0.721448            0.983         0.0   \n...                       ...              ...         ...   \n67512                0.777159            0.620         0.0   \n67513                0.749304            0.685         0.0   \n67514                0.724234            0.983         0.0   \n67515                0.696379            0.983         0.0   \n67516                0.632312            0.929         0.0   \n\n       Pressure (millibars)  Daily Summary       day     month  year      hour  \n0                  0.970135       0.938889  0.000000  0.272727   0.0  0.000000  \n1                  0.970613       0.938889  0.000000  0.272727   0.0  0.043478  \n2                  0.970909       0.938889  0.000000  0.272727   0.0  0.086957  \n3                  0.971358       0.938889  0.000000  0.272727   0.0  0.130435  \n4                  0.971454       0.938889  0.000000  0.272727   0.0  0.173913  \n...                     ...            ...       ...       ...   ...       ...  \n67512              0.965471       0.938889  0.633333  0.363636   1.0  0.043478  \n67513              0.966475       0.938889  0.633333  0.363636   1.0  0.086957  \n67514              0.966972       0.938889  0.633333  0.363636   1.0  0.130435  \n67515              0.966981       0.938889  0.633333  0.363636   1.0  0.173913  \n67516              0.967956       0.938889  0.633333  0.363636   1.0  0.217391  \n\n[67517 rows x 14 columns]",
      "text/html": "<div>\n<style scoped>\n    .dataframe tbody tr th:only-of-type {\n        vertical-align: middle;\n    }\n\n    .dataframe tbody tr th {\n        vertical-align: top;\n    }\n\n    .dataframe thead th {\n        text-align: right;\n    }\n</style>\n<table border=\"1\" class=\"dataframe\">\n  <thead>\n    <tr style=\"text-align: right;\">\n      <th></th>\n      <th>Summary</th>\n      <th>Precip Type</th>\n      <th>Temperature (C)</th>\n      <th>Humidity</th>\n      <th>Wind Speed (km/h)</th>\n      <th>Wind Bearing (degrees)</th>\n      <th>Visibility (km)</th>\n      <th>Loud Cover</th>\n      <th>Pressure (millibars)</th>\n      <th>Daily Summary</th>\n      <th>day</th>\n      <th>month</th>\n      <th>year</th>\n      <th>hour</th>\n    </tr>\n  </thead>\n  <tbody>\n    <tr>\n      <th>0</th>\n      <td>0.76</td>\n      <td>0.0</td>\n      <td>0.506975</td>\n      <td>0.89</td>\n      <td>0.221130</td>\n      <td>0.699164</td>\n      <td>0.983</td>\n      <td>0.0</td>\n      <td>0.970135</td>\n      <td>0.938889</td>\n      <td>0.000000</td>\n      <td>0.272727</td>\n      <td>0.0</td>\n      <td>0.000000</td>\n    </tr>\n    <tr>\n      <th>1</th>\n      <td>0.76</td>\n      <td>0.0</td>\n      <td>0.505085</td>\n      <td>0.86</td>\n      <td>0.223399</td>\n      <td>0.721448</td>\n      <td>0.983</td>\n      <td>0.0</td>\n      <td>0.970613</td>\n      <td>0.938889</td>\n      <td>0.000000</td>\n      <td>0.272727</td>\n      <td>0.0</td>\n      <td>0.043478</td>\n    </tr>\n    <tr>\n      <th>2</th>\n      <td>0.68</td>\n      <td>0.0</td>\n      <td>0.505445</td>\n      <td>0.89</td>\n      <td>0.061523</td>\n      <td>0.568245</td>\n      <td>0.929</td>\n      <td>0.0</td>\n      <td>0.970909</td>\n      <td>0.938889</td>\n      <td>0.000000</td>\n      <td>0.272727</td>\n      <td>0.0</td>\n      <td>0.086957</td>\n    </tr>\n    <tr>\n      <th>3</th>\n      <td>0.76</td>\n      <td>0.0</td>\n      <td>0.487805</td>\n      <td>0.83</td>\n      <td>0.220877</td>\n      <td>0.749304</td>\n      <td>0.983</td>\n      <td>0.0</td>\n      <td>0.971358</td>\n      <td>0.938889</td>\n      <td>0.000000</td>\n      <td>0.272727</td>\n      <td>0.0</td>\n      <td>0.130435</td>\n    </tr>\n    <tr>\n      <th>4</th>\n      <td>0.68</td>\n      <td>0.0</td>\n      <td>0.495365</td>\n      <td>0.83</td>\n      <td>0.172970</td>\n      <td>0.721448</td>\n      <td>0.983</td>\n      <td>0.0</td>\n      <td>0.971454</td>\n      <td>0.938889</td>\n      <td>0.000000</td>\n      <td>0.272727</td>\n      <td>0.0</td>\n      <td>0.173913</td>\n    </tr>\n    <tr>\n      <th>...</th>\n      <td>...</td>\n      <td>...</td>\n      <td>...</td>\n      <td>...</td>\n      <td>...</td>\n      <td>...</td>\n      <td>...</td>\n      <td>...</td>\n      <td>...</td>\n      <td>...</td>\n      <td>...</td>\n      <td>...</td>\n      <td>...</td>\n      <td>...</td>\n    </tr>\n    <tr>\n      <th>67512</th>\n      <td>0.68</td>\n      <td>0.0</td>\n      <td>0.638556</td>\n      <td>0.84</td>\n      <td>0.166667</td>\n      <td>0.777159</td>\n      <td>0.620</td>\n      <td>0.0</td>\n      <td>0.965471</td>\n      <td>0.938889</td>\n      <td>0.633333</td>\n      <td>0.363636</td>\n      <td>1.0</td>\n      <td>0.043478</td>\n    </tr>\n    <tr>\n      <th>67513</th>\n      <td>0.76</td>\n      <td>0.0</td>\n      <td>0.638106</td>\n      <td>0.80</td>\n      <td>0.212557</td>\n      <td>0.749304</td>\n      <td>0.685</td>\n      <td>0.0</td>\n      <td>0.966475</td>\n      <td>0.938889</td>\n      <td>0.633333</td>\n      <td>0.363636</td>\n      <td>1.0</td>\n      <td>0.086957</td>\n    </tr>\n    <tr>\n      <th>67514</th>\n      <td>0.76</td>\n      <td>0.0</td>\n      <td>0.628926</td>\n      <td>0.81</td>\n      <td>0.219869</td>\n      <td>0.724234</td>\n      <td>0.983</td>\n      <td>0.0</td>\n      <td>0.966972</td>\n      <td>0.938889</td>\n      <td>0.633333</td>\n      <td>0.363636</td>\n      <td>1.0</td>\n      <td>0.130435</td>\n    </tr>\n    <tr>\n      <th>67515</th>\n      <td>0.76</td>\n      <td>0.0</td>\n      <td>0.602286</td>\n      <td>0.78</td>\n      <td>0.219617</td>\n      <td>0.696379</td>\n      <td>0.983</td>\n      <td>0.0</td>\n      <td>0.966981</td>\n      <td>0.938889</td>\n      <td>0.633333</td>\n      <td>0.363636</td>\n      <td>1.0</td>\n      <td>0.173913</td>\n    </tr>\n    <tr>\n      <th>67516</th>\n      <td>0.76</td>\n      <td>0.0</td>\n      <td>0.584736</td>\n      <td>0.85</td>\n      <td>0.167675</td>\n      <td>0.632312</td>\n      <td>0.929</td>\n      <td>0.0</td>\n      <td>0.967956</td>\n      <td>0.938889</td>\n      <td>0.633333</td>\n      <td>0.363636</td>\n      <td>1.0</td>\n      <td>0.217391</td>\n    </tr>\n  </tbody>\n</table>\n<p>67517 rows × 14 columns</p>\n</div>"
     },
     "execution_count": 177,
     "metadata": {},
     "output_type": "execute_result"
    }
   ],
   "source": [
    "x_train"
   ],
   "metadata": {
    "collapsed": false,
    "pycharm": {
     "name": "#%%\n"
    }
   }
  },
  {
   "cell_type": "code",
   "execution_count": null,
   "outputs": [],
   "source": [],
   "metadata": {
    "collapsed": false,
    "pycharm": {
     "name": "#%%\n"
    }
   }
  }
 ],
 "metadata": {
  "kernelspec": {
   "display_name": "Python 3",
   "language": "python",
   "name": "python3"
  },
  "language_info": {
   "codemirror_mode": {
    "name": "ipython",
    "version": 2
   },
   "file_extension": ".py",
   "mimetype": "text/x-python",
   "name": "python",
   "nbconvert_exporter": "python",
   "pygments_lexer": "ipython2",
   "version": "2.7.6"
  }
 },
 "nbformat": 4,
 "nbformat_minor": 0
}